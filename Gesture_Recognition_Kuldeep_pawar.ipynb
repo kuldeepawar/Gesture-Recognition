{
 "cells": [
  {
   "cell_type": "markdown",
   "metadata": {},
   "source": [
    "# <b style=\"color:blue\">Deep Learning Project- Gesture Recognition</b>"
   ]
  },
  {
   "cell_type": "markdown",
   "metadata": {},
   "source": [
    "## Project Members\n",
    "### \tKuldeep Pawar\n",
    "### \tKuldeep Pawar\n"
   ]
  },
  {
   "cell_type": "markdown",
   "metadata": {},
   "source": [
    "# <b style=\"color:red\"> Problem statement</b>"
   ]
  },
  {
   "attachments": {
    "a4c49764-0848-4f0f-ba1c-5d0757f5df38.png": {
     "image/png": "[encoded data removed]"
    }
   },
   "cell_type": "markdown",
   "metadata": {},
   "source": [
    "> As a data scientist at a home electronics company which manufactures state of the art smart televisions. We want to develop a cool feature in the smart-TV that can recognize five different gestures performed by the user which will help users control the TV without using a remote. \n",
    "\n",
    "![image.png](attachment:a4c49764-0848-4f0f-ba1c-5d0757f5df38.png)"
   ]
  },
  {
   "cell_type": "markdown",
   "metadata": {},
   "source": [
    "# <b style=\"color:red\"> Understanding the Dataset</b>\n",
    "\n",
    "> Data Source : https://drive.google.com/uc?id=1ehyrYBQ5rbQQe6yL4XbLWe3FMvuVUGiL\n",
    "\n",
    "> The training data consists of a few hundred videos categorised into one of the five classes. Each video (typically 2-3 seconds long) is divided into a sequence of 30 frames(images). These videos have been recorded by various people performing one of the five gestures in front of a webcam - similar to what the smart TV will use. "
   ]
  },
  {
   "cell_type": "markdown",
   "metadata": {},
   "source": [
    "# <b style=\"color:red\"> Objective </b>\n",
    "\n",
    "> Our task is to train different models on the 'train' folder to predict the action performed in each sequence or video and which performs well on the 'val' folder as well. The final test folder for evaluation is withheld - final model's performance will be tested on the 'test' set."
   ]
  },
  {
   "cell_type": "markdown",
   "metadata": {},
   "source": [
    "# <b style=\"color:red\"> Two Architectures: 3D Conv and CNN-RNN Stack </b>\n",
    "\n",
    "> 1.\tCNN + RNN architecture \n",
    ">> The conv2D network will extract a feature vector for each image, and a sequence of these feature vectors is then fed to an RNN-based network. The output of the RNN is a regular softmax.\n",
    "\n",
    "> 2.\t3D Convolutional Neural Networks (Conv3D)\n",
    ">> In this case, the input to a 3D conv is a video (which is a sequence of 30 RGB images). If we assume that the shape of each image is 100 x 100 x 3, for example, the video becomes a 4D tensor of shape 100 x 100 x 3 x 30 which can be written as (100 x 100 x 30) x 3 where 3 is the number of channels. Hence, deriving the analogy from 2D convolutions where a 2D kernel/filter (a square filter) is represented as (f x f) x c where f is filter size and c is the number of channels, a 3D kernel/filter (a 'cubic' filter) is represented as (f x f x f) x c (here c = 3 since the input images have three channels). This cubic filter will now '3D-convolve' on each of the three channels of the (100 x 100 x 30) tensor"
   ]
  },
  {
   "cell_type": "code",
   "execution_count": 1,
   "metadata": {},
   "outputs": [],
   "source": [
    "# load library\n",
    "import numpy as np\n",
    "import os\n",
    "from imageio import imread\n",
    "from skimage.transform import resize\n",
    "import datetime\n",
    "import os"
   ]
  },
  {
   "cell_type": "markdown",
   "metadata": {},
   "source": [
    ">We set the random seed so that the results don't vary drastically each run of the files."
   ]
  },
  {
   "cell_type": "code",
   "execution_count": 2,
   "metadata": {},
   "outputs": [],
   "source": [
    "np.random.seed(30)\n",
    "import random as rn\n",
    "rn.seed(30)\n",
    "from tensorflow import keras\n",
    "import tensorflow as tf\n",
    "tf.random.set_seed(30)"
   ]
  },
  {
   "cell_type": "markdown",
   "metadata": {},
   "source": [
    "In this block, you read the folder names for training and validation. You also set the `batch_size` here. Note that you set the batch size in such a way that you are able to use the GPU in full capacity. You keep increasing the batch size until the machine throws an error."
   ]
  },
  {
   "cell_type": "markdown",
   "metadata": {},
   "source": [
    "**data path: /home/datasets/Project_data**"
   ]
  },
  {
   "cell_type": "code",
   "execution_count": 3,
   "metadata": {},
   "outputs": [],
   "source": [
    "train_doc = np.random.permutation(open('/home/datasets/Project_data/train.csv').readlines()) #train data details\n",
    "val_doc = np.random.permutation(open('/home/datasets/Project_data/val.csv').readlines())     #validation data details\n",
    "batch_size = 15                                                                              #started with lower batch size"
   ]
  },
  {
   "cell_type": "markdown",
   "metadata": {},
   "source": [
    "## Generator\n",
    "This is one of the most important part of the code. The overall structure of the generator has been given. In the generator, you are going to preprocess the images as you have images of 2 different dimensions as well as create a batch of video frames. You have to experiment with `img_idx`, `y`,`z` and normalization such that you get high accuracy.\n",
    "\n",
    ">Data Processing:\n",
    "\n",
    ">>•\tDeciding on number of images to be taken per video/sequence\n",
    "\n",
    ">>•\tResizing  and cropping the images : This was mainly done to ensure that the Neural network only recognizes the gestures effectively rather than focusing on the other background noise present in the image. We used 120 by 120 image size after experimenting with different sizes.\n",
    "\n",
    ">>•\tNormalizing the images : Normalizing the RGB values of an image can at times be a simple and effective way to get rid of distortions caused by lights and shadows in an image.\n"
   ]
  },
  {
   "cell_type": "code",
   "execution_count": 4,
   "metadata": {},
   "outputs": [],
   "source": [
    "def generator(source_path, folder_list, batch_size):\n",
    "    print( 'Source path = ', source_path, '; batch size =', batch_size)\n",
    "    img_idx = [x for x in range(0,30,2)]#create a list of image numbers you want to use for a particular video, we are not using all the 30 images in a video, selected pickup of images\n",
    "    while True:\n",
    "        t = np.random.permutation(folder_list)\n",
    "        num_batches =int(len(t)/batch_size) # calculate the number of batches\n",
    "        for batch in range(num_batches): # we iterate over the number of batches\n",
    "            x=len(img_idx)\n",
    "            y=120\n",
    "            z=120\n",
    "            batch_data = np.zeros((batch_size,x,y,z,3)) # x is the number of images you use for each video, (y,z) is the final size of the input images and 3 is the number of channels RGB\n",
    "            batch_labels = np.zeros((batch_size,5)) # batch_labels is the one hot representation of the output\n",
    "            cnt_img=0\n",
    "            for folder in range(batch_size): # iterate over the batch_size\n",
    "                imgs = os.listdir(source_path+'/'+ t[folder + (batch*batch_size)].split(';')[0]) # read all the images in the folder\n",
    "                cnt_img+=1\n",
    "                for idx,item in enumerate(img_idx): #  Iterate iver the frames/images of a folder to read them in\n",
    "                    image = imread(source_path+'/'+ t[folder + (batch*batch_size)].strip().split(';')[0]+'/'+imgs[item]).astype(np.float32)\n",
    "                    \n",
    "                    #crop the images and resize them. Note that the images are of 2 different shape \n",
    "                    #and the conv3D will throw error if the inputs in a batch have different shapes\n",
    "                    norm_image=image/255.0\n",
    "                    image_resized=resize(norm_image,(120,120),mode='reflect')\n",
    "                    \n",
    "                    batch_data[folder,idx,:,:,0] = (image_resized[:,:,0])#normalise and feed in the image\n",
    "                    batch_data[folder,idx,:,:,1] = (image_resized[:,:,1])#normalise and feed in the image\n",
    "                    batch_data[folder,idx,:,:,2] = (image_resized[:,:,2])#normalise and feed in the image\n",
    "                    \n",
    "                batch_labels[folder, int(t[folder + (batch*batch_size)].strip().split(';')[2])] = 1\n",
    "            yield batch_data, batch_labels #you yield the batch_data and the batch_labels, remember what does yield do\n",
    "\n",
    "        \n",
    "        # write the code for the remaining data points which are left after full batches\n",
    "        cnt_img=0\n",
    "        batch_cover = num_batches*batch_size\n",
    "        rem = len(t) - batch_cover\n",
    "        if(len(t)!=batch_cover):\n",
    "            for folder in range(rem):\n",
    "                imgs = os.listdir(source_path+'/'+ t[folder + batch_cover].split(';')[0]) # read all the images in the folder\n",
    "                cnt_img+=1\n",
    "                for idx,item in enumerate(img_idx): #  Iterate iver the frames/images of a folder to read them in\n",
    "                    image = imread(source_path+'/'+ t[folder + batch_cover].strip().split(';')[0]+'/'+imgs[item]).astype(np.float32)\n",
    "                    \n",
    "                    #crop the images and resize them. Note that the images are of 2 different shape \n",
    "                    #and the conv3D will throw error if the inputs in a batch have different shapes\n",
    "                    norm_image = image/255.0 # normalizing the image \n",
    "                    image_resized=resize(norm_image, (120,120), mode='reflect')\n",
    "                    \n",
    "                    batch_data[folder,idx,:,:,0] = (image_resized[:,:,0]) #normalise and feed in the image\n",
    "                    batch_data[folder,idx,:,:,1] = (image_resized[:,:,1]) #normalise and feed in the image\n",
    "                    batch_data[folder,idx,:,:,2] = (image_resized[:,:,2]) #normalise and feed in the image\n",
    "                    \n",
    "                batch_labels[folder, int(t[folder + batch_size].strip().split(';')[2])] = 1\n",
    "            yield batch_data, batch_labels #you yield the batch_data and the batch_labels, remember what does yield do\n"
   ]
  },
  {
   "cell_type": "markdown",
   "metadata": {},
   "source": [
    "Note here that a video is represented above in the generator as (number of images, height, width, number of channels). Take this into consideration while creating the model architecture."
   ]
  },
  {
   "cell_type": "code",
   "execution_count": 5,
   "metadata": {},
   "outputs": [
    {
     "name": "stdout",
     "output_type": "stream",
     "text": [
      "# training sequences = 663\n",
      "# validation sequences = 100\n",
      "# epochs = 20\n"
     ]
    }
   ],
   "source": [
    "curr_dt_time = datetime.datetime.now()\n",
    "train_path = '/home/datasets/Project_data/train'\n",
    "val_path = '/home/datasets/Project_data/val'\n",
    "num_train_sequences = len(train_doc)\n",
    "print('# training sequences =', num_train_sequences)\n",
    "num_val_sequences = len(val_doc)\n",
    "print('# validation sequences =', num_val_sequences)\n",
    "num_epochs = 20\n",
    "print ('# epochs =', num_epochs)"
   ]
  },
  {
   "cell_type": "markdown",
   "metadata": {},
   "source": [
    "## Model\n",
    "Here you make the model using different functionalities that Keras provides. Remember to use `Conv3D` and `MaxPooling3D` and not `Conv2D` and `Maxpooling2D` for a 3D convolution model. You would want to use `TimeDistributed` while building a Conv2D + RNN model. Also remember that the last layer is the softmax. Design the network in such a way that the model is able to give good accuracy on the least number of parameters so that it can fit in the memory of the webcam."
   ]
  },
  {
   "cell_type": "code",
   "execution_count": 6,
   "metadata": {},
   "outputs": [],
   "source": [
    "from tensorflow.keras.models import Sequential\n",
    "from tensorflow.keras.layers import Dense, GRU, Dropout, TimeDistributed,Flatten, BatchNormalization, Activation, Conv3D, MaxPooling3D\n",
    "from keras.layers.convolutional import Conv2D,MaxPooling2D\n",
    "from tensorflow.keras.callbacks import ModelCheckpoint, ReduceLROnPlateau\n",
    "from tensorflow.keras import optimizers\n",
    "import matplotlib.pyplot as plt\n",
    "from keras.regularizers import l2"
   ]
  },
  {
   "cell_type": "markdown",
   "metadata": {},
   "source": [
    "Now that you have written the model, the next step is to `compile` the model. When you print the `summary` of the model, you'll see the total number of parameters you have to train."
   ]
  },
  {
   "cell_type": "code",
   "execution_count": 7,
   "metadata": {},
   "outputs": [],
   "source": [
    "def train_model( model):\n",
    "        # Let us create the `train_generator` and the `val_generator` which will be used in `.fit_generator`.\n",
    "        train_generator = generator(train_path, train_doc, batch_size)\n",
    "        val_generator = generator(val_path, val_doc, batch_size)\n",
    "\n",
    "        model_name = 'model_init' + '_' + str(curr_dt_time).replace(' ','').replace(':','_') + '/' #file name\n",
    "    \n",
    "        if not os.path.exists(model_name):\n",
    "            os.mkdir(model_name)\n",
    "        \n",
    "        filepath = model_name + 'model-{epoch:05d}-{loss:.5f}-{categorical_accuracy:.5f}-{val_loss:.5f}-{val_categorical_accuracy:.5f}.h5' #file path\n",
    "\n",
    "        checkpoint = ModelCheckpoint(filepath, monitor='val_loss', verbose=1, save_best_only=True, save_weights_only=False, mode='auto', period=1) #chekpoints to save model in .h5\n",
    "        LR = ReduceLROnPlateau(monitor='val_loss', factor=0.01, patience=5, cooldown=4, verbose=1,mode='auto',min_delta=0.0001) #learning Rate\n",
    "        callbacks_list = [checkpoint, LR]\n",
    "\n",
    "        if (num_train_sequences%batch_size) == 0:\n",
    "            steps_per_epoch = int(num_train_sequences/batch_size)\n",
    "        else:\n",
    "            steps_per_epoch = (num_train_sequences//batch_size) + 1 #in case of remaining data points which are left after full batches\n",
    "\n",
    "        if (num_val_sequences%batch_size) == 0:\n",
    "            validation_steps = int(num_val_sequences/batch_size)\n",
    "        else:\n",
    "            validation_steps = (num_val_sequences//batch_size) + 1 #in case of remaining data points which are left after full batches\n",
    "            \n",
    "        # Let us now fit the model. This will start training the model and with the help of the checkpoints, you'll be able to save the model at the end of each epoch.\n",
    "        history=model.fit_generator(train_generator, steps_per_epoch=steps_per_epoch, epochs=num_epochs, verbose=1, \n",
    "                            callbacks=callbacks_list, validation_data=val_generator, \n",
    "                            validation_steps=validation_steps, class_weight=None, workers=1, initial_epoch=0)\n",
    "        return history\n"
   ]
  },
  {
   "cell_type": "code",
   "execution_count": 8,
   "metadata": {},
   "outputs": [],
   "source": [
    "# plot accuracy & loss graph for training & validation results\n",
    "def plot(history):\n",
    "    fig, axes = plt.subplots(nrows=1, ncols=2, figsize=(15,4))\n",
    "    axes[0].plot(history.history['loss'])   \n",
    "    axes[0].plot(history.history['val_loss'])\n",
    "    axes[0].legend(['loss','val_loss'])\n",
    "\n",
    "    axes[1].plot(history.history['categorical_accuracy'])   \n",
    "    axes[1].plot(history.history['val_categorical_accuracy'])\n",
    "    axes[1].legend(['categorical_accuracy','val_categorical_accuracy'])"
   ]
  },
  {
   "cell_type": "code",
   "execution_count": 9,
   "metadata": {},
   "outputs": [],
   "source": [
    "def plot_2(history):\n",
    "    plt.plot(trained_model.history['categorical_accuracy'])\n",
    "    plt.plot(trained_model.history['val_categorical_accuracy'])\n",
    "    plt.title('model accuracy')\n",
    "    plt.ylabel('accuracy')\n",
    "    plt.xlabel('epoch')\n",
    "    plt.legend(['train', 'test'], loc='upper left')\n",
    "    plt.show()"
   ]
  },
  {
   "cell_type": "markdown",
   "metadata": {},
   "source": [
    "### Model 1 : Conv2D layers + GRU Layer+ Adam optimiser + No dropout"
   ]
  },
  {
   "cell_type": "code",
   "execution_count": 10,
   "metadata": {},
   "outputs": [
    {
     "name": "stderr",
     "output_type": "stream",
     "text": [
      "2022-05-17 02:21:45.096311: W tensorflow/core/common_runtime/gpu/gpu_bfc_allocator.cc:39] Overriding allow_growth setting because the TF_FORCE_GPU_ALLOW_GROWTH environment variable is set. Original config value was 0.\n",
      "2022-05-17 02:21:45.096387: I tensorflow/core/common_runtime/gpu/gpu_device.cc:1525] Created device /job:localhost/replica:0/task:0/device:GPU:0 with 14803 MB memory:  -> device: 0, name: Quadro RTX 5000, pci bus id: 0000:1e:00.0, compute capability: 7.5\n"
     ]
    }
   ],
   "source": [
    "num_featuremaps = [16,32,64,128]\n",
    "num_denselayers = [64,32,5]\n",
    "num_classes = 5\n",
    "frames = 15\n",
    "\n",
    "\n",
    "# Input\n",
    "input_shape=(frames,120,120,3)\n",
    "\n",
    "model = Sequential()\n",
    "\n",
    "model.add(TimeDistributed(Conv2D(num_featuremaps[0], (3, 3), strides=(2, 2),activation='relu', padding='same'), input_shape=input_shape))\n",
    "model.add(TimeDistributed(BatchNormalization()))\n",
    "model.add(TimeDistributed(MaxPooling2D((2, 2), strides=(2, 2))))\n",
    "\n",
    "model.add(TimeDistributed(Conv2D(num_featuremaps[1], (3,3),padding='same', activation='relu')))\n",
    "model.add(TimeDistributed(BatchNormalization()))\n",
    "model.add(TimeDistributed(MaxPooling2D((2, 2), strides=(2, 2))))\n",
    "\n",
    "model.add(TimeDistributed(Conv2D(num_featuremaps[2], (3,3),padding='same', activation='relu')))\n",
    "model.add(TimeDistributed(BatchNormalization()))\n",
    "model.add(TimeDistributed(MaxPooling2D((2, 2), strides=(2, 2))))\n",
    "\n",
    "model.add(TimeDistributed(Conv2D(num_featuremaps[3], (2,2),padding='same', activation='relu')))\n",
    "model.add(TimeDistributed(BatchNormalization()))\n",
    "model.add(TimeDistributed(MaxPooling2D((2, 2), strides=(2, 2))))\n",
    "\n",
    "model.add(TimeDistributed(Flatten()))\n",
    "\n",
    "model.add(Dense(num_denselayers[0], activation='relu'))\n",
    "model.add(Dense(num_denselayers[1], activation='relu'))\n",
    "\n",
    "## using GRU as the RNN model\n",
    "model.add(GRU(64, return_sequences=False))\n",
    "\n",
    "# using Softmax as last layer\n",
    "model.add(Dense(num_classes, activation='softmax')) "
   ]
  },
  {
   "cell_type": "code",
   "execution_count": 11,
   "metadata": {
    "scrolled": true
   },
   "outputs": [
    {
     "name": "stdout",
     "output_type": "stream",
     "text": [
      "Model: \"sequential\"\n",
      "_________________________________________________________________\n",
      " Layer (type)                Output Shape              Param #   \n",
      "=================================================================\n",
      " time_distributed (TimeDistr  (None, 15, 60, 60, 16)   448       \n",
      " ibuted)                                                         \n",
      "                                                                 \n",
      " time_distributed_1 (TimeDis  (None, 15, 60, 60, 16)   64        \n",
      " tributed)                                                       \n",
      "                                                                 \n",
      " time_distributed_2 (TimeDis  (None, 15, 30, 30, 16)   0         \n",
      " tributed)                                                       \n",
      "                                                                 \n",
      " time_distributed_3 (TimeDis  (None, 15, 30, 30, 32)   4640      \n",
      " tributed)                                                       \n",
      "                                                                 \n",
      " time_distributed_4 (TimeDis  (None, 15, 30, 30, 32)   128       \n",
      " tributed)                                                       \n",
      "                                                                 \n",
      " time_distributed_5 (TimeDis  (None, 15, 15, 15, 32)   0         \n",
      " tributed)                                                       \n",
      "                                                                 \n",
      " time_distributed_6 (TimeDis  (None, 15, 15, 15, 64)   18496     \n",
      " tributed)                                                       \n",
      "                                                                 \n",
      " time_distributed_7 (TimeDis  (None, 15, 15, 15, 64)   256       \n",
      " tributed)                                                       \n",
      "                                                                 \n",
      " time_distributed_8 (TimeDis  (None, 15, 7, 7, 64)     0         \n",
      " tributed)                                                       \n",
      "                                                                 \n",
      " time_distributed_9 (TimeDis  (None, 15, 7, 7, 128)    32896     \n",
      " tributed)                                                       \n",
      "                                                                 \n",
      " time_distributed_10 (TimeDi  (None, 15, 7, 7, 128)    512       \n",
      " stributed)                                                      \n",
      "                                                                 \n",
      " time_distributed_11 (TimeDi  (None, 15, 3, 3, 128)    0         \n",
      " stributed)                                                      \n",
      "                                                                 \n",
      " time_distributed_12 (TimeDi  (None, 15, 1152)         0         \n",
      " stributed)                                                      \n",
      "                                                                 \n",
      " dense (Dense)               (None, 15, 64)            73792     \n",
      "                                                                 \n",
      " dense_1 (Dense)             (None, 15, 32)            2080      \n",
      "                                                                 \n",
      " gru (GRU)                   (None, 64)                18816     \n",
      "                                                                 \n",
      " dense_2 (Dense)             (None, 5)                 325       \n",
      "                                                                 \n",
      "=================================================================\n",
      "Total params: 152,453\n",
      "Trainable params: 151,973\n",
      "Non-trainable params: 480\n",
      "_________________________________________________________________\n",
      "None\n"
     ]
    }
   ],
   "source": [
    "from tensorflow.keras.optimizers import Adam\n",
    "optimiser = \"Adam\"#write your optimizer\n",
    "model.compile(optimizer=optimiser, loss='categorical_crossentropy', metrics=['categorical_accuracy'])\n",
    "print (model.summary())"
   ]
  },
  {
   "cell_type": "code",
   "execution_count": 12,
   "metadata": {},
   "outputs": [
    {
     "name": "stdout",
     "output_type": "stream",
     "text": [
      "Total Params: 152453\n",
      "WARNING:tensorflow:`period` argument is deprecated. Please use `save_freq` to specify the frequency in number of batches seen.\n",
      "Source path =  /home/datasets/Project_data/train ; batch size = 15\n"
     ]
    },
    {
     "name": "stderr",
     "output_type": "stream",
     "text": [
      "/tmp/ipykernel_470/626052411.py:28: UserWarning: `Model.fit_generator` is deprecated and will be removed in a future version. Please use `Model.fit`, which supports generators.\n",
      "  history=model.fit_generator(train_generator, steps_per_epoch=steps_per_epoch, epochs=num_epochs, verbose=1,\n"
     ]
    },
    {
     "name": "stdout",
     "output_type": "stream",
     "text": [
      "Epoch 1/20\n"
     ]
    },
    {
     "name": "stderr",
     "output_type": "stream",
     "text": [
      "2022-05-17 02:21:49.732991: I tensorflow/stream_executor/cuda/cuda_dnn.cc:377] Loaded cuDNN version 8302\n"
     ]
    },
    {
     "name": "stdout",
     "output_type": "stream",
     "text": [
      "45/45 [==============================] - ETA: 0s - loss: 1.2102 - categorical_accuracy: 0.5007Source path =  /home/datasets/Project_data/val ; batch size = 15\n",
      "\n",
      "Epoch 00001: val_loss improved from inf to 1.72273, saving model to model_init_2022-05-1702_21_43.511214/model-00001-1.21024-0.50074-1.72273-0.26667.h5\n",
      "45/45 [==============================] - 86s 2s/step - loss: 1.2102 - categorical_accuracy: 0.5007 - val_loss: 1.7227 - val_categorical_accuracy: 0.2667 - lr: 0.0010\n",
      "Epoch 2/20\n",
      "45/45 [==============================] - ETA: 0s - loss: 0.7949 - categorical_accuracy: 0.7096\n",
      "Epoch 00002: val_loss did not improve from 1.72273\n",
      "45/45 [==============================] - 82s 2s/step - loss: 0.7949 - categorical_accuracy: 0.7096 - val_loss: 2.3497 - val_categorical_accuracy: 0.1429 - lr: 0.0010\n",
      "Epoch 3/20\n",
      "45/45 [==============================] - ETA: 0s - loss: 0.5332 - categorical_accuracy: 0.7926\n",
      "Epoch 00003: val_loss did not improve from 1.72273\n",
      "45/45 [==============================] - 81s 2s/step - loss: 0.5332 - categorical_accuracy: 0.7926 - val_loss: 2.5862 - val_categorical_accuracy: 0.1714 - lr: 0.0010\n",
      "Epoch 4/20\n",
      "45/45 [==============================] - ETA: 0s - loss: 0.3309 - categorical_accuracy: 0.8963\n",
      "Epoch 00004: val_loss did not improve from 1.72273\n",
      "45/45 [==============================] - 81s 2s/step - loss: 0.3309 - categorical_accuracy: 0.8963 - val_loss: 2.8023 - val_categorical_accuracy: 0.1619 - lr: 0.0010\n",
      "Epoch 5/20\n",
      "45/45 [==============================] - ETA: 0s - loss: 0.1999 - categorical_accuracy: 0.9467\n",
      "Epoch 00005: val_loss did not improve from 1.72273\n",
      "45/45 [==============================] - 81s 2s/step - loss: 0.1999 - categorical_accuracy: 0.9467 - val_loss: 2.7577 - val_categorical_accuracy: 0.2095 - lr: 0.0010\n",
      "Epoch 6/20\n",
      "45/45 [==============================] - ETA: 0s - loss: 0.1753 - categorical_accuracy: 0.9570\n",
      "Epoch 00006: val_loss did not improve from 1.72273\n",
      "\n",
      "Epoch 00006: ReduceLROnPlateau reducing learning rate to 1.0000000474974514e-05.\n",
      "45/45 [==============================] - 82s 2s/step - loss: 0.1753 - categorical_accuracy: 0.9570 - val_loss: 3.0629 - val_categorical_accuracy: 0.2762 - lr: 0.0010\n",
      "Epoch 7/20\n",
      "45/45 [==============================] - ETA: 0s - loss: 0.1298 - categorical_accuracy: 0.9748\n",
      "Epoch 00007: val_loss did not improve from 1.72273\n",
      "45/45 [==============================] - 80s 2s/step - loss: 0.1298 - categorical_accuracy: 0.9748 - val_loss: 3.2949 - val_categorical_accuracy: 0.2762 - lr: 1.0000e-05\n",
      "Epoch 8/20\n",
      "45/45 [==============================] - ETA: 0s - loss: 0.1015 - categorical_accuracy: 0.9793\n",
      "Epoch 00008: val_loss did not improve from 1.72273\n",
      "45/45 [==============================] - 81s 2s/step - loss: 0.1015 - categorical_accuracy: 0.9793 - val_loss: 3.1212 - val_categorical_accuracy: 0.2857 - lr: 1.0000e-05\n",
      "Epoch 9/20\n",
      "45/45 [==============================] - ETA: 0s - loss: 0.0995 - categorical_accuracy: 0.9867\n",
      "Epoch 00009: val_loss did not improve from 1.72273\n",
      "45/45 [==============================] - 80s 2s/step - loss: 0.0995 - categorical_accuracy: 0.9867 - val_loss: 2.7210 - val_categorical_accuracy: 0.3714 - lr: 1.0000e-05\n",
      "Epoch 10/20\n",
      "45/45 [==============================] - ETA: 0s - loss: 0.1055 - categorical_accuracy: 0.9896\n",
      "Epoch 00010: val_loss did not improve from 1.72273\n",
      "45/45 [==============================] - 82s 2s/step - loss: 0.1055 - categorical_accuracy: 0.9896 - val_loss: 2.5227 - val_categorical_accuracy: 0.4286 - lr: 1.0000e-05\n",
      "Epoch 11/20\n",
      "45/45 [==============================] - ETA: 0s - loss: 0.0996 - categorical_accuracy: 0.9867\n",
      "Epoch 00011: val_loss did not improve from 1.72273\n",
      "45/45 [==============================] - 81s 2s/step - loss: 0.0996 - categorical_accuracy: 0.9867 - val_loss: 2.0738 - val_categorical_accuracy: 0.4667 - lr: 1.0000e-05\n",
      "Epoch 12/20\n",
      "45/45 [==============================] - ETA: 0s - loss: 0.1006 - categorical_accuracy: 0.9881\n",
      "Epoch 00012: val_loss did not improve from 1.72273\n",
      "45/45 [==============================] - 82s 2s/step - loss: 0.1006 - categorical_accuracy: 0.9881 - val_loss: 2.0073 - val_categorical_accuracy: 0.5048 - lr: 1.0000e-05\n",
      "Epoch 13/20\n",
      "45/45 [==============================] - ETA: 0s - loss: 0.0902 - categorical_accuracy: 0.9911\n",
      "Epoch 00013: val_loss improved from 1.72273 to 1.66982, saving model to model_init_2022-05-1702_21_43.511214/model-00013-0.09016-0.99111-1.66982-0.60952.h5\n",
      "45/45 [==============================] - 81s 2s/step - loss: 0.0902 - categorical_accuracy: 0.9911 - val_loss: 1.6698 - val_categorical_accuracy: 0.6095 - lr: 1.0000e-05\n",
      "Epoch 14/20\n",
      "45/45 [==============================] - ETA: 0s - loss: 0.0945 - categorical_accuracy: 0.9867\n",
      "Epoch 00014: val_loss improved from 1.66982 to 1.42704, saving model to model_init_2022-05-1702_21_43.511214/model-00014-0.09445-0.98667-1.42704-0.66667.h5\n",
      "45/45 [==============================] - 81s 2s/step - loss: 0.0945 - categorical_accuracy: 0.9867 - val_loss: 1.4270 - val_categorical_accuracy: 0.6667 - lr: 1.0000e-05\n",
      "Epoch 15/20\n",
      "45/45 [==============================] - ETA: 0s - loss: 0.0737 - categorical_accuracy: 0.9926\n",
      "Epoch 00015: val_loss improved from 1.42704 to 1.40174, saving model to model_init_2022-05-1702_21_43.511214/model-00015-0.07373-0.99259-1.40174-0.66667.h5\n",
      "45/45 [==============================] - 82s 2s/step - loss: 0.0737 - categorical_accuracy: 0.9926 - val_loss: 1.4017 - val_categorical_accuracy: 0.6667 - lr: 1.0000e-05\n",
      "Epoch 16/20\n",
      "45/45 [==============================] - ETA: 0s - loss: 0.0725 - categorical_accuracy: 0.9941\n",
      "Epoch 00016: val_loss improved from 1.40174 to 1.32415, saving model to model_init_2022-05-1702_21_43.511214/model-00016-0.07254-0.99407-1.32415-0.71429.h5\n",
      "45/45 [==============================] - 81s 2s/step - loss: 0.0725 - categorical_accuracy: 0.9941 - val_loss: 1.3242 - val_categorical_accuracy: 0.7143 - lr: 1.0000e-05\n",
      "Epoch 17/20\n",
      "45/45 [==============================] - ETA: 0s - loss: 0.0864 - categorical_accuracy: 0.9941\n",
      "Epoch 00017: val_loss did not improve from 1.32415\n",
      "45/45 [==============================] - 81s 2s/step - loss: 0.0864 - categorical_accuracy: 0.9941 - val_loss: 1.3743 - val_categorical_accuracy: 0.7048 - lr: 1.0000e-05\n",
      "Epoch 18/20\n",
      "45/45 [==============================] - ETA: 0s - loss: 0.0830 - categorical_accuracy: 0.9941\n",
      "Epoch 00018: val_loss did not improve from 1.32415\n",
      "45/45 [==============================] - 81s 2s/step - loss: 0.0830 - categorical_accuracy: 0.9941 - val_loss: 1.4055 - val_categorical_accuracy: 0.6762 - lr: 1.0000e-05\n",
      "Epoch 19/20\n",
      "45/45 [==============================] - ETA: 0s - loss: 0.0809 - categorical_accuracy: 0.9911\n",
      "Epoch 00019: val_loss did not improve from 1.32415\n",
      "45/45 [==============================] - 81s 2s/step - loss: 0.0809 - categorical_accuracy: 0.9911 - val_loss: 1.3744 - val_categorical_accuracy: 0.7238 - lr: 1.0000e-05\n",
      "Epoch 20/20\n",
      "45/45 [==============================] - ETA: 0s - loss: 0.0826 - categorical_accuracy: 0.9911\n",
      "Epoch 00020: val_loss improved from 1.32415 to 1.26925, saving model to model_init_2022-05-1702_21_43.511214/model-00020-0.08262-0.99111-1.26925-0.74286.h5\n",
      "45/45 [==============================] - 80s 2s/step - loss: 0.0826 - categorical_accuracy: 0.9911 - val_loss: 1.2692 - val_categorical_accuracy: 0.7429 - lr: 1.0000e-05\n"
     ]
    }
   ],
   "source": [
    "print(\"Total Params:\", model.count_params())\n",
    "trained_model_1=train_model(model)"
   ]
  },
  {
   "cell_type": "code",
   "execution_count": 13,
   "metadata": {},
   "outputs": [
    {
     "data": {
      "image/png": "[encoded data removed]",
      "text/plain": [
       "<Figure size 1080x288 with 2 Axes>"
      ]
     },
     "metadata": {
      "needs_background": "light"
     },
     "output_type": "display_data"
    }
   ],
   "source": [
    "plot(trained_model_1)"
   ]
  },
  {
   "cell_type": "markdown",
   "metadata": {},
   "source": [
    "Observation\n",
    "\n",
    "- The accuracy on the training dataset in very high while the accuracy on the validation dataset is too less.\n",
    "- This is an indication of overfitting on the training dataset."
   ]
  },
  {
   "cell_type": "markdown",
   "metadata": {},
   "source": [
    "### Model 2 : Conv2D layers + GRU Layer+ Adam optimiser + Dropout"
   ]
  },
  {
   "cell_type": "code",
   "execution_count": 14,
   "metadata": {},
   "outputs": [],
   "source": [
    "num_featuremaps = [16,32,64,128]\n",
    "num_denselayers = [64,32,5]\n",
    "num_classes = 5\n",
    "frames = 15\n",
    "dropout=0.25\n",
    "\n",
    "\n",
    "# Input\n",
    "input_shape=(frames,120,120,3)\n",
    "\n",
    "model = Sequential()\n",
    "\n",
    "model.add(TimeDistributed(Conv2D(num_featuremaps[0], (3, 3), strides=(2, 2),activation='relu', padding='same'), input_shape=input_shape))\n",
    "model.add(TimeDistributed(BatchNormalization()))\n",
    "model.add(TimeDistributed(MaxPooling2D((2, 2), strides=(2, 2))))\n",
    "model.add(Dropout(dropout))\n",
    "\n",
    "model.add(TimeDistributed(Conv2D(num_featuremaps[1], (3,3),padding='same', activation='relu')))\n",
    "model.add(TimeDistributed(BatchNormalization()))\n",
    "model.add(TimeDistributed(MaxPooling2D((2, 2), strides=(2, 2))))\n",
    "\n",
    "model.add(TimeDistributed(Conv2D(num_featuremaps[2], (3,3),padding='same', activation='relu')))\n",
    "model.add(TimeDistributed(BatchNormalization()))\n",
    "model.add(TimeDistributed(MaxPooling2D((2, 2), strides=(2, 2))))\n",
    "model.add(Dropout(dropout))\n",
    "\n",
    "model.add(TimeDistributed(Conv2D(num_featuremaps[3], (2,2),padding='same', activation='relu')))\n",
    "model.add(TimeDistributed(BatchNormalization()))\n",
    "model.add(TimeDistributed(MaxPooling2D((2, 2), strides=(2, 2))))\n",
    "\n",
    "model.add(TimeDistributed(Flatten()))\n",
    "\n",
    "model.add(Dense(num_denselayers[0], activation='relu'))\n",
    "model.add(Dense(num_denselayers[1], activation='relu'))\n",
    "model.add(Dropout(dropout))\n",
    "\n",
    "## using GRU as the RNN model\n",
    "model.add(GRU(64, return_sequences=False))\n",
    "model.add(Dropout(dropout))\n",
    "\n",
    "# using Softmax as last layer\n",
    "model.add(Dense(num_classes, activation='softmax')) "
   ]
  },
  {
   "cell_type": "code",
   "execution_count": 15,
   "metadata": {},
   "outputs": [
    {
     "name": "stdout",
     "output_type": "stream",
     "text": [
      "Model: \"sequential_1\"\n",
      "_________________________________________________________________\n",
      " Layer (type)                Output Shape              Param #   \n",
      "=================================================================\n",
      " time_distributed_13 (TimeDi  (None, 15, 60, 60, 16)   448       \n",
      " stributed)                                                      \n",
      "                                                                 \n",
      " time_distributed_14 (TimeDi  (None, 15, 60, 60, 16)   64        \n",
      " stributed)                                                      \n",
      "                                                                 \n",
      " time_distributed_15 (TimeDi  (None, 15, 30, 30, 16)   0         \n",
      " stributed)                                                      \n",
      "                                                                 \n",
      " dropout (Dropout)           (None, 15, 30, 30, 16)    0         \n",
      "                                                                 \n",
      " time_distributed_16 (TimeDi  (None, 15, 30, 30, 32)   4640      \n",
      " stributed)                                                      \n",
      "                                                                 \n",
      " time_distributed_17 (TimeDi  (None, 15, 30, 30, 32)   128       \n",
      " stributed)                                                      \n",
      "                                                                 \n",
      " time_distributed_18 (TimeDi  (None, 15, 15, 15, 32)   0         \n",
      " stributed)                                                      \n",
      "                                                                 \n",
      " time_distributed_19 (TimeDi  (None, 15, 15, 15, 64)   18496     \n",
      " stributed)                                                      \n",
      "                                                                 \n",
      " time_distributed_20 (TimeDi  (None, 15, 15, 15, 64)   256       \n",
      " stributed)                                                      \n",
      "                                                                 \n",
      " time_distributed_21 (TimeDi  (None, 15, 7, 7, 64)     0         \n",
      " stributed)                                                      \n",
      "                                                                 \n",
      " dropout_1 (Dropout)         (None, 15, 7, 7, 64)      0         \n",
      "                                                                 \n",
      " time_distributed_22 (TimeDi  (None, 15, 7, 7, 128)    32896     \n",
      " stributed)                                                      \n",
      "                                                                 \n",
      " time_distributed_23 (TimeDi  (None, 15, 7, 7, 128)    512       \n",
      " stributed)                                                      \n",
      "                                                                 \n",
      " time_distributed_24 (TimeDi  (None, 15, 3, 3, 128)    0         \n",
      " stributed)                                                      \n",
      "                                                                 \n",
      " time_distributed_25 (TimeDi  (None, 15, 1152)         0         \n",
      " stributed)                                                      \n",
      "                                                                 \n",
      " dense_3 (Dense)             (None, 15, 64)            73792     \n",
      "                                                                 \n",
      " dense_4 (Dense)             (None, 15, 32)            2080      \n",
      "                                                                 \n",
      " dropout_2 (Dropout)         (None, 15, 32)            0         \n",
      "                                                                 \n",
      " gru_1 (GRU)                 (None, 64)                18816     \n",
      "                                                                 \n",
      " dropout_3 (Dropout)         (None, 64)                0         \n",
      "                                                                 \n",
      " dense_5 (Dense)             (None, 5)                 325       \n",
      "                                                                 \n",
      "=================================================================\n",
      "Total params: 152,453\n",
      "Trainable params: 151,973\n",
      "Non-trainable params: 480\n",
      "_________________________________________________________________\n",
      "None\n"
     ]
    }
   ],
   "source": [
    "optimiser = \"Adam\"#write your optimizer\n",
    "model.compile(optimizer=optimiser, loss='categorical_crossentropy', metrics=['categorical_accuracy'])\n",
    "\n",
    "# Model Summary\n",
    "print (model.summary())"
   ]
  },
  {
   "cell_type": "code",
   "execution_count": 16,
   "metadata": {},
   "outputs": [
    {
     "name": "stdout",
     "output_type": "stream",
     "text": [
      "Total Params: 152453\n",
      "WARNING:tensorflow:`period` argument is deprecated. Please use `save_freq` to specify the frequency in number of batches seen.\n",
      "Source path =  /home/datasets/Project_data/train ; batch size = 15\n"
     ]
    },
    {
     "name": "stderr",
     "output_type": "stream",
     "text": [
      "/tmp/ipykernel_470/626052411.py:28: UserWarning: `Model.fit_generator` is deprecated and will be removed in a future version. Please use `Model.fit`, which supports generators.\n",
      "  history=model.fit_generator(train_generator, steps_per_epoch=steps_per_epoch, epochs=num_epochs, verbose=1,\n"
     ]
    },
    {
     "name": "stdout",
     "output_type": "stream",
     "text": [
      "Epoch 1/20\n",
      "45/45 [==============================] - ETA: 0s - loss: 1.4235 - categorical_accuracy: 0.3674Source path =  /home/datasets/Project_data/val ; batch size = 15\n",
      "\n",
      "Epoch 00001: val_loss improved from inf to 1.93085, saving model to model_init_2022-05-1702_21_43.511214/model-00001-1.42349-0.36741-1.93085-0.22857.h5\n",
      "45/45 [==============================] - 81s 2s/step - loss: 1.4235 - categorical_accuracy: 0.3674 - val_loss: 1.9309 - val_categorical_accuracy: 0.2286 - lr: 0.0010\n",
      "Epoch 2/20\n",
      "45/45 [==============================] - ETA: 0s - loss: 1.1263 - categorical_accuracy: 0.5289\n",
      "Epoch 00002: val_loss did not improve from 1.93085\n",
      "45/45 [==============================] - 81s 2s/step - loss: 1.1263 - categorical_accuracy: 0.5289 - val_loss: 2.4364 - val_categorical_accuracy: 0.2190 - lr: 0.0010\n",
      "Epoch 3/20\n",
      "45/45 [==============================] - ETA: 0s - loss: 0.8726 - categorical_accuracy: 0.6504\n",
      "Epoch 00003: val_loss did not improve from 1.93085\n",
      "45/45 [==============================] - 80s 2s/step - loss: 0.8726 - categorical_accuracy: 0.6504 - val_loss: 3.0946 - val_categorical_accuracy: 0.2000 - lr: 0.0010\n",
      "Epoch 4/20\n",
      "45/45 [==============================] - ETA: 0s - loss: 0.7043 - categorical_accuracy: 0.7185\n",
      "Epoch 00004: val_loss did not improve from 1.93085\n",
      "45/45 [==============================] - 81s 2s/step - loss: 0.7043 - categorical_accuracy: 0.7185 - val_loss: 2.7991 - val_categorical_accuracy: 0.1429 - lr: 0.0010\n",
      "Epoch 5/20\n",
      "45/45 [==============================] - ETA: 0s - loss: 0.5473 - categorical_accuracy: 0.8104\n",
      "Epoch 00005: val_loss did not improve from 1.93085\n",
      "45/45 [==============================] - 80s 2s/step - loss: 0.5473 - categorical_accuracy: 0.8104 - val_loss: 2.6360 - val_categorical_accuracy: 0.1905 - lr: 0.0010\n",
      "Epoch 6/20\n",
      "45/45 [==============================] - ETA: 0s - loss: 0.4693 - categorical_accuracy: 0.8533\n",
      "Epoch 00006: val_loss did not improve from 1.93085\n",
      "\n",
      "Epoch 00006: ReduceLROnPlateau reducing learning rate to 1.0000000474974514e-05.\n",
      "45/45 [==============================] - 81s 2s/step - loss: 0.4693 - categorical_accuracy: 0.8533 - val_loss: 3.0274 - val_categorical_accuracy: 0.2095 - lr: 0.0010\n",
      "Epoch 7/20\n",
      "45/45 [==============================] - ETA: 0s - loss: 0.3687 - categorical_accuracy: 0.8726\n",
      "Epoch 00007: val_loss did not improve from 1.93085\n",
      "45/45 [==============================] - 80s 2s/step - loss: 0.3687 - categorical_accuracy: 0.8726 - val_loss: 3.2841 - val_categorical_accuracy: 0.2190 - lr: 1.0000e-05\n",
      "Epoch 8/20\n",
      "45/45 [==============================] - ETA: 0s - loss: 0.3455 - categorical_accuracy: 0.8874\n",
      "Epoch 00008: val_loss did not improve from 1.93085\n",
      "45/45 [==============================] - 80s 2s/step - loss: 0.3455 - categorical_accuracy: 0.8874 - val_loss: 2.9543 - val_categorical_accuracy: 0.2857 - lr: 1.0000e-05\n",
      "Epoch 9/20\n",
      "45/45 [==============================] - ETA: 0s - loss: 0.3327 - categorical_accuracy: 0.9007\n",
      "Epoch 00009: val_loss did not improve from 1.93085\n",
      "45/45 [==============================] - 81s 2s/step - loss: 0.3327 - categorical_accuracy: 0.9007 - val_loss: 2.7216 - val_categorical_accuracy: 0.3048 - lr: 1.0000e-05\n",
      "Epoch 10/20\n",
      "45/45 [==============================] - ETA: 0s - loss: 0.3077 - categorical_accuracy: 0.9170\n",
      "Epoch 00010: val_loss did not improve from 1.93085\n",
      "45/45 [==============================] - 79s 2s/step - loss: 0.3077 - categorical_accuracy: 0.9170 - val_loss: 2.5731 - val_categorical_accuracy: 0.3619 - lr: 1.0000e-05\n",
      "Epoch 11/20\n",
      "45/45 [==============================] - ETA: 0s - loss: 0.2991 - categorical_accuracy: 0.9230\n",
      "Epoch 00011: val_loss improved from 1.93085 to 1.80295, saving model to model_init_2022-05-1702_21_43.511214/model-00011-0.29908-0.92296-1.80295-0.44762.h5\n",
      "45/45 [==============================] - 80s 2s/step - loss: 0.2991 - categorical_accuracy: 0.9230 - val_loss: 1.8029 - val_categorical_accuracy: 0.4476 - lr: 1.0000e-05\n",
      "Epoch 12/20\n",
      "45/45 [==============================] - ETA: 0s - loss: 0.2786 - categorical_accuracy: 0.9304\n",
      "Epoch 00012: val_loss did not improve from 1.80295\n",
      "45/45 [==============================] - 79s 2s/step - loss: 0.2786 - categorical_accuracy: 0.9304 - val_loss: 1.9736 - val_categorical_accuracy: 0.4952 - lr: 1.0000e-05\n",
      "Epoch 13/20\n",
      "45/45 [==============================] - ETA: 0s - loss: 0.2964 - categorical_accuracy: 0.9170\n",
      "Epoch 00013: val_loss improved from 1.80295 to 1.50971, saving model to model_init_2022-05-1702_21_43.511214/model-00013-0.29642-0.91704-1.50971-0.62857.h5\n",
      "45/45 [==============================] - 80s 2s/step - loss: 0.2964 - categorical_accuracy: 0.9170 - val_loss: 1.5097 - val_categorical_accuracy: 0.6286 - lr: 1.0000e-05\n",
      "Epoch 14/20\n",
      "45/45 [==============================] - ETA: 0s - loss: 0.2989 - categorical_accuracy: 0.9230\n",
      "Epoch 00014: val_loss improved from 1.50971 to 1.45995, saving model to model_init_2022-05-1702_21_43.511214/model-00014-0.29894-0.92296-1.45995-0.68571.h5\n",
      "45/45 [==============================] - 81s 2s/step - loss: 0.2989 - categorical_accuracy: 0.9230 - val_loss: 1.4599 - val_categorical_accuracy: 0.6857 - lr: 1.0000e-05\n",
      "Epoch 15/20\n",
      "45/45 [==============================] - ETA: 0s - loss: 0.2836 - categorical_accuracy: 0.9393\n",
      "Epoch 00015: val_loss improved from 1.45995 to 1.42400, saving model to model_init_2022-05-1702_21_43.511214/model-00015-0.28356-0.93926-1.42400-0.61905.h5\n",
      "45/45 [==============================] - 81s 2s/step - loss: 0.2836 - categorical_accuracy: 0.9393 - val_loss: 1.4240 - val_categorical_accuracy: 0.6190 - lr: 1.0000e-05\n",
      "Epoch 16/20\n",
      "45/45 [==============================] - ETA: 0s - loss: 0.2907 - categorical_accuracy: 0.9215\n",
      "Epoch 00016: val_loss improved from 1.42400 to 1.30161, saving model to model_init_2022-05-1702_21_43.511214/model-00016-0.29070-0.92148-1.30161-0.62857.h5\n",
      "45/45 [==============================] - 82s 2s/step - loss: 0.2907 - categorical_accuracy: 0.9215 - val_loss: 1.3016 - val_categorical_accuracy: 0.6286 - lr: 1.0000e-05\n",
      "Epoch 17/20\n",
      "45/45 [==============================] - ETA: 0s - loss: 0.2455 - categorical_accuracy: 0.9348\n",
      "Epoch 00017: val_loss improved from 1.30161 to 1.14743, saving model to model_init_2022-05-1702_21_43.511214/model-00017-0.24547-0.93481-1.14743-0.75238.h5\n",
      "45/45 [==============================] - 81s 2s/step - loss: 0.2455 - categorical_accuracy: 0.9348 - val_loss: 1.1474 - val_categorical_accuracy: 0.7524 - lr: 1.0000e-05\n",
      "Epoch 18/20\n",
      "45/45 [==============================] - ETA: 0s - loss: 0.2629 - categorical_accuracy: 0.9319\n",
      "Epoch 00018: val_loss did not improve from 1.14743\n",
      "45/45 [==============================] - 81s 2s/step - loss: 0.2629 - categorical_accuracy: 0.9319 - val_loss: 1.3489 - val_categorical_accuracy: 0.6762 - lr: 1.0000e-05\n",
      "Epoch 19/20\n",
      "45/45 [==============================] - ETA: 0s - loss: 0.2448 - categorical_accuracy: 0.9393\n",
      "Epoch 00019: val_loss did not improve from 1.14743\n",
      "45/45 [==============================] - 81s 2s/step - loss: 0.2448 - categorical_accuracy: 0.9393 - val_loss: 1.3979 - val_categorical_accuracy: 0.6857 - lr: 1.0000e-05\n",
      "Epoch 20/20\n",
      "45/45 [==============================] - ETA: 0s - loss: 0.2531 - categorical_accuracy: 0.9319\n",
      "Epoch 00020: val_loss did not improve from 1.14743\n",
      "45/45 [==============================] - 82s 2s/step - loss: 0.2531 - categorical_accuracy: 0.9319 - val_loss: 1.2897 - val_categorical_accuracy: 0.7619 - lr: 1.0000e-05\n"
     ]
    }
   ],
   "source": [
    "print(\"Total Params:\", model.count_params())\n",
    "trained_model_2=train_model(model)"
   ]
  },
  {
   "cell_type": "code",
   "execution_count": 17,
   "metadata": {},
   "outputs": [
    {
     "data": {
      "image/png": "[encoded data removed]",
      "text/plain": [
       "<Figure size 1080x288 with 2 Axes>"
      ]
     },
     "metadata": {
      "needs_background": "light"
     },
     "output_type": "display_data"
    }
   ],
   "source": [
    "plot(trained_model_2)"
   ]
  },
  {
   "cell_type": "markdown",
   "metadata": {},
   "source": [
    "> Observation : \n",
    ">> There is no major improvement compared to last model that is having overfitting"
   ]
  },
  {
   "cell_type": "markdown",
   "metadata": {},
   "source": [
    "### Model 3 : Conv2D layers + GRU Layer+ Adam optimiser + dropout + L2 regularization¶"
   ]
  },
  {
   "cell_type": "code",
   "execution_count": 21,
   "metadata": {},
   "outputs": [],
   "source": [
    "num_featuremaps = [16,32,64,128]\n",
    "num_denselayers = [64,32,5]\n",
    "num_classes = 5\n",
    "frames = 15\n",
    "dropout = 0.25\n",
    "\n",
    "# Input\n",
    "input_shape=(frames,120,120,3)\n",
    "\n",
    "model = Sequential()\n",
    "\n",
    "model.add(TimeDistributed(Conv2D(num_featuremaps[0], (3, 3), strides=(2, 2),activation='relu', padding='same'), input_shape=input_shape))\n",
    "model.add(TimeDistributed(BatchNormalization()))\n",
    "model.add(TimeDistributed(MaxPooling2D((2, 2), strides=(2, 2))))\n",
    "model.add(Dropout(dropout))\n",
    "\n",
    "model.add(TimeDistributed(Conv2D(num_featuremaps[1], (3,3),padding='same', activation='relu')))\n",
    "model.add(TimeDistributed(BatchNormalization()))\n",
    "model.add(TimeDistributed(MaxPooling2D((2, 2), strides=(2, 2))))\n",
    "\n",
    "model.add(TimeDistributed(Conv2D(num_featuremaps[2], (3,3),padding='same', activation='relu')))\n",
    "model.add(TimeDistributed(BatchNormalization()))\n",
    "model.add(TimeDistributed(MaxPooling2D((2, 2), strides=(2, 2))))\n",
    "model.add(Dropout(dropout))\n",
    "\n",
    "model.add(TimeDistributed(Conv2D(num_featuremaps[3], (2,2),padding='same', activation='relu')))\n",
    "model.add(TimeDistributed(BatchNormalization()))\n",
    "model.add(TimeDistributed(MaxPooling2D((2, 2), strides=(2, 2))))\n",
    "\n",
    "model.add(TimeDistributed(Flatten()))\n",
    "\n",
    "model.add(Dense(num_denselayers[0], activation='relu', kernel_regularizer=l2(0.01)))\n",
    "model.add(Dense(num_denselayers[1], activation='relu', kernel_regularizer=l2(0.01)))\n",
    "model.add(Dropout(dropout))\n",
    "\n",
    "## using GRU as the RNN model along with softmax as our last layer.\n",
    "model.add(GRU(64, return_sequences=False))\n",
    "model.add(Dropout(dropout))\n",
    "\n",
    "# using Softmax as last layer\n",
    "model.add(Dense(num_classes, activation='softmax')) \n"
   ]
  },
  {
   "cell_type": "code",
   "execution_count": 22,
   "metadata": {},
   "outputs": [
    {
     "name": "stdout",
     "output_type": "stream",
     "text": [
      "Model: \"sequential_4\"\n",
      "_________________________________________________________________\n",
      " Layer (type)                Output Shape              Param #   \n",
      "=================================================================\n",
      " time_distributed_52 (TimeDi  (None, 15, 60, 60, 16)   448       \n",
      " stributed)                                                      \n",
      "                                                                 \n",
      " time_distributed_53 (TimeDi  (None, 15, 60, 60, 16)   64        \n",
      " stributed)                                                      \n",
      "                                                                 \n",
      " time_distributed_54 (TimeDi  (None, 15, 30, 30, 16)   0         \n",
      " stributed)                                                      \n",
      "                                                                 \n",
      " dropout_10 (Dropout)        (None, 15, 30, 30, 16)    0         \n",
      "                                                                 \n",
      " time_distributed_55 (TimeDi  (None, 15, 30, 30, 32)   4640      \n",
      " stributed)                                                      \n",
      "                                                                 \n",
      " time_distributed_56 (TimeDi  (None, 15, 30, 30, 32)   128       \n",
      " stributed)                                                      \n",
      "                                                                 \n",
      " time_distributed_57 (TimeDi  (None, 15, 15, 15, 32)   0         \n",
      " stributed)                                                      \n",
      "                                                                 \n",
      " time_distributed_58 (TimeDi  (None, 15, 15, 15, 64)   18496     \n",
      " stributed)                                                      \n",
      "                                                                 \n",
      " time_distributed_59 (TimeDi  (None, 15, 15, 15, 64)   256       \n",
      " stributed)                                                      \n",
      "                                                                 \n",
      " time_distributed_60 (TimeDi  (None, 15, 7, 7, 64)     0         \n",
      " stributed)                                                      \n",
      "                                                                 \n",
      " dropout_11 (Dropout)        (None, 15, 7, 7, 64)      0         \n",
      "                                                                 \n",
      " time_distributed_61 (TimeDi  (None, 15, 7, 7, 128)    32896     \n",
      " stributed)                                                      \n",
      "                                                                 \n",
      " time_distributed_62 (TimeDi  (None, 15, 7, 7, 128)    512       \n",
      " stributed)                                                      \n",
      "                                                                 \n",
      " time_distributed_63 (TimeDi  (None, 15, 3, 3, 128)    0         \n",
      " stributed)                                                      \n",
      "                                                                 \n",
      " time_distributed_64 (TimeDi  (None, 15, 1152)         0         \n",
      " stributed)                                                      \n",
      "                                                                 \n",
      " dense_9 (Dense)             (None, 15, 64)            73792     \n",
      "                                                                 \n",
      " dense_10 (Dense)            (None, 15, 32)            2080      \n",
      "                                                                 \n",
      " dropout_12 (Dropout)        (None, 15, 32)            0         \n",
      "                                                                 \n",
      " gru_3 (GRU)                 (None, 64)                18816     \n",
      "                                                                 \n",
      " dropout_13 (Dropout)        (None, 64)                0         \n",
      "                                                                 \n",
      " dense_11 (Dense)            (None, 5)                 325       \n",
      "                                                                 \n",
      "=================================================================\n",
      "Total params: 152,453\n",
      "Trainable params: 151,973\n",
      "Non-trainable params: 480\n",
      "_________________________________________________________________\n",
      "None\n"
     ]
    }
   ],
   "source": [
    "optimiser = \"Adam\"#write your optimizer\n",
    "model.compile(optimizer=optimiser, loss='categorical_crossentropy', metrics=['categorical_accuracy'])\n",
    "\n",
    "# Model Summary\n",
    "print (model.summary())"
   ]
  },
  {
   "cell_type": "code",
   "execution_count": 23,
   "metadata": {},
   "outputs": [
    {
     "name": "stdout",
     "output_type": "stream",
     "text": [
      "Total Params: 152453\n",
      "WARNING:tensorflow:`period` argument is deprecated. Please use `save_freq` to specify the frequency in number of batches seen.\n",
      "Source path =  /home/datasets/Project_data/train ; batch size = 15\n"
     ]
    },
    {
     "name": "stderr",
     "output_type": "stream",
     "text": [
      "/tmp/ipykernel_470/626052411.py:28: UserWarning: `Model.fit_generator` is deprecated and will be removed in a future version. Please use `Model.fit`, which supports generators.\n",
      "  history=model.fit_generator(train_generator, steps_per_epoch=steps_per_epoch, epochs=num_epochs, verbose=1,\n"
     ]
    },
    {
     "name": "stdout",
     "output_type": "stream",
     "text": [
      "Epoch 1/20\n",
      "45/45 [==============================] - ETA: 0s - loss: 2.9325 - categorical_accuracy: 0.3659Source path =  /home/datasets/Project_data/val ; batch size = 15\n",
      "\n",
      "Epoch 00001: val_loss improved from inf to 3.51725, saving model to model_init_2022-05-1702_21_43.511214/model-00001-2.93248-0.36593-3.51725-0.20000.h5\n",
      "45/45 [==============================] - 82s 2s/step - loss: 2.9325 - categorical_accuracy: 0.3659 - val_loss: 3.5173 - val_categorical_accuracy: 0.2000 - lr: 0.0010\n",
      "Epoch 2/20\n",
      "45/45 [==============================] - ETA: 0s - loss: 2.3000 - categorical_accuracy: 0.5407\n",
      "Epoch 00002: val_loss did not improve from 3.51725\n",
      "45/45 [==============================] - 80s 2s/step - loss: 2.3000 - categorical_accuracy: 0.5407 - val_loss: 3.5812 - val_categorical_accuracy: 0.1333 - lr: 0.0010\n",
      "Epoch 3/20\n",
      "45/45 [==============================] - ETA: 0s - loss: 1.9680 - categorical_accuracy: 0.5689\n",
      "Epoch 00003: val_loss improved from 3.51725 to 3.32873, saving model to model_init_2022-05-1702_21_43.511214/model-00003-1.96798-0.56889-3.32873-0.21905.h5\n",
      "45/45 [==============================] - 81s 2s/step - loss: 1.9680 - categorical_accuracy: 0.5689 - val_loss: 3.3287 - val_categorical_accuracy: 0.2190 - lr: 0.0010\n",
      "Epoch 4/20\n",
      "45/45 [==============================] - ETA: 0s - loss: 1.5783 - categorical_accuracy: 0.6904\n",
      "Epoch 00004: val_loss did not improve from 3.32873\n",
      "45/45 [==============================] - 81s 2s/step - loss: 1.5783 - categorical_accuracy: 0.6904 - val_loss: 3.7670 - val_categorical_accuracy: 0.2286 - lr: 0.0010\n",
      "Epoch 5/20\n",
      "45/45 [==============================] - ETA: 0s - loss: 1.3622 - categorical_accuracy: 0.7467\n",
      "Epoch 00005: val_loss did not improve from 3.32873\n",
      "45/45 [==============================] - 81s 2s/step - loss: 1.3622 - categorical_accuracy: 0.7467 - val_loss: 4.2447 - val_categorical_accuracy: 0.1714 - lr: 0.0010\n",
      "Epoch 6/20\n",
      "45/45 [==============================] - ETA: 0s - loss: 1.1119 - categorical_accuracy: 0.8148\n",
      "Epoch 00006: val_loss did not improve from 3.32873\n",
      "45/45 [==============================] - 81s 2s/step - loss: 1.1119 - categorical_accuracy: 0.8148 - val_loss: 3.8233 - val_categorical_accuracy: 0.2381 - lr: 0.0010\n",
      "Epoch 7/20\n",
      "45/45 [==============================] - ETA: 0s - loss: 1.0305 - categorical_accuracy: 0.8000\n",
      "Epoch 00007: val_loss did not improve from 3.32873\n",
      "45/45 [==============================] - 80s 2s/step - loss: 1.0305 - categorical_accuracy: 0.8000 - val_loss: 5.2994 - val_categorical_accuracy: 0.1619 - lr: 0.0010\n",
      "Epoch 8/20\n",
      "45/45 [==============================] - ETA: 0s - loss: 0.8748 - categorical_accuracy: 0.8667\n",
      "Epoch 00008: val_loss did not improve from 3.32873\n",
      "\n",
      "Epoch 00008: ReduceLROnPlateau reducing learning rate to 1.0000000474974514e-05.\n",
      "45/45 [==============================] - 81s 2s/step - loss: 0.8748 - categorical_accuracy: 0.8667 - val_loss: 4.4243 - val_categorical_accuracy: 0.1810 - lr: 0.0010\n",
      "Epoch 9/20\n",
      "45/45 [==============================] - ETA: 0s - loss: 0.7198 - categorical_accuracy: 0.9215\n",
      "Epoch 00009: val_loss did not improve from 3.32873\n",
      "45/45 [==============================] - 81s 2s/step - loss: 0.7198 - categorical_accuracy: 0.9215 - val_loss: 3.9655 - val_categorical_accuracy: 0.2381 - lr: 1.0000e-05\n",
      "Epoch 10/20\n",
      "45/45 [==============================] - ETA: 0s - loss: 0.7038 - categorical_accuracy: 0.9170\n",
      "Epoch 00010: val_loss did not improve from 3.32873\n",
      "45/45 [==============================] - 80s 2s/step - loss: 0.7038 - categorical_accuracy: 0.9170 - val_loss: 3.9417 - val_categorical_accuracy: 0.2952 - lr: 1.0000e-05\n",
      "Epoch 11/20\n",
      "45/45 [==============================] - ETA: 0s - loss: 0.6944 - categorical_accuracy: 0.9126\n",
      "Epoch 00011: val_loss improved from 3.32873 to 3.20715, saving model to model_init_2022-05-1702_21_43.511214/model-00011-0.69436-0.91259-3.20715-0.31429.h5\n",
      "45/45 [==============================] - 80s 2s/step - loss: 0.6944 - categorical_accuracy: 0.9126 - val_loss: 3.2071 - val_categorical_accuracy: 0.3143 - lr: 1.0000e-05\n",
      "Epoch 12/20\n",
      "45/45 [==============================] - ETA: 0s - loss: 0.6948 - categorical_accuracy: 0.9244\n",
      "Epoch 00012: val_loss improved from 3.20715 to 2.42125, saving model to model_init_2022-05-1702_21_43.511214/model-00012-0.69483-0.92444-2.42125-0.55238.h5\n",
      "45/45 [==============================] - 81s 2s/step - loss: 0.6948 - categorical_accuracy: 0.9244 - val_loss: 2.4212 - val_categorical_accuracy: 0.5524 - lr: 1.0000e-05\n",
      "Epoch 13/20\n",
      "45/45 [==============================] - ETA: 0s - loss: 0.6714 - categorical_accuracy: 0.9259\n",
      "Epoch 00013: val_loss improved from 2.42125 to 2.23500, saving model to model_init_2022-05-1702_21_43.511214/model-00013-0.67136-0.92593-2.23500-0.55238.h5\n",
      "45/45 [==============================] - 81s 2s/step - loss: 0.6714 - categorical_accuracy: 0.9259 - val_loss: 2.2350 - val_categorical_accuracy: 0.5524 - lr: 1.0000e-05\n",
      "Epoch 14/20\n",
      "45/45 [==============================] - ETA: 0s - loss: 0.6834 - categorical_accuracy: 0.9348\n",
      "Epoch 00014: val_loss improved from 2.23500 to 1.99673, saving model to model_init_2022-05-1702_21_43.511214/model-00014-0.68338-0.93481-1.99673-0.57143.h5\n",
      "45/45 [==============================] - 81s 2s/step - loss: 0.6834 - categorical_accuracy: 0.9348 - val_loss: 1.9967 - val_categorical_accuracy: 0.5714 - lr: 1.0000e-05\n",
      "Epoch 15/20\n",
      "45/45 [==============================] - ETA: 0s - loss: 0.6923 - categorical_accuracy: 0.9200\n",
      "Epoch 00015: val_loss improved from 1.99673 to 1.95173, saving model to model_init_2022-05-1702_21_43.511214/model-00015-0.69228-0.92000-1.95173-0.60952.h5\n",
      "45/45 [==============================] - 80s 2s/step - loss: 0.6923 - categorical_accuracy: 0.9200 - val_loss: 1.9517 - val_categorical_accuracy: 0.6095 - lr: 1.0000e-05\n",
      "Epoch 16/20\n",
      "45/45 [==============================] - ETA: 0s - loss: 0.6800 - categorical_accuracy: 0.9363\n",
      "Epoch 00016: val_loss improved from 1.95173 to 1.72494, saving model to model_init_2022-05-1702_21_43.511214/model-00016-0.68002-0.93630-1.72494-0.60000.h5\n",
      "45/45 [==============================] - 81s 2s/step - loss: 0.6800 - categorical_accuracy: 0.9363 - val_loss: 1.7249 - val_categorical_accuracy: 0.6000 - lr: 1.0000e-05\n",
      "Epoch 17/20\n",
      "45/45 [==============================] - ETA: 0s - loss: 0.6720 - categorical_accuracy: 0.9452\n",
      "Epoch 00017: val_loss did not improve from 1.72494\n",
      "45/45 [==============================] - 81s 2s/step - loss: 0.6720 - categorical_accuracy: 0.9452 - val_loss: 1.8854 - val_categorical_accuracy: 0.6571 - lr: 1.0000e-05\n",
      "Epoch 18/20\n",
      "45/45 [==============================] - ETA: 0s - loss: 0.6566 - categorical_accuracy: 0.9526\n",
      "Epoch 00018: val_loss improved from 1.72494 to 1.55441, saving model to model_init_2022-05-1702_21_43.511214/model-00018-0.65662-0.95259-1.55441-0.69524.h5\n",
      "45/45 [==============================] - 81s 2s/step - loss: 0.6566 - categorical_accuracy: 0.9526 - val_loss: 1.5544 - val_categorical_accuracy: 0.6952 - lr: 1.0000e-05\n",
      "Epoch 19/20\n",
      "45/45 [==============================] - ETA: 0s - loss: 0.6390 - categorical_accuracy: 0.9467\n",
      "Epoch 00019: val_loss did not improve from 1.55441\n",
      "45/45 [==============================] - 80s 2s/step - loss: 0.6390 - categorical_accuracy: 0.9467 - val_loss: 1.8068 - val_categorical_accuracy: 0.6381 - lr: 1.0000e-05\n",
      "Epoch 20/20\n",
      "45/45 [==============================] - ETA: 0s - loss: 0.6533 - categorical_accuracy: 0.9556\n",
      "Epoch 00020: val_loss did not improve from 1.55441\n",
      "45/45 [==============================] - 80s 2s/step - loss: 0.6533 - categorical_accuracy: 0.9556 - val_loss: 1.6153 - val_categorical_accuracy: 0.7429 - lr: 1.0000e-05\n"
     ]
    }
   ],
   "source": [
    "print(\"Total Params:\", model.count_params())\n",
    "trained_model_3=train_model(model)"
   ]
  },
  {
   "cell_type": "code",
   "execution_count": 24,
   "metadata": {},
   "outputs": [
    {
     "data": {
      "image/png": "[encoded data removed]",
      "text/plain": [
       "<Figure size 1080x288 with 2 Axes>"
      ]
     },
     "metadata": {
      "needs_background": "light"
     },
     "output_type": "display_data"
    }
   ],
   "source": [
    "plot(trained_model_3)"
   ]
  },
  {
   "cell_type": "markdown",
   "metadata": {},
   "source": [
    "> Observation : \n",
    ">> Val Loss is getting lower"
   ]
  },
  {
   "cell_type": "markdown",
   "metadata": {},
   "source": [
    "### Model 4 : Conv2D layers + GRU Layer+ SDG optimiser + dropout + L2 regularization¶"
   ]
  },
  {
   "cell_type": "code",
   "execution_count": 25,
   "metadata": {},
   "outputs": [],
   "source": [
    "num_featuremaps = [16,32,64,128]\n",
    "num_denselayers = [64,32,5]\n",
    "num_classes = 5\n",
    "frames = 15\n",
    "dropout = 0.25\n",
    "\n",
    "# Input\n",
    "input_shape=(frames,120,120,3)\n",
    "\n",
    "model = Sequential()\n",
    "\n",
    "model.add(TimeDistributed(Conv2D(num_featuremaps[0], (3, 3), strides=(2, 2),activation='relu', padding='same'), input_shape=input_shape))\n",
    "model.add(TimeDistributed(BatchNormalization()))\n",
    "model.add(TimeDistributed(MaxPooling2D((2, 2), strides=(2, 2))))\n",
    "model.add(Dropout(dropout))\n",
    "\n",
    "model.add(TimeDistributed(Conv2D(num_featuremaps[1], (3,3),padding='same', activation='relu')))\n",
    "model.add(TimeDistributed(BatchNormalization()))\n",
    "model.add(TimeDistributed(MaxPooling2D((2, 2), strides=(2, 2))))\n",
    "\n",
    "model.add(TimeDistributed(Conv2D(num_featuremaps[2], (3,3),padding='same', activation='relu')))\n",
    "model.add(TimeDistributed(BatchNormalization()))\n",
    "model.add(TimeDistributed(MaxPooling2D((2, 2), strides=(2, 2))))\n",
    "model.add(Dropout(dropout))\n",
    "\n",
    "model.add(TimeDistributed(Conv2D(num_featuremaps[3], (2,2),padding='same', activation='relu')))\n",
    "model.add(TimeDistributed(BatchNormalization()))\n",
    "model.add(TimeDistributed(MaxPooling2D((2, 2), strides=(2, 2))))\n",
    "\n",
    "model.add(TimeDistributed(Flatten()))\n",
    "\n",
    "model.add(Dense(num_denselayers[0], activation='relu', kernel_regularizer=l2(0.01)))\n",
    "model.add(Dense(num_denselayers[1], activation='relu', kernel_regularizer=l2(0.01)))\n",
    "model.add(Dropout(dropout))\n",
    "\n",
    "## using GRU as the RNN model along with softmax as our last layer.\n",
    "model.add(GRU(64, return_sequences=False))\n",
    "model.add(Dropout(dropout))\n",
    "\n",
    " # using Softmax as last layer\n",
    "model.add(Dense(num_classes, activation='softmax'))"
   ]
  },
  {
   "cell_type": "code",
   "execution_count": 26,
   "metadata": {},
   "outputs": [
    {
     "name": "stdout",
     "output_type": "stream",
     "text": [
      "Model: \"sequential_5\"\n",
      "_________________________________________________________________\n",
      " Layer (type)                Output Shape              Param #   \n",
      "=================================================================\n",
      " time_distributed_65 (TimeDi  (None, 15, 60, 60, 16)   448       \n",
      " stributed)                                                      \n",
      "                                                                 \n",
      " time_distributed_66 (TimeDi  (None, 15, 60, 60, 16)   64        \n",
      " stributed)                                                      \n",
      "                                                                 \n",
      " time_distributed_67 (TimeDi  (None, 15, 30, 30, 16)   0         \n",
      " stributed)                                                      \n",
      "                                                                 \n",
      " dropout_14 (Dropout)        (None, 15, 30, 30, 16)    0         \n",
      "                                                                 \n",
      " time_distributed_68 (TimeDi  (None, 15, 30, 30, 32)   4640      \n",
      " stributed)                                                      \n",
      "                                                                 \n",
      " time_distributed_69 (TimeDi  (None, 15, 30, 30, 32)   128       \n",
      " stributed)                                                      \n",
      "                                                                 \n",
      " time_distributed_70 (TimeDi  (None, 15, 15, 15, 32)   0         \n",
      " stributed)                                                      \n",
      "                                                                 \n",
      " time_distributed_71 (TimeDi  (None, 15, 15, 15, 64)   18496     \n",
      " stributed)                                                      \n",
      "                                                                 \n",
      " time_distributed_72 (TimeDi  (None, 15, 15, 15, 64)   256       \n",
      " stributed)                                                      \n",
      "                                                                 \n",
      " time_distributed_73 (TimeDi  (None, 15, 7, 7, 64)     0         \n",
      " stributed)                                                      \n",
      "                                                                 \n",
      " dropout_15 (Dropout)        (None, 15, 7, 7, 64)      0         \n",
      "                                                                 \n",
      " time_distributed_74 (TimeDi  (None, 15, 7, 7, 128)    32896     \n",
      " stributed)                                                      \n",
      "                                                                 \n",
      " time_distributed_75 (TimeDi  (None, 15, 7, 7, 128)    512       \n",
      " stributed)                                                      \n",
      "                                                                 \n",
      " time_distributed_76 (TimeDi  (None, 15, 3, 3, 128)    0         \n",
      " stributed)                                                      \n",
      "                                                                 \n",
      " time_distributed_77 (TimeDi  (None, 15, 1152)         0         \n",
      " stributed)                                                      \n",
      "                                                                 \n",
      " dense_12 (Dense)            (None, 15, 64)            73792     \n",
      "                                                                 \n",
      " dense_13 (Dense)            (None, 15, 32)            2080      \n",
      "                                                                 \n",
      " dropout_16 (Dropout)        (None, 15, 32)            0         \n",
      "                                                                 \n",
      " gru_4 (GRU)                 (None, 64)                18816     \n",
      "                                                                 \n",
      " dropout_17 (Dropout)        (None, 64)                0         \n",
      "                                                                 \n",
      " dense_14 (Dense)            (None, 5)                 325       \n",
      "                                                                 \n",
      "=================================================================\n",
      "Total params: 152,453\n",
      "Trainable params: 151,973\n",
      "Non-trainable params: 480\n",
      "_________________________________________________________________\n",
      "None\n"
     ]
    }
   ],
   "source": [
    "optimiser = \"sgd\" #write your optimizer\n",
    "model.compile(optimizer=optimiser, loss='categorical_crossentropy', metrics=['categorical_accuracy'])\n",
    "\n",
    "# Model Summary\n",
    "print (model.summary())"
   ]
  },
  {
   "cell_type": "code",
   "execution_count": 27,
   "metadata": {},
   "outputs": [
    {
     "name": "stdout",
     "output_type": "stream",
     "text": [
      "Total Params: 152453\n",
      "WARNING:tensorflow:`period` argument is deprecated. Please use `save_freq` to specify the frequency in number of batches seen.\n",
      "Source path =  /home/datasets/Project_data/train ; batch size = 15\n"
     ]
    },
    {
     "name": "stderr",
     "output_type": "stream",
     "text": [
      "/tmp/ipykernel_470/626052411.py:28: UserWarning: `Model.fit_generator` is deprecated and will be removed in a future version. Please use `Model.fit`, which supports generators.\n",
      "  history=model.fit_generator(train_generator, steps_per_epoch=steps_per_epoch, epochs=num_epochs, verbose=1,\n"
     ]
    },
    {
     "name": "stdout",
     "output_type": "stream",
     "text": [
      "Epoch 1/20\n",
      "45/45 [==============================] - ETA: 0s - loss: 3.2059 - categorical_accuracy: 0.2948Source path =  /home/datasets/Project_data/val ; batch size = 15\n",
      "\n",
      "Epoch 00001: val_loss improved from inf to 3.33818, saving model to model_init_2022-05-1702_21_43.511214/model-00001-3.20594-0.29481-3.33818-0.20952.h5\n",
      "45/45 [==============================] - 81s 2s/step - loss: 3.2059 - categorical_accuracy: 0.2948 - val_loss: 3.3382 - val_categorical_accuracy: 0.2095 - lr: 0.0100\n",
      "Epoch 2/20\n",
      "45/45 [==============================] - ETA: 0s - loss: 2.8740 - categorical_accuracy: 0.4385\n",
      "Epoch 00002: val_loss improved from 3.33818 to 3.32628, saving model to model_init_2022-05-1702_21_43.511214/model-00002-2.87395-0.43852-3.32628-0.17143.h5\n",
      "45/45 [==============================] - 79s 2s/step - loss: 2.8740 - categorical_accuracy: 0.4385 - val_loss: 3.3263 - val_categorical_accuracy: 0.1714 - lr: 0.0100\n",
      "Epoch 3/20\n",
      "45/45 [==============================] - ETA: 0s - loss: 2.7260 - categorical_accuracy: 0.5170\n",
      "Epoch 00003: val_loss did not improve from 3.32628\n",
      "45/45 [==============================] - 78s 2s/step - loss: 2.7260 - categorical_accuracy: 0.5170 - val_loss: 3.5441 - val_categorical_accuracy: 0.1048 - lr: 0.0100\n",
      "Epoch 4/20\n",
      "45/45 [==============================] - ETA: 0s - loss: 2.6187 - categorical_accuracy: 0.5644\n",
      "Epoch 00004: val_loss did not improve from 3.32628\n",
      "45/45 [==============================] - 78s 2s/step - loss: 2.6187 - categorical_accuracy: 0.5644 - val_loss: 3.6061 - val_categorical_accuracy: 0.1524 - lr: 0.0100\n",
      "Epoch 5/20\n",
      "45/45 [==============================] - ETA: 0s - loss: 2.4546 - categorical_accuracy: 0.6178\n",
      "Epoch 00005: val_loss did not improve from 3.32628\n",
      "45/45 [==============================] - 80s 2s/step - loss: 2.4546 - categorical_accuracy: 0.6178 - val_loss: 3.8424 - val_categorical_accuracy: 0.1048 - lr: 0.0100\n",
      "Epoch 6/20\n",
      "45/45 [==============================] - ETA: 0s - loss: 2.3479 - categorical_accuracy: 0.6770\n",
      "Epoch 00006: val_loss did not improve from 3.32628\n",
      "45/45 [==============================] - 79s 2s/step - loss: 2.3479 - categorical_accuracy: 0.6770 - val_loss: 3.6921 - val_categorical_accuracy: 0.1810 - lr: 0.0100\n",
      "Epoch 7/20\n",
      "45/45 [==============================] - ETA: 0s - loss: 2.2322 - categorical_accuracy: 0.7141\n",
      "Epoch 00007: val_loss did not improve from 3.32628\n",
      "\n",
      "Epoch 00007: ReduceLROnPlateau reducing learning rate to 9.999999776482583e-05.\n",
      "45/45 [==============================] - 78s 2s/step - loss: 2.2322 - categorical_accuracy: 0.7141 - val_loss: 3.7024 - val_categorical_accuracy: 0.2857 - lr: 0.0100\n",
      "Epoch 8/20\n",
      "45/45 [==============================] - ETA: 0s - loss: 2.1937 - categorical_accuracy: 0.7185\n",
      "Epoch 00008: val_loss did not improve from 3.32628\n",
      "45/45 [==============================] - 80s 2s/step - loss: 2.1937 - categorical_accuracy: 0.7185 - val_loss: 3.5576 - val_categorical_accuracy: 0.3429 - lr: 1.0000e-04\n",
      "Epoch 9/20\n",
      "45/45 [==============================] - ETA: 0s - loss: 2.1660 - categorical_accuracy: 0.7319\n",
      "Epoch 00009: val_loss did not improve from 3.32628\n",
      "45/45 [==============================] - 79s 2s/step - loss: 2.1660 - categorical_accuracy: 0.7319 - val_loss: 3.5227 - val_categorical_accuracy: 0.3143 - lr: 1.0000e-04\n",
      "Epoch 10/20\n",
      "45/45 [==============================] - ETA: 0s - loss: 2.1626 - categorical_accuracy: 0.7215\n",
      "Epoch 00010: val_loss improved from 3.32628 to 3.09852, saving model to model_init_2022-05-1702_21_43.511214/model-00010-2.16264-0.72148-3.09852-0.43810.h5\n",
      "45/45 [==============================] - 79s 2s/step - loss: 2.1626 - categorical_accuracy: 0.7215 - val_loss: 3.0985 - val_categorical_accuracy: 0.4381 - lr: 1.0000e-04\n",
      "Epoch 11/20\n",
      "45/45 [==============================] - ETA: 0s - loss: 2.1567 - categorical_accuracy: 0.7200\n",
      "Epoch 00011: val_loss did not improve from 3.09852\n",
      "45/45 [==============================] - 79s 2s/step - loss: 2.1567 - categorical_accuracy: 0.7200 - val_loss: 3.1300 - val_categorical_accuracy: 0.4000 - lr: 1.0000e-04\n",
      "Epoch 12/20\n",
      "45/45 [==============================] - ETA: 0s - loss: 2.0995 - categorical_accuracy: 0.7630\n",
      "Epoch 00012: val_loss did not improve from 3.09852\n",
      "45/45 [==============================] - 79s 2s/step - loss: 2.0995 - categorical_accuracy: 0.7630 - val_loss: 3.1096 - val_categorical_accuracy: 0.4381 - lr: 1.0000e-04\n",
      "Epoch 13/20\n",
      "45/45 [==============================] - ETA: 0s - loss: 2.1461 - categorical_accuracy: 0.7378\n",
      "Epoch 00013: val_loss improved from 3.09852 to 2.98533, saving model to model_init_2022-05-1702_21_43.511214/model-00013-2.14608-0.73778-2.98533-0.45714.h5\n",
      "45/45 [==============================] - 79s 2s/step - loss: 2.1461 - categorical_accuracy: 0.7378 - val_loss: 2.9853 - val_categorical_accuracy: 0.4571 - lr: 1.0000e-04\n",
      "Epoch 14/20\n",
      "45/45 [==============================] - ETA: 0s - loss: 2.1553 - categorical_accuracy: 0.7496\n",
      "Epoch 00014: val_loss improved from 2.98533 to 2.85594, saving model to model_init_2022-05-1702_21_43.511214/model-00014-2.15534-0.74963-2.85594-0.49524.h5\n",
      "45/45 [==============================] - 79s 2s/step - loss: 2.1553 - categorical_accuracy: 0.7496 - val_loss: 2.8559 - val_categorical_accuracy: 0.4952 - lr: 1.0000e-04\n",
      "Epoch 15/20\n",
      "45/45 [==============================] - ETA: 0s - loss: 2.1056 - categorical_accuracy: 0.7615\n",
      "Epoch 00015: val_loss improved from 2.85594 to 2.73580, saving model to model_init_2022-05-1702_21_43.511214/model-00015-2.10557-0.76148-2.73580-0.54286.h5\n",
      "45/45 [==============================] - 78s 2s/step - loss: 2.1056 - categorical_accuracy: 0.7615 - val_loss: 2.7358 - val_categorical_accuracy: 0.5429 - lr: 1.0000e-04\n",
      "Epoch 16/20\n",
      "45/45 [==============================] - ETA: 0s - loss: 2.1156 - categorical_accuracy: 0.7630\n",
      "Epoch 00016: val_loss did not improve from 2.73580\n",
      "45/45 [==============================] - 79s 2s/step - loss: 2.1156 - categorical_accuracy: 0.7630 - val_loss: 2.8078 - val_categorical_accuracy: 0.5333 - lr: 1.0000e-04\n",
      "Epoch 17/20\n",
      "45/45 [==============================] - ETA: 0s - loss: 2.1107 - categorical_accuracy: 0.7719\n",
      "Epoch 00017: val_loss did not improve from 2.73580\n",
      "45/45 [==============================] - 78s 2s/step - loss: 2.1107 - categorical_accuracy: 0.7719 - val_loss: 2.8359 - val_categorical_accuracy: 0.4762 - lr: 1.0000e-04\n",
      "Epoch 18/20\n",
      "45/45 [==============================] - ETA: 0s - loss: 2.1093 - categorical_accuracy: 0.7585\n",
      "Epoch 00018: val_loss did not improve from 2.73580\n",
      "45/45 [==============================] - 80s 2s/step - loss: 2.1093 - categorical_accuracy: 0.7585 - val_loss: 2.8520 - val_categorical_accuracy: 0.5905 - lr: 1.0000e-04\n",
      "Epoch 19/20\n",
      "45/45 [==============================] - ETA: 0s - loss: 2.0998 - categorical_accuracy: 0.7852\n",
      "Epoch 00019: val_loss did not improve from 2.73580\n",
      "45/45 [==============================] - 79s 2s/step - loss: 2.0998 - categorical_accuracy: 0.7852 - val_loss: 2.8139 - val_categorical_accuracy: 0.6000 - lr: 1.0000e-04\n",
      "Epoch 20/20\n",
      "45/45 [==============================] - ETA: 0s - loss: 2.1041 - categorical_accuracy: 0.7719\n",
      "Epoch 00020: val_loss did not improve from 2.73580\n",
      "\n",
      "Epoch 00020: ReduceLROnPlateau reducing learning rate to 9.999999747378752e-07.\n",
      "45/45 [==============================] - 79s 2s/step - loss: 2.1041 - categorical_accuracy: 0.7719 - val_loss: 2.7670 - val_categorical_accuracy: 0.5238 - lr: 1.0000e-04\n"
     ]
    }
   ],
   "source": [
    "print(\"Total Params:\", model.count_params())\n",
    "trained_model_4=train_model(model)"
   ]
  },
  {
   "cell_type": "code",
   "execution_count": 28,
   "metadata": {},
   "outputs": [
    {
     "data": {
      "image/png": "[encoded data removed]",
      "text/plain": [
       "<Figure size 1080x288 with 2 Axes>"
      ]
     },
     "metadata": {
      "needs_background": "light"
     },
     "output_type": "display_data"
    }
   ],
   "source": [
    "plot(trained_model_4)"
   ]
  },
  {
   "cell_type": "markdown",
   "metadata": {},
   "source": [
    "> Observation : \n",
    ">> Increase in validation accuracy"
   ]
  },
  {
   "cell_type": "markdown",
   "metadata": {},
   "source": [
    "### Model 5 : Conv3D layers + Dropout + Batch Normalization + L2 Regularization¶"
   ]
  },
  {
   "cell_type": "code",
   "execution_count": 29,
   "metadata": {},
   "outputs": [],
   "source": [
    "num_featuremaps = [16,32,64,128]\n",
    "num_denselayers = [64,32,5]\n",
    "num_classes = 5\n",
    "frames = 15\n",
    "dropout = 0.25\n",
    "\n",
    "# Input\n",
    "input_shape=(frames,120,120,3)\n",
    "\n",
    "# Define model\n",
    "model = Sequential()\n",
    "\n",
    "\n",
    "model.add(Conv3D(num_featuremaps[0], (3, 3, 3), padding = 'same', input_shape = input_shape))\n",
    "model.add(Activation('relu'))\n",
    "model.add(BatchNormalization())\n",
    "model.add(MaxPooling3D(pool_size = (2, 2, 2)))\n",
    "model.add(Dropout(0.25))\n",
    "          \n",
    "model.add(Conv3D(num_featuremaps[1], (2, 2, 2), padding = 'same'))\n",
    "model.add(Activation('relu'))\n",
    "model.add(BatchNormalization())\n",
    "model.add(MaxPooling3D(pool_size = (2, 2, 2)))\n",
    "\n",
    "model.add(Conv3D(num_featuremaps[2], (2, 2, 2), padding = 'same'))\n",
    "model.add(Activation('relu'))\n",
    "model.add(BatchNormalization())\n",
    "model.add(MaxPooling3D(pool_size = (2, 2, 2)))\n",
    "model.add(Dropout(0.25))\n",
    "          \n",
    "model.add(Flatten())\n",
    "          \n",
    "model.add(Dense(num_denselayers[0], activation='relu',kernel_regularizer=l2(0.01)))\n",
    "model.add(Dropout(0.25))\n",
    "          \n",
    "model.add(Dense(num_denselayers[1], activation='relu',kernel_regularizer=l2(0.01)))\n",
    "model.add(Dropout(0.25))\n",
    "          \n",
    "\n",
    " # using Softmax as last layer\n",
    "model.add(Dense(num_classes, activation='softmax'))"
   ]
  },
  {
   "cell_type": "code",
   "execution_count": 30,
   "metadata": {},
   "outputs": [
    {
     "name": "stdout",
     "output_type": "stream",
     "text": [
      "Model: \"sequential_6\"\n",
      "_________________________________________________________________\n",
      " Layer (type)                Output Shape              Param #   \n",
      "=================================================================\n",
      " conv3d (Conv3D)             (None, 15, 120, 120, 16)  1312      \n",
      "                                                                 \n",
      " activation (Activation)     (None, 15, 120, 120, 16)  0         \n",
      "                                                                 \n",
      " batch_normalization_24 (Bat  (None, 15, 120, 120, 16)  64       \n",
      " chNormalization)                                                \n",
      "                                                                 \n",
      " max_pooling3d (MaxPooling3D  (None, 7, 60, 60, 16)    0         \n",
      " )                                                               \n",
      "                                                                 \n",
      " dropout_18 (Dropout)        (None, 7, 60, 60, 16)     0         \n",
      "                                                                 \n",
      " conv3d_1 (Conv3D)           (None, 7, 60, 60, 32)     4128      \n",
      "                                                                 \n",
      " activation_1 (Activation)   (None, 7, 60, 60, 32)     0         \n",
      "                                                                 \n",
      " batch_normalization_25 (Bat  (None, 7, 60, 60, 32)    128       \n",
      " chNormalization)                                                \n",
      "                                                                 \n",
      " max_pooling3d_1 (MaxPooling  (None, 3, 30, 30, 32)    0         \n",
      " 3D)                                                             \n",
      "                                                                 \n",
      " conv3d_2 (Conv3D)           (None, 3, 30, 30, 64)     16448     \n",
      "                                                                 \n",
      " activation_2 (Activation)   (None, 3, 30, 30, 64)     0         \n",
      "                                                                 \n",
      " batch_normalization_26 (Bat  (None, 3, 30, 30, 64)    256       \n",
      " chNormalization)                                                \n",
      "                                                                 \n",
      " max_pooling3d_2 (MaxPooling  (None, 1, 15, 15, 64)    0         \n",
      " 3D)                                                             \n",
      "                                                                 \n",
      " dropout_19 (Dropout)        (None, 1, 15, 15, 64)     0         \n",
      "                                                                 \n",
      " flatten_6 (Flatten)         (None, 14400)             0         \n",
      "                                                                 \n",
      " dense_15 (Dense)            (None, 64)                921664    \n",
      "                                                                 \n",
      " dropout_20 (Dropout)        (None, 64)                0         \n",
      "                                                                 \n",
      " dense_16 (Dense)            (None, 32)                2080      \n",
      "                                                                 \n",
      " dropout_21 (Dropout)        (None, 32)                0         \n",
      "                                                                 \n",
      " dense_17 (Dense)            (None, 5)                 165       \n",
      "                                                                 \n",
      "=================================================================\n",
      "Total params: 946,245\n",
      "Trainable params: 946,021\n",
      "Non-trainable params: 224\n",
      "_________________________________________________________________\n",
      "None\n"
     ]
    }
   ],
   "source": [
    "optimiser = \"Adam\" #write your optimizer\n",
    "model.compile(optimizer=optimiser, loss='categorical_crossentropy', metrics=['categorical_accuracy'])\n",
    "\n",
    "# Model Summary\n",
    "print (model.summary())"
   ]
  },
  {
   "cell_type": "code",
   "execution_count": 31,
   "metadata": {},
   "outputs": [
    {
     "name": "stdout",
     "output_type": "stream",
     "text": [
      "Total Params: 946245\n",
      "WARNING:tensorflow:`period` argument is deprecated. Please use `save_freq` to specify the frequency in number of batches seen.\n",
      "Source path =  /home/datasets/Project_data/train ; batch size = 15\n"
     ]
    },
    {
     "name": "stderr",
     "output_type": "stream",
     "text": [
      "/tmp/ipykernel_470/626052411.py:28: UserWarning: `Model.fit_generator` is deprecated and will be removed in a future version. Please use `Model.fit`, which supports generators.\n",
      "  history=model.fit_generator(train_generator, steps_per_epoch=steps_per_epoch, epochs=num_epochs, verbose=1,\n"
     ]
    },
    {
     "name": "stdout",
     "output_type": "stream",
     "text": [
      "Epoch 1/20\n",
      "45/45 [==============================] - ETA: 0s - loss: 4.8475 - categorical_accuracy: 0.2859Source path =  /home/datasets/Project_data/val ; batch size = 15\n",
      "\n",
      "Epoch 00001: val_loss improved from inf to 5.67492, saving model to model_init_2022-05-1702_21_43.511214/model-00001-4.84749-0.28593-5.67492-0.25714.h5\n",
      "45/45 [==============================] - 80s 2s/step - loss: 4.8475 - categorical_accuracy: 0.2859 - val_loss: 5.6749 - val_categorical_accuracy: 0.2571 - lr: 0.0010\n",
      "Epoch 2/20\n",
      "45/45 [==============================] - ETA: 0s - loss: 3.0699 - categorical_accuracy: 0.3659\n",
      "Epoch 00002: val_loss did not improve from 5.67492\n",
      "45/45 [==============================] - 79s 2s/step - loss: 3.0699 - categorical_accuracy: 0.3659 - val_loss: 10.4040 - val_categorical_accuracy: 0.2286 - lr: 0.0010\n",
      "Epoch 3/20\n",
      "45/45 [==============================] - ETA: 0s - loss: 2.7816 - categorical_accuracy: 0.3763\n",
      "Epoch 00003: val_loss did not improve from 5.67492\n",
      "45/45 [==============================] - 79s 2s/step - loss: 2.7816 - categorical_accuracy: 0.3763 - val_loss: 12.5950 - val_categorical_accuracy: 0.2190 - lr: 0.0010\n",
      "Epoch 4/20\n",
      "45/45 [==============================] - ETA: 0s - loss: 2.4305 - categorical_accuracy: 0.4815\n",
      "Epoch 00004: val_loss did not improve from 5.67492\n",
      "45/45 [==============================] - 79s 2s/step - loss: 2.4305 - categorical_accuracy: 0.4815 - val_loss: 11.9927 - val_categorical_accuracy: 0.2190 - lr: 0.0010\n",
      "Epoch 5/20\n",
      "45/45 [==============================] - ETA: 0s - loss: 2.2064 - categorical_accuracy: 0.4726\n",
      "Epoch 00005: val_loss did not improve from 5.67492\n",
      "45/45 [==============================] - 79s 2s/step - loss: 2.2064 - categorical_accuracy: 0.4726 - val_loss: 10.7174 - val_categorical_accuracy: 0.1714 - lr: 0.0010\n",
      "Epoch 6/20\n",
      "45/45 [==============================] - ETA: 0s - loss: 2.0713 - categorical_accuracy: 0.5230\n",
      "Epoch 00006: val_loss did not improve from 5.67492\n",
      "\n",
      "Epoch 00006: ReduceLROnPlateau reducing learning rate to 1.0000000474974514e-05.\n",
      "45/45 [==============================] - 78s 2s/step - loss: 2.0713 - categorical_accuracy: 0.5230 - val_loss: 7.8865 - val_categorical_accuracy: 0.2000 - lr: 0.0010\n",
      "Epoch 7/20\n",
      "45/45 [==============================] - ETA: 0s - loss: 1.8691 - categorical_accuracy: 0.5467\n",
      "Epoch 00007: val_loss did not improve from 5.67492\n",
      "45/45 [==============================] - 79s 2s/step - loss: 1.8691 - categorical_accuracy: 0.5467 - val_loss: 6.2029 - val_categorical_accuracy: 0.2000 - lr: 1.0000e-05\n",
      "Epoch 8/20\n",
      "45/45 [==============================] - ETA: 0s - loss: 1.8709 - categorical_accuracy: 0.5733\n",
      "Epoch 00008: val_loss improved from 5.67492 to 4.35107, saving model to model_init_2022-05-1702_21_43.511214/model-00008-1.87091-0.57333-4.35107-0.23810.h5\n",
      "45/45 [==============================] - 79s 2s/step - loss: 1.8709 - categorical_accuracy: 0.5733 - val_loss: 4.3511 - val_categorical_accuracy: 0.2381 - lr: 1.0000e-05\n",
      "Epoch 9/20\n",
      "45/45 [==============================] - ETA: 0s - loss: 1.8225 - categorical_accuracy: 0.5733\n",
      "Epoch 00009: val_loss improved from 4.35107 to 3.81822, saving model to model_init_2022-05-1702_21_43.511214/model-00009-1.82250-0.57333-3.81822-0.28571.h5\n",
      "45/45 [==============================] - 78s 2s/step - loss: 1.8225 - categorical_accuracy: 0.5733 - val_loss: 3.8182 - val_categorical_accuracy: 0.2857 - lr: 1.0000e-05\n",
      "Epoch 10/20\n",
      "45/45 [==============================] - ETA: 0s - loss: 1.8275 - categorical_accuracy: 0.5896\n",
      "Epoch 00010: val_loss improved from 3.81822 to 3.51100, saving model to model_init_2022-05-1702_21_43.511214/model-00010-1.82751-0.58963-3.51100-0.27619.h5\n",
      "45/45 [==============================] - 78s 2s/step - loss: 1.8275 - categorical_accuracy: 0.5896 - val_loss: 3.5110 - val_categorical_accuracy: 0.2762 - lr: 1.0000e-05\n",
      "Epoch 11/20\n",
      "45/45 [==============================] - ETA: 0s - loss: 1.8179 - categorical_accuracy: 0.5807\n",
      "Epoch 00011: val_loss improved from 3.51100 to 3.37050, saving model to model_init_2022-05-1702_21_43.511214/model-00011-1.81792-0.58074-3.37050-0.34286.h5\n",
      "45/45 [==============================] - 79s 2s/step - loss: 1.8179 - categorical_accuracy: 0.5807 - val_loss: 3.3705 - val_categorical_accuracy: 0.3429 - lr: 1.0000e-05\n",
      "Epoch 12/20\n",
      "45/45 [==============================] - ETA: 0s - loss: 1.8318 - categorical_accuracy: 0.5704\n",
      "Epoch 00012: val_loss improved from 3.37050 to 3.19707, saving model to model_init_2022-05-1702_21_43.511214/model-00012-1.83183-0.57037-3.19707-0.47619.h5\n",
      "45/45 [==============================] - 78s 2s/step - loss: 1.8318 - categorical_accuracy: 0.5704 - val_loss: 3.1971 - val_categorical_accuracy: 0.4762 - lr: 1.0000e-05\n",
      "Epoch 13/20\n",
      "45/45 [==============================] - ETA: 0s - loss: 1.7700 - categorical_accuracy: 0.5881\n",
      "Epoch 00013: val_loss improved from 3.19707 to 2.58392, saving model to model_init_2022-05-1702_21_43.511214/model-00013-1.77002-0.58815-2.58392-0.51429.h5\n",
      "45/45 [==============================] - 79s 2s/step - loss: 1.7700 - categorical_accuracy: 0.5881 - val_loss: 2.5839 - val_categorical_accuracy: 0.5143 - lr: 1.0000e-05\n",
      "Epoch 14/20\n",
      "45/45 [==============================] - ETA: 0s - loss: 1.7992 - categorical_accuracy: 0.5837\n",
      "Epoch 00014: val_loss improved from 2.58392 to 2.45769, saving model to model_init_2022-05-1702_21_43.511214/model-00014-1.79916-0.58370-2.45769-0.53333.h5\n",
      "45/45 [==============================] - 79s 2s/step - loss: 1.7992 - categorical_accuracy: 0.5837 - val_loss: 2.4577 - val_categorical_accuracy: 0.5333 - lr: 1.0000e-05\n",
      "Epoch 15/20\n",
      "45/45 [==============================] - ETA: 0s - loss: 1.7607 - categorical_accuracy: 0.6104\n",
      "Epoch 00015: val_loss did not improve from 2.45769\n",
      "45/45 [==============================] - 79s 2s/step - loss: 1.7607 - categorical_accuracy: 0.6104 - val_loss: 2.8205 - val_categorical_accuracy: 0.4571 - lr: 1.0000e-05\n",
      "Epoch 16/20\n",
      "45/45 [==============================] - ETA: 0s - loss: 1.7702 - categorical_accuracy: 0.6119\n",
      "Epoch 00016: val_loss improved from 2.45769 to 2.34012, saving model to model_init_2022-05-1702_21_43.511214/model-00016-1.77017-0.61185-2.34012-0.54286.h5\n",
      "45/45 [==============================] - 79s 2s/step - loss: 1.7702 - categorical_accuracy: 0.6119 - val_loss: 2.3401 - val_categorical_accuracy: 0.5429 - lr: 1.0000e-05\n",
      "Epoch 17/20\n",
      "45/45 [==============================] - ETA: 0s - loss: 1.7543 - categorical_accuracy: 0.6207\n",
      "Epoch 00017: val_loss did not improve from 2.34012\n",
      "45/45 [==============================] - 78s 2s/step - loss: 1.7543 - categorical_accuracy: 0.6207 - val_loss: 2.6565 - val_categorical_accuracy: 0.4571 - lr: 1.0000e-05\n",
      "Epoch 18/20\n",
      "45/45 [==============================] - ETA: 0s - loss: 1.7389 - categorical_accuracy: 0.6237\n",
      "Epoch 00018: val_loss did not improve from 2.34012\n",
      "45/45 [==============================] - 79s 2s/step - loss: 1.7389 - categorical_accuracy: 0.6237 - val_loss: 2.6773 - val_categorical_accuracy: 0.5333 - lr: 1.0000e-05\n",
      "Epoch 19/20\n",
      "45/45 [==============================] - ETA: 0s - loss: 1.7502 - categorical_accuracy: 0.5941\n",
      "Epoch 00019: val_loss improved from 2.34012 to 2.30427, saving model to model_init_2022-05-1702_21_43.511214/model-00019-1.75021-0.59407-2.30427-0.58095.h5\n",
      "45/45 [==============================] - 78s 2s/step - loss: 1.7502 - categorical_accuracy: 0.5941 - val_loss: 2.3043 - val_categorical_accuracy: 0.5810 - lr: 1.0000e-05\n",
      "Epoch 20/20\n",
      "45/45 [==============================] - ETA: 0s - loss: 1.7540 - categorical_accuracy: 0.6030\n",
      "Epoch 00020: val_loss did not improve from 2.30427\n",
      "45/45 [==============================] - 79s 2s/step - loss: 1.7540 - categorical_accuracy: 0.6030 - val_loss: 2.5291 - val_categorical_accuracy: 0.5810 - lr: 1.0000e-05\n"
     ]
    }
   ],
   "source": [
    "print(\"Total Params:\", model.count_params())\n",
    "trained_model_5=train_model(model)"
   ]
  },
  {
   "cell_type": "code",
   "execution_count": 32,
   "metadata": {},
   "outputs": [
    {
     "data": {
      "image/png": "[encoded data removed]",
      "text/plain": [
       "<Figure size 1080x288 with 2 Axes>"
      ]
     },
     "metadata": {
      "needs_background": "light"
     },
     "output_type": "display_data"
    }
   ],
   "source": [
    "plot(trained_model_5)"
   ]
  },
  {
   "cell_type": "markdown",
   "metadata": {},
   "source": [
    "> Observation : \n",
    ">> Good Performance, val_loss & train loss are almost same at the end\n",
    ">> As well val_accuracy & train accuracy also touching eaching other at the end in the graph"
   ]
  },
  {
   "cell_type": "markdown",
   "metadata": {},
   "source": [
    "### Model 6 : Transfer Learning + Resnet50 + dropout + GRU Layer¶"
   ]
  },
  {
   "cell_type": "code",
   "execution_count": 38,
   "metadata": {},
   "outputs": [],
   "source": [
    "from tensorflow.keras.applications.resnet50 import ResNet50"
   ]
  },
  {
   "cell_type": "code",
   "execution_count": 39,
   "metadata": {},
   "outputs": [
    {
     "name": "stdout",
     "output_type": "stream",
     "text": [
      "Downloading data from https://storage.googleapis.com/tensorflow/keras-applications/resnet/resnet50_weights_tf_dim_ordering_tf_kernels_notop.h5\n",
      "94773248/94765736 [==============================] - 2s 0us/step\n",
      "94781440/94765736 [==============================] - 2s 0us/step\n"
     ]
    }
   ],
   "source": [
    "num_featuremaps = [16,32,64,128]\n",
    "num_denselayers = [64,32,5]\n",
    "num_classes = 5\n",
    "frames = 15\n",
    "dropout = 0.25\n",
    "\n",
    "# Input\n",
    "input_shape=(frames,120,120,3)\n",
    "\n",
    "# Define model\n",
    "\n",
    "resnet_model = ResNet50(weights='imagenet', include_top=False)\n",
    "\n",
    "model = Sequential()\n",
    "model.add(TimeDistributed(resnet_model,input_shape=input_shape))\n",
    "model.add(TimeDistributed(BatchNormalization()))\n",
    "model.add(TimeDistributed(MaxPooling2D((2, 2))))\n",
    "model.add(TimeDistributed(Flatten()))\n",
    "\n",
    "\n",
    "model.add(GRU(64, return_sequences=False))\n",
    "model.add(Dropout(dropout))\n",
    "\n",
    "model.add(Dense(num_denselayers[1], activation='relu'))\n",
    "model.add(Dropout(dropout))\n",
    "\n",
    "# using Softmax as last layer\n",
    "model.add(Dense(num_classes, activation='softmax')) \n"
   ]
  },
  {
   "cell_type": "code",
   "execution_count": 40,
   "metadata": {},
   "outputs": [
    {
     "name": "stdout",
     "output_type": "stream",
     "text": [
      "Model: \"sequential_7\"\n",
      "_________________________________________________________________\n",
      " Layer (type)                Output Shape              Param #   \n",
      "=================================================================\n",
      " time_distributed_78 (TimeDi  (None, 15, 4, 4, 2048)   23587712  \n",
      " stributed)                                                      \n",
      "                                                                 \n",
      " time_distributed_79 (TimeDi  (None, 15, 4, 4, 2048)   8192      \n",
      " stributed)                                                      \n",
      "                                                                 \n",
      " time_distributed_80 (TimeDi  (None, 15, 2, 2, 2048)   0         \n",
      " stributed)                                                      \n",
      "                                                                 \n",
      " time_distributed_81 (TimeDi  (None, 15, 8192)         0         \n",
      " stributed)                                                      \n",
      "                                                                 \n",
      " gru_5 (GRU)                 (None, 64)                1585536   \n",
      "                                                                 \n",
      " dropout_22 (Dropout)        (None, 64)                0         \n",
      "                                                                 \n",
      " dense_18 (Dense)            (None, 32)                2080      \n",
      "                                                                 \n",
      " dropout_23 (Dropout)        (None, 32)                0         \n",
      "                                                                 \n",
      " dense_19 (Dense)            (None, 5)                 165       \n",
      "                                                                 \n",
      "=================================================================\n",
      "Total params: 25,183,685\n",
      "Trainable params: 25,126,469\n",
      "Non-trainable params: 57,216\n",
      "_________________________________________________________________\n",
      "None\n"
     ]
    }
   ],
   "source": [
    "optimiser = \"Adam\" #write your optimizer\n",
    "model.compile(optimizer=optimiser, loss='categorical_crossentropy', metrics=['categorical_accuracy'])\n",
    "\n",
    "# Model Summary\n",
    "print (model.summary())"
   ]
  },
  {
   "cell_type": "code",
   "execution_count": 41,
   "metadata": {},
   "outputs": [
    {
     "name": "stdout",
     "output_type": "stream",
     "text": [
      "Total Params: 25183685\n",
      "WARNING:tensorflow:`period` argument is deprecated. Please use `save_freq` to specify the frequency in number of batches seen.\n",
      "Source path =  /home/datasets/Project_data/train ; batch size = 15\n"
     ]
    },
    {
     "name": "stderr",
     "output_type": "stream",
     "text": [
      "/tmp/ipykernel_470/626052411.py:28: UserWarning: `Model.fit_generator` is deprecated and will be removed in a future version. Please use `Model.fit`, which supports generators.\n",
      "  history=model.fit_generator(train_generator, steps_per_epoch=steps_per_epoch, epochs=num_epochs, verbose=1,\n"
     ]
    },
    {
     "name": "stdout",
     "output_type": "stream",
     "text": [
      "Epoch 1/20\n",
      "45/45 [==============================] - ETA: 0s - loss: 1.3346 - categorical_accuracy: 0.4548Source path =  /home/datasets/Project_data/val ; batch size = 15\n",
      "\n",
      "Epoch 00001: val_loss improved from inf to 2.15663, saving model to model_init_2022-05-1702_21_43.511214/model-00001-1.33459-0.45481-2.15663-0.17143.h5\n"
     ]
    },
    {
     "name": "stderr",
     "output_type": "stream",
     "text": [
      "/usr/local/lib/python3.8/dist-packages/keras/engine/functional.py:1410: CustomMaskWarning: Custom mask layers require a config and must override get_config. When loading, the custom mask layer must be passed to the custom_objects argument.\n",
      "  layer_config = serialize_layer_fn(layer)\n"
     ]
    },
    {
     "name": "stdout",
     "output_type": "stream",
     "text": [
      "45/45 [==============================] - 93s 2s/step - loss: 1.3346 - categorical_accuracy: 0.4548 - val_loss: 2.1566 - val_categorical_accuracy: 0.1714 - lr: 0.0010\n",
      "Epoch 2/20\n",
      "45/45 [==============================] - ETA: 0s - loss: 1.2295 - categorical_accuracy: 0.5259\n",
      "Epoch 00002: val_loss did not improve from 2.15663\n",
      "45/45 [==============================] - 81s 2s/step - loss: 1.2295 - categorical_accuracy: 0.5259 - val_loss: 2.3419 - val_categorical_accuracy: 0.2000 - lr: 0.0010\n",
      "Epoch 3/20\n",
      "45/45 [==============================] - ETA: 0s - loss: 0.9017 - categorical_accuracy: 0.6504\n",
      "Epoch 00003: val_loss improved from 2.15663 to 1.82707, saving model to model_init_2022-05-1702_21_43.511214/model-00003-0.90171-0.65037-1.82707-0.25714.h5\n",
      "45/45 [==============================] - 81s 2s/step - loss: 0.9017 - categorical_accuracy: 0.6504 - val_loss: 1.8271 - val_categorical_accuracy: 0.2571 - lr: 0.0010\n",
      "Epoch 4/20\n",
      "45/45 [==============================] - ETA: 0s - loss: 1.0818 - categorical_accuracy: 0.5689\n",
      "Epoch 00004: val_loss did not improve from 1.82707\n",
      "45/45 [==============================] - 81s 2s/step - loss: 1.0818 - categorical_accuracy: 0.5689 - val_loss: 2.1724 - val_categorical_accuracy: 0.2286 - lr: 0.0010\n",
      "Epoch 5/20\n",
      "45/45 [==============================] - ETA: 0s - loss: 1.0862 - categorical_accuracy: 0.5733\n",
      "Epoch 00005: val_loss did not improve from 1.82707\n",
      "45/45 [==============================] - 80s 2s/step - loss: 1.0862 - categorical_accuracy: 0.5733 - val_loss: 2.1563 - val_categorical_accuracy: 0.2857 - lr: 0.0010\n",
      "Epoch 6/20\n",
      "45/45 [==============================] - ETA: 0s - loss: 0.9669 - categorical_accuracy: 0.5926\n",
      "Epoch 00006: val_loss did not improve from 1.82707\n",
      "45/45 [==============================] - 82s 2s/step - loss: 0.9669 - categorical_accuracy: 0.5926 - val_loss: 3.5070 - val_categorical_accuracy: 0.2095 - lr: 0.0010\n",
      "Epoch 7/20\n",
      "45/45 [==============================] - ETA: 0s - loss: 1.1291 - categorical_accuracy: 0.5674\n",
      "Epoch 00007: val_loss did not improve from 1.82707\n",
      "45/45 [==============================] - 81s 2s/step - loss: 1.1291 - categorical_accuracy: 0.5674 - val_loss: 2.6853 - val_categorical_accuracy: 0.2000 - lr: 0.0010\n",
      "Epoch 8/20\n",
      "45/45 [==============================] - ETA: 0s - loss: 1.0796 - categorical_accuracy: 0.5778\n",
      "Epoch 00008: val_loss did not improve from 1.82707\n",
      "\n",
      "Epoch 00008: ReduceLROnPlateau reducing learning rate to 1.0000000474974514e-05.\n",
      "45/45 [==============================] - 80s 2s/step - loss: 1.0796 - categorical_accuracy: 0.5778 - val_loss: 2.3847 - val_categorical_accuracy: 0.2095 - lr: 0.0010\n",
      "Epoch 9/20\n",
      "45/45 [==============================] - ETA: 0s - loss: 0.9379 - categorical_accuracy: 0.6252\n",
      "Epoch 00009: val_loss did not improve from 1.82707\n",
      "45/45 [==============================] - 82s 2s/step - loss: 0.9379 - categorical_accuracy: 0.6252 - val_loss: 2.2238 - val_categorical_accuracy: 0.2571 - lr: 1.0000e-05\n",
      "Epoch 10/20\n",
      "45/45 [==============================] - ETA: 0s - loss: 0.9797 - categorical_accuracy: 0.5985\n",
      "Epoch 00010: val_loss did not improve from 1.82707\n",
      "45/45 [==============================] - 81s 2s/step - loss: 0.9797 - categorical_accuracy: 0.5985 - val_loss: 2.0167 - val_categorical_accuracy: 0.4000 - lr: 1.0000e-05\n",
      "Epoch 11/20\n",
      "45/45 [==============================] - ETA: 0s - loss: 0.9421 - categorical_accuracy: 0.6296\n",
      "Epoch 00011: val_loss improved from 1.82707 to 1.71949, saving model to model_init_2022-05-1702_21_43.511214/model-00011-0.94212-0.62963-1.71949-0.42857.h5\n",
      "45/45 [==============================] - 80s 2s/step - loss: 0.9421 - categorical_accuracy: 0.6296 - val_loss: 1.7195 - val_categorical_accuracy: 0.4286 - lr: 1.0000e-05\n",
      "Epoch 12/20\n",
      "45/45 [==============================] - ETA: 0s - loss: 0.9081 - categorical_accuracy: 0.6548\n",
      "Epoch 00012: val_loss improved from 1.71949 to 1.65698, saving model to model_init_2022-05-1702_21_43.511214/model-00012-0.90815-0.65481-1.65698-0.43810.h5\n",
      "45/45 [==============================] - 82s 2s/step - loss: 0.9081 - categorical_accuracy: 0.6548 - val_loss: 1.6570 - val_categorical_accuracy: 0.4381 - lr: 1.0000e-05\n",
      "Epoch 13/20\n",
      "45/45 [==============================] - ETA: 0s - loss: 0.9575 - categorical_accuracy: 0.6252\n",
      "Epoch 00013: val_loss improved from 1.65698 to 1.39594, saving model to model_init_2022-05-1702_21_43.511214/model-00013-0.95745-0.62519-1.39594-0.54286.h5\n",
      "45/45 [==============================] - 81s 2s/step - loss: 0.9575 - categorical_accuracy: 0.6252 - val_loss: 1.3959 - val_categorical_accuracy: 0.5429 - lr: 1.0000e-05\n",
      "Epoch 14/20\n",
      "45/45 [==============================] - ETA: 0s - loss: 0.8569 - categorical_accuracy: 0.6785\n",
      "Epoch 00014: val_loss did not improve from 1.39594\n",
      "45/45 [==============================] - 80s 2s/step - loss: 0.8569 - categorical_accuracy: 0.6785 - val_loss: 1.4674 - val_categorical_accuracy: 0.4762 - lr: 1.0000e-05\n",
      "Epoch 15/20\n",
      "45/45 [==============================] - ETA: 0s - loss: 0.9092 - categorical_accuracy: 0.6444\n",
      "Epoch 00015: val_loss improved from 1.39594 to 1.30966, saving model to model_init_2022-05-1702_21_43.511214/model-00015-0.90921-0.64444-1.30966-0.57143.h5\n",
      "45/45 [==============================] - 81s 2s/step - loss: 0.9092 - categorical_accuracy: 0.6444 - val_loss: 1.3097 - val_categorical_accuracy: 0.5714 - lr: 1.0000e-05\n",
      "Epoch 16/20\n",
      "45/45 [==============================] - ETA: 0s - loss: 0.8694 - categorical_accuracy: 0.6830\n",
      "Epoch 00016: val_loss did not improve from 1.30966\n",
      "45/45 [==============================] - 88s 2s/step - loss: 0.8694 - categorical_accuracy: 0.6830 - val_loss: 1.3463 - val_categorical_accuracy: 0.5619 - lr: 1.0000e-05\n",
      "Epoch 17/20\n",
      "45/45 [==============================] - ETA: 0s - loss: 0.8290 - categorical_accuracy: 0.6874\n",
      "Epoch 00017: val_loss did not improve from 1.30966\n",
      "45/45 [==============================] - 80s 2s/step - loss: 0.8290 - categorical_accuracy: 0.6874 - val_loss: 1.3595 - val_categorical_accuracy: 0.5524 - lr: 1.0000e-05\n",
      "Epoch 18/20\n",
      "45/45 [==============================] - ETA: 0s - loss: 0.8392 - categorical_accuracy: 0.6741\n",
      "Epoch 00018: val_loss did not improve from 1.30966\n",
      "45/45 [==============================] - 80s 2s/step - loss: 0.8392 - categorical_accuracy: 0.6741 - val_loss: 1.3957 - val_categorical_accuracy: 0.6095 - lr: 1.0000e-05\n",
      "Epoch 19/20\n",
      "45/45 [==============================] - ETA: 0s - loss: 0.8694 - categorical_accuracy: 0.6933\n",
      "Epoch 00019: val_loss improved from 1.30966 to 1.27555, saving model to model_init_2022-05-1702_21_43.511214/model-00019-0.86937-0.69333-1.27555-0.60952.h5\n",
      "45/45 [==============================] - 82s 2s/step - loss: 0.8694 - categorical_accuracy: 0.6933 - val_loss: 1.2755 - val_categorical_accuracy: 0.6095 - lr: 1.0000e-05\n",
      "Epoch 20/20\n",
      "45/45 [==============================] - ETA: 0s - loss: 0.7897 - categorical_accuracy: 0.6963\n",
      "Epoch 00020: val_loss did not improve from 1.27555\n",
      "45/45 [==============================] - 81s 2s/step - loss: 0.7897 - categorical_accuracy: 0.6963 - val_loss: 1.4057 - val_categorical_accuracy: 0.5714 - lr: 1.0000e-05\n"
     ]
    }
   ],
   "source": [
    "print(\"Total Params:\", model.count_params())\n",
    "trained_model_6=train_model(model)"
   ]
  },
  {
   "cell_type": "code",
   "execution_count": 42,
   "metadata": {},
   "outputs": [
    {
     "data": {
      "image/png": "[encoded data removed]",
      "text/plain": [
       "<Figure size 1080x288 with 2 Axes>"
      ]
     },
     "metadata": {
      "needs_background": "light"
     },
     "output_type": "display_data"
    }
   ],
   "source": [
    "plot(trained_model_6)"
   ]
  },
  {
   "cell_type": "markdown",
   "metadata": {},
   "source": [
    "> Observation : \n",
    ">> Degraded the performance compared to last model"
   ]
  },
  {
   "cell_type": "markdown",
   "metadata": {},
   "source": [
    "### Model 7 : Transfer Learning + VGGNET + dropout + GRU Layer¶"
   ]
  },
  {
   "cell_type": "code",
   "execution_count": 43,
   "metadata": {},
   "outputs": [],
   "source": [
    "from keras.applications.vgg16 import VGG16\n"
   ]
  },
  {
   "cell_type": "code",
   "execution_count": 44,
   "metadata": {},
   "outputs": [
    {
     "name": "stdout",
     "output_type": "stream",
     "text": [
      "Downloading data from https://storage.googleapis.com/tensorflow/keras-applications/vgg16/vgg16_weights_tf_dim_ordering_tf_kernels_notop.h5\n",
      "58892288/58889256 [==============================] - 1s 0us/step\n",
      "58900480/58889256 [==============================] - 1s 0us/step\n"
     ]
    }
   ],
   "source": [
    "num_featuremaps = [16,32,64,128]\n",
    "num_denselayers = [64,32,5]\n",
    "num_classes = 5\n",
    "frames = 15\n",
    "dropout = 0.25\n",
    "\n",
    "# Input\n",
    "input_shape=(frames,120,120,3)\n",
    "\n",
    "# Define model\n",
    "vgg_model = VGG16(weights='imagenet', include_top=False)\n",
    "\n",
    "model = Sequential()\n",
    "model.add(TimeDistributed(vgg_model,input_shape=input_shape))\n",
    "model.add(TimeDistributed(BatchNormalization()))\n",
    "model.add(TimeDistributed(MaxPooling2D((2, 2))))\n",
    "model.add(TimeDistributed(Flatten()))\n",
    "\n",
    "\n",
    "model.add(GRU(64, return_sequences=False))\n",
    "model.add(Dropout(dropout))\n",
    "\n",
    "model.add(Dense(num_denselayers[1], activation='relu'))\n",
    "model.add(Dropout(dropout))\n",
    "\n",
    "# using Softmax as last layer\n",
    "model.add(Dense(num_classes, activation='softmax')) "
   ]
  },
  {
   "cell_type": "code",
   "execution_count": 45,
   "metadata": {},
   "outputs": [
    {
     "name": "stdout",
     "output_type": "stream",
     "text": [
      "Model: \"sequential_8\"\n",
      "_________________________________________________________________\n",
      " Layer (type)                Output Shape              Param #   \n",
      "=================================================================\n",
      " time_distributed_82 (TimeDi  (None, 15, 3, 3, 512)    14714688  \n",
      " stributed)                                                      \n",
      "                                                                 \n",
      " time_distributed_83 (TimeDi  (None, 15, 3, 3, 512)    2048      \n",
      " stributed)                                                      \n",
      "                                                                 \n",
      " time_distributed_84 (TimeDi  (None, 15, 1, 1, 512)    0         \n",
      " stributed)                                                      \n",
      "                                                                 \n",
      " time_distributed_85 (TimeDi  (None, 15, 512)          0         \n",
      " stributed)                                                      \n",
      "                                                                 \n",
      " gru_6 (GRU)                 (None, 64)                110976    \n",
      "                                                                 \n",
      " dropout_24 (Dropout)        (None, 64)                0         \n",
      "                                                                 \n",
      " dense_20 (Dense)            (None, 32)                2080      \n",
      "                                                                 \n",
      " dropout_25 (Dropout)        (None, 32)                0         \n",
      "                                                                 \n",
      " dense_21 (Dense)            (None, 5)                 165       \n",
      "                                                                 \n",
      "=================================================================\n",
      "Total params: 14,829,957\n",
      "Trainable params: 14,828,933\n",
      "Non-trainable params: 1,024\n",
      "_________________________________________________________________\n",
      "None\n"
     ]
    }
   ],
   "source": [
    "optimiser = \"Adam\" #write your optimizer\n",
    "model.compile(optimizer=optimiser, loss='categorical_crossentropy', metrics=['categorical_accuracy'])\n",
    "\n",
    "# Model Summary\n",
    "print (model.summary())"
   ]
  },
  {
   "cell_type": "code",
   "execution_count": 46,
   "metadata": {},
   "outputs": [
    {
     "name": "stdout",
     "output_type": "stream",
     "text": [
      "Total Params: 14829957\n",
      "WARNING:tensorflow:`period` argument is deprecated. Please use `save_freq` to specify the frequency in number of batches seen.\n",
      "Source path =  /home/datasets/Project_data/train ; batch size = 15\n"
     ]
    },
    {
     "name": "stderr",
     "output_type": "stream",
     "text": [
      "/tmp/ipykernel_470/626052411.py:28: UserWarning: `Model.fit_generator` is deprecated and will be removed in a future version. Please use `Model.fit`, which supports generators.\n",
      "  history=model.fit_generator(train_generator, steps_per_epoch=steps_per_epoch, epochs=num_epochs, verbose=1,\n"
     ]
    },
    {
     "name": "stdout",
     "output_type": "stream",
     "text": [
      "Epoch 1/20\n",
      "45/45 [==============================] - ETA: 0s - loss: 1.6120 - categorical_accuracy: 0.2548Source path =  /home/datasets/Project_data/val ; batch size = 15\n",
      "\n",
      "Epoch 00001: val_loss improved from inf to 2.27720, saving model to model_init_2022-05-1702_21_43.511214/model-00001-1.61199-0.25481-2.27720-0.23810.h5\n",
      "45/45 [==============================] - 85s 2s/step - loss: 1.6120 - categorical_accuracy: 0.2548 - val_loss: 2.2772 - val_categorical_accuracy: 0.2381 - lr: 0.0010\n",
      "Epoch 2/20\n",
      "45/45 [==============================] - ETA: 0s - loss: 1.4969 - categorical_accuracy: 0.3244\n",
      "Epoch 00002: val_loss improved from 2.27720 to 2.25706, saving model to model_init_2022-05-1702_21_43.511214/model-00002-1.49692-0.32444-2.25706-0.29524.h5\n",
      "45/45 [==============================] - 80s 2s/step - loss: 1.4969 - categorical_accuracy: 0.3244 - val_loss: 2.2571 - val_categorical_accuracy: 0.2952 - lr: 0.0010\n",
      "Epoch 3/20\n",
      "45/45 [==============================] - ETA: 0s - loss: 1.4068 - categorical_accuracy: 0.3911\n",
      "Epoch 00003: val_loss did not improve from 2.25706\n",
      "45/45 [==============================] - 80s 2s/step - loss: 1.4068 - categorical_accuracy: 0.3911 - val_loss: 2.3401 - val_categorical_accuracy: 0.2190 - lr: 0.0010\n",
      "Epoch 4/20\n",
      "45/45 [==============================] - ETA: 0s - loss: 1.3852 - categorical_accuracy: 0.3807\n",
      "Epoch 00004: val_loss improved from 2.25706 to 1.80421, saving model to model_init_2022-05-1702_21_43.511214/model-00004-1.38522-0.38074-1.80421-0.22857.h5\n",
      "45/45 [==============================] - 81s 2s/step - loss: 1.3852 - categorical_accuracy: 0.3807 - val_loss: 1.8042 - val_categorical_accuracy: 0.2286 - lr: 0.0010\n",
      "Epoch 5/20\n",
      "45/45 [==============================] - ETA: 0s - loss: 1.3132 - categorical_accuracy: 0.4148\n",
      "Epoch 00005: val_loss did not improve from 1.80421\n",
      "45/45 [==============================] - 80s 2s/step - loss: 1.3132 - categorical_accuracy: 0.4148 - val_loss: 1.9209 - val_categorical_accuracy: 0.2571 - lr: 0.0010\n",
      "Epoch 6/20\n",
      "45/45 [==============================] - ETA: 0s - loss: 1.2817 - categorical_accuracy: 0.4296\n",
      "Epoch 00006: val_loss improved from 1.80421 to 1.66284, saving model to model_init_2022-05-1702_21_43.511214/model-00006-1.28169-0.42963-1.66284-0.42857.h5\n",
      "45/45 [==============================] - 80s 2s/step - loss: 1.2817 - categorical_accuracy: 0.4296 - val_loss: 1.6628 - val_categorical_accuracy: 0.4286 - lr: 0.0010\n",
      "Epoch 7/20\n",
      "45/45 [==============================] - ETA: 0s - loss: 1.2835 - categorical_accuracy: 0.4652\n",
      "Epoch 00007: val_loss did not improve from 1.66284\n",
      "45/45 [==============================] - 79s 2s/step - loss: 1.2835 - categorical_accuracy: 0.4652 - val_loss: 2.0561 - val_categorical_accuracy: 0.2476 - lr: 0.0010\n",
      "Epoch 8/20\n",
      "45/45 [==============================] - ETA: 0s - loss: 1.2300 - categorical_accuracy: 0.4593\n",
      "Epoch 00008: val_loss did not improve from 1.66284\n",
      "45/45 [==============================] - 80s 2s/step - loss: 1.2300 - categorical_accuracy: 0.4593 - val_loss: 1.7734 - val_categorical_accuracy: 0.2286 - lr: 0.0010\n",
      "Epoch 9/20\n",
      "45/45 [==============================] - ETA: 0s - loss: 1.2377 - categorical_accuracy: 0.4681\n",
      "Epoch 00009: val_loss did not improve from 1.66284\n",
      "45/45 [==============================] - 81s 2s/step - loss: 1.2377 - categorical_accuracy: 0.4681 - val_loss: 1.7549 - val_categorical_accuracy: 0.3524 - lr: 0.0010\n",
      "Epoch 10/20\n",
      "45/45 [==============================] - ETA: 0s - loss: 1.2190 - categorical_accuracy: 0.4667\n",
      "Epoch 00010: val_loss did not improve from 1.66284\n",
      "45/45 [==============================] - 79s 2s/step - loss: 1.2190 - categorical_accuracy: 0.4667 - val_loss: 2.0351 - val_categorical_accuracy: 0.2286 - lr: 0.0010\n",
      "Epoch 11/20\n",
      "45/45 [==============================] - ETA: 0s - loss: 1.1763 - categorical_accuracy: 0.5022\n",
      "Epoch 00011: val_loss did not improve from 1.66284\n",
      "\n",
      "Epoch 00011: ReduceLROnPlateau reducing learning rate to 1.0000000474974514e-05.\n",
      "45/45 [==============================] - 80s 2s/step - loss: 1.1763 - categorical_accuracy: 0.5022 - val_loss: 1.9368 - val_categorical_accuracy: 0.3048 - lr: 0.0010\n",
      "Epoch 12/20\n",
      "45/45 [==============================] - ETA: 0s - loss: 1.1839 - categorical_accuracy: 0.5052\n",
      "Epoch 00012: val_loss improved from 1.66284 to 1.34824, saving model to model_init_2022-05-1702_21_43.511214/model-00012-1.18393-0.50519-1.34824-0.53333.h5\n",
      "45/45 [==============================] - 80s 2s/step - loss: 1.1839 - categorical_accuracy: 0.5052 - val_loss: 1.3482 - val_categorical_accuracy: 0.5333 - lr: 1.0000e-05\n",
      "Epoch 13/20\n",
      "45/45 [==============================] - ETA: 0s - loss: 1.1743 - categorical_accuracy: 0.4978\n",
      "Epoch 00013: val_loss improved from 1.34824 to 1.34407, saving model to model_init_2022-05-1702_21_43.511214/model-00013-1.17431-0.49778-1.34407-0.51429.h5\n",
      "45/45 [==============================] - 81s 2s/step - loss: 1.1743 - categorical_accuracy: 0.4978 - val_loss: 1.3441 - val_categorical_accuracy: 0.5143 - lr: 1.0000e-05\n",
      "Epoch 14/20\n",
      "45/45 [==============================] - ETA: 0s - loss: 1.1306 - categorical_accuracy: 0.5259\n",
      "Epoch 00014: val_loss did not improve from 1.34407\n",
      "45/45 [==============================] - 81s 2s/step - loss: 1.1306 - categorical_accuracy: 0.5259 - val_loss: 1.3852 - val_categorical_accuracy: 0.5048 - lr: 1.0000e-05\n",
      "Epoch 15/20\n",
      "45/45 [==============================] - ETA: 0s - loss: 1.1128 - categorical_accuracy: 0.5200\n",
      "Epoch 00015: val_loss did not improve from 1.34407\n",
      "45/45 [==============================] - 80s 2s/step - loss: 1.1128 - categorical_accuracy: 0.5200 - val_loss: 1.4210 - val_categorical_accuracy: 0.5333 - lr: 1.0000e-05\n",
      "Epoch 16/20\n",
      "45/45 [==============================] - ETA: 0s - loss: 1.1207 - categorical_accuracy: 0.5215\n",
      "Epoch 00016: val_loss did not improve from 1.34407\n",
      "45/45 [==============================] - 81s 2s/step - loss: 1.1207 - categorical_accuracy: 0.5215 - val_loss: 1.4380 - val_categorical_accuracy: 0.4667 - lr: 1.0000e-05\n",
      "Epoch 17/20\n",
      "45/45 [==============================] - ETA: 0s - loss: 1.1484 - categorical_accuracy: 0.5007\n",
      "Epoch 00017: val_loss improved from 1.34407 to 1.27347, saving model to model_init_2022-05-1702_21_43.511214/model-00017-1.14839-0.50074-1.27347-0.59048.h5\n",
      "45/45 [==============================] - 80s 2s/step - loss: 1.1484 - categorical_accuracy: 0.5007 - val_loss: 1.2735 - val_categorical_accuracy: 0.5905 - lr: 1.0000e-05\n",
      "Epoch 18/20\n",
      "45/45 [==============================] - ETA: 0s - loss: 1.1330 - categorical_accuracy: 0.5096\n",
      "Epoch 00018: val_loss did not improve from 1.27347\n",
      "45/45 [==============================] - 80s 2s/step - loss: 1.1330 - categorical_accuracy: 0.5096 - val_loss: 1.3302 - val_categorical_accuracy: 0.5905 - lr: 1.0000e-05\n",
      "Epoch 19/20\n",
      "45/45 [==============================] - ETA: 0s - loss: 1.1348 - categorical_accuracy: 0.5126\n",
      "Epoch 00019: val_loss did not improve from 1.27347\n",
      "45/45 [==============================] - 81s 2s/step - loss: 1.1348 - categorical_accuracy: 0.5126 - val_loss: 1.3903 - val_categorical_accuracy: 0.5238 - lr: 1.0000e-05\n",
      "Epoch 20/20\n",
      "45/45 [==============================] - ETA: 0s - loss: 1.1372 - categorical_accuracy: 0.5304\n",
      "Epoch 00020: val_loss improved from 1.27347 to 1.25121, saving model to model_init_2022-05-1702_21_43.511214/model-00020-1.13721-0.53037-1.25121-0.59048.h5\n",
      "45/45 [==============================] - 81s 2s/step - loss: 1.1372 - categorical_accuracy: 0.5304 - val_loss: 1.2512 - val_categorical_accuracy: 0.5905 - lr: 1.0000e-05\n"
     ]
    }
   ],
   "source": [
    "print(\"Total Params:\", model.count_params())\n",
    "trained_model_7=train_model(model)"
   ]
  },
  {
   "cell_type": "code",
   "execution_count": 47,
   "metadata": {},
   "outputs": [
    {
     "data": {
      "image/png": "[encoded data removed]",
      "text/plain": [
       "<Figure size 1080x288 with 2 Axes>"
      ]
     },
     "metadata": {
      "needs_background": "light"
     },
     "output_type": "display_data"
    }
   ],
   "source": [
    "plot(trained_model_7)"
   ]
  },
  {
   "cell_type": "markdown",
   "metadata": {},
   "source": [
    "> Observation : \n",
    ">> Val_accuracy is more than train accuracy, and train / val loss is close enough at the end"
   ]
  },
  {
   "cell_type": "markdown",
   "metadata": {},
   "source": [
    "### Model 8 : Transfer Learning + mobilenet + dropout + GRU Layer¶"
   ]
  },
  {
   "cell_type": "code",
   "execution_count": 11,
   "metadata": {},
   "outputs": [],
   "source": [
    "from keras.applications import  mobilenet\n"
   ]
  },
  {
   "cell_type": "code",
   "execution_count": 24,
   "metadata": {},
   "outputs": [
    {
     "name": "stdout",
     "output_type": "stream",
     "text": [
      "WARNING:tensorflow:`input_shape` is undefined or non-square, or `rows` is not in [128, 160, 192, 224]. Weights for input shape (224, 224) will be loaded as the default.\n"
     ]
    }
   ],
   "source": [
    "num_featuremaps = [16,32,64,128]\n",
    "num_denselayers = [64,32,5]\n",
    "num_classes = 5\n",
    "frames = 15\n",
    "dropout = 0.25\n",
    "\n",
    "\n",
    "# Input\n",
    "input_shape=(frames,120,120,3)\n",
    "\n",
    "# Define model\n",
    "mobile_model = mobilenet.MobileNet(weights='imagenet', include_top=False)\n",
    "\n",
    "model = Sequential()\n",
    "model.add(TimeDistributed(mobile_model,input_shape=input_shape))\n",
    "\n",
    "model.add(TimeDistributed(BatchNormalization()))\n",
    "model.add(TimeDistributed(MaxPooling2D((2, 2))))\n",
    "model.add(TimeDistributed(Flatten()))\n",
    "\n",
    "model.add(GRU(64, return_sequences=False))\n",
    "model.add(Dropout(dropout))\n",
    "\n",
    "model.add(Dense(num_denselayers[1],activation='relu'))\n",
    "model.add(Dropout(dropout))\n",
    "\n",
    "# using Softmax as last layer\n",
    "model.add(Dense(num_classes, activation='softmax')) "
   ]
  },
  {
   "cell_type": "code",
   "execution_count": 25,
   "metadata": {},
   "outputs": [
    {
     "name": "stdout",
     "output_type": "stream",
     "text": [
      "Model: \"sequential_3\"\n",
      "_________________________________________________________________\n",
      " Layer (type)                Output Shape              Param #   \n",
      "=================================================================\n",
      " time_distributed_12 (TimeDi  (None, 15, 3, 3, 1024)   3228864   \n",
      " stributed)                                                      \n",
      "                                                                 \n",
      " time_distributed_13 (TimeDi  (None, 15, 3, 3, 1024)   4096      \n",
      " stributed)                                                      \n",
      "                                                                 \n",
      " time_distributed_14 (TimeDi  (None, 15, 1, 1, 1024)   0         \n",
      " stributed)                                                      \n",
      "                                                                 \n",
      " time_distributed_15 (TimeDi  (None, 15, 1024)         0         \n",
      " stributed)                                                      \n",
      "                                                                 \n",
      " gru_3 (GRU)                 (None, 64)                209280    \n",
      "                                                                 \n",
      " dropout_6 (Dropout)         (None, 64)                0         \n",
      "                                                                 \n",
      " dense_6 (Dense)             (None, 32)                2080      \n",
      "                                                                 \n",
      " dropout_7 (Dropout)         (None, 32)                0         \n",
      "                                                                 \n",
      " dense_7 (Dense)             (None, 5)                 165       \n",
      "                                                                 \n",
      "=================================================================\n",
      "Total params: 3,444,485\n",
      "Trainable params: 3,420,549\n",
      "Non-trainable params: 23,936\n",
      "_________________________________________________________________\n",
      "None\n"
     ]
    }
   ],
   "source": [
    "optimiser = \"Adam\" #write your optimizer\n",
    "model.compile(optimizer=optimiser, loss='categorical_crossentropy', metrics=['categorical_accuracy'])\n",
    "\n",
    "# Model Summary\n",
    "print (model.summary())"
   ]
  },
  {
   "cell_type": "code",
   "execution_count": 26,
   "metadata": {},
   "outputs": [
    {
     "name": "stdout",
     "output_type": "stream",
     "text": [
      "Total Params: 3444485\n",
      "WARNING:tensorflow:`period` argument is deprecated. Please use `save_freq` to specify the frequency in number of batches seen.\n",
      "Source path =  /home/datasets/Project_data/train ; batch size = 25\n"
     ]
    },
    {
     "name": "stderr",
     "output_type": "stream",
     "text": [
      "/tmp/ipykernel_423/626052411.py:28: UserWarning: `Model.fit_generator` is deprecated and will be removed in a future version. Please use `Model.fit`, which supports generators.\n",
      "  history=model.fit_generator(train_generator, steps_per_epoch=steps_per_epoch, epochs=num_epochs, verbose=1,\n"
     ]
    },
    {
     "name": "stdout",
     "output_type": "stream",
     "text": [
      "Epoch 1/20\n",
      "27/27 [==============================] - ETA: 0s - loss: 1.2717 - categorical_accuracy: 0.5304Source path =  /home/datasets/Project_data/val ; batch size = 25\n",
      "\n",
      "Epoch 00001: val_loss improved from inf to 1.25925, saving model to model_init_2022-05-1708_04_53.791028/model-00001-1.27168-0.53037-1.25925-0.45000.h5\n",
      "27/27 [==============================] - 84s 3s/step - loss: 1.2717 - categorical_accuracy: 0.5304 - val_loss: 1.2592 - val_categorical_accuracy: 0.4500 - lr: 0.0010\n",
      "Epoch 2/20\n",
      "27/27 [==============================] - ETA: 0s - loss: 0.5401 - categorical_accuracy: 0.8133\n",
      "Epoch 00002: val_loss improved from 1.25925 to 0.77576, saving model to model_init_2022-05-1708_04_53.791028/model-00002-0.54007-0.81333-0.77576-0.73000.h5\n",
      "27/27 [==============================] - 78s 3s/step - loss: 0.5401 - categorical_accuracy: 0.8133 - val_loss: 0.7758 - val_categorical_accuracy: 0.7300 - lr: 0.0010\n",
      "Epoch 3/20\n",
      "27/27 [==============================] - ETA: 0s - loss: 0.3517 - categorical_accuracy: 0.9304\n",
      "Epoch 00003: val_loss improved from 0.77576 to 0.32487, saving model to model_init_2022-05-1708_04_53.791028/model-00003-0.35171-0.93037-0.32487-0.89000.h5\n",
      "27/27 [==============================] - 77s 3s/step - loss: 0.3517 - categorical_accuracy: 0.9304 - val_loss: 0.3249 - val_categorical_accuracy: 0.8900 - lr: 0.0010\n",
      "Epoch 4/20\n",
      "27/27 [==============================] - ETA: 0s - loss: 0.3649 - categorical_accuracy: 0.9437\n",
      "Epoch 00004: val_loss improved from 0.32487 to 0.22790, saving model to model_init_2022-05-1708_04_53.791028/model-00004-0.36486-0.94370-0.22790-0.90000.h5\n",
      "27/27 [==============================] - 77s 3s/step - loss: 0.3649 - categorical_accuracy: 0.9437 - val_loss: 0.2279 - val_categorical_accuracy: 0.9000 - lr: 0.0010\n",
      "Epoch 5/20\n",
      "27/27 [==============================] - ETA: 0s - loss: 0.2728 - categorical_accuracy: 0.9689\n",
      "Epoch 00005: val_loss did not improve from 0.22790\n",
      "27/27 [==============================] - 79s 3s/step - loss: 0.2728 - categorical_accuracy: 0.9689 - val_loss: 0.3003 - val_categorical_accuracy: 0.9200 - lr: 0.0010\n",
      "Epoch 6/20\n",
      "27/27 [==============================] - ETA: 0s - loss: 0.2888 - categorical_accuracy: 0.9674\n",
      "Epoch 00006: val_loss improved from 0.22790 to 0.16942, saving model to model_init_2022-05-1708_04_53.791028/model-00006-0.28883-0.96741-0.16942-0.94000.h5\n",
      "27/27 [==============================] - 79s 3s/step - loss: 0.2888 - categorical_accuracy: 0.9674 - val_loss: 0.1694 - val_categorical_accuracy: 0.9400 - lr: 0.0010\n",
      "Epoch 7/20\n",
      "27/27 [==============================] - ETA: 0s - loss: 0.2734 - categorical_accuracy: 0.9689\n",
      "Epoch 00007: val_loss did not improve from 0.16942\n",
      "27/27 [==============================] - 81s 3s/step - loss: 0.2734 - categorical_accuracy: 0.9689 - val_loss: 0.2074 - val_categorical_accuracy: 0.9400 - lr: 0.0010\n",
      "Epoch 8/20\n",
      "27/27 [==============================] - ETA: 0s - loss: 0.2592 - categorical_accuracy: 0.9689\n",
      "Epoch 00008: val_loss did not improve from 0.16942\n",
      "27/27 [==============================] - 80s 3s/step - loss: 0.2592 - categorical_accuracy: 0.9689 - val_loss: 0.2026 - val_categorical_accuracy: 0.9400 - lr: 0.0010\n",
      "Epoch 9/20\n",
      "27/27 [==============================] - ETA: 0s - loss: 0.2492 - categorical_accuracy: 0.9630\n",
      "Epoch 00009: val_loss did not improve from 0.16942\n",
      "27/27 [==============================] - 80s 3s/step - loss: 0.2492 - categorical_accuracy: 0.9630 - val_loss: 0.4791 - val_categorical_accuracy: 0.8700 - lr: 0.0010\n",
      "Epoch 10/20\n",
      "27/27 [==============================] - ETA: 0s - loss: 0.3133 - categorical_accuracy: 0.9704\n",
      "Epoch 00010: val_loss did not improve from 0.16942\n",
      "27/27 [==============================] - 78s 3s/step - loss: 0.3133 - categorical_accuracy: 0.9704 - val_loss: 0.3290 - val_categorical_accuracy: 0.9300 - lr: 0.0010\n",
      "Epoch 11/20\n",
      "27/27 [==============================] - ETA: 0s - loss: 0.3384 - categorical_accuracy: 0.9467\n",
      "Epoch 00011: val_loss did not improve from 0.16942\n",
      "\n",
      "Epoch 00011: ReduceLROnPlateau reducing learning rate to 1.0000000474974514e-05.\n",
      "27/27 [==============================] - 80s 3s/step - loss: 0.3384 - categorical_accuracy: 0.9467 - val_loss: 0.2411 - val_categorical_accuracy: 0.9100 - lr: 0.0010\n",
      "Epoch 12/20\n",
      "27/27 [==============================] - ETA: 0s - loss: 0.3207 - categorical_accuracy: 0.9600\n",
      "Epoch 00012: val_loss did not improve from 0.16942\n",
      "27/27 [==============================] - 78s 3s/step - loss: 0.3207 - categorical_accuracy: 0.9600 - val_loss: 0.2375 - val_categorical_accuracy: 0.8900 - lr: 1.0000e-05\n",
      "Epoch 13/20\n",
      "27/27 [==============================] - ETA: 0s - loss: 0.2577 - categorical_accuracy: 0.9674\n",
      "Epoch 00013: val_loss improved from 0.16942 to 0.14055, saving model to model_init_2022-05-1708_04_53.791028/model-00013-0.25773-0.96741-0.14055-0.95000.h5\n",
      "27/27 [==============================] - 80s 3s/step - loss: 0.2577 - categorical_accuracy: 0.9674 - val_loss: 0.1406 - val_categorical_accuracy: 0.9500 - lr: 1.0000e-05\n",
      "Epoch 14/20\n",
      "27/27 [==============================] - ETA: 0s - loss: 0.2688 - categorical_accuracy: 0.9630\n",
      "Epoch 00014: val_loss improved from 0.14055 to 0.12031, saving model to model_init_2022-05-1708_04_53.791028/model-00014-0.26876-0.96296-0.12031-0.94000.h5\n",
      "27/27 [==============================] - 79s 3s/step - loss: 0.2688 - categorical_accuracy: 0.9630 - val_loss: 0.1203 - val_categorical_accuracy: 0.9400 - lr: 1.0000e-05\n",
      "Epoch 15/20\n",
      "27/27 [==============================] - ETA: 0s - loss: 0.2907 - categorical_accuracy: 0.9689\n",
      "Epoch 00015: val_loss improved from 0.12031 to 0.10095, saving model to model_init_2022-05-1708_04_53.791028/model-00015-0.29070-0.96889-0.10095-0.97000.h5\n",
      "27/27 [==============================] - 77s 3s/step - loss: 0.2907 - categorical_accuracy: 0.9689 - val_loss: 0.1009 - val_categorical_accuracy: 0.9700 - lr: 1.0000e-05\n",
      "Epoch 16/20\n",
      "27/27 [==============================] - ETA: 0s - loss: 0.2640 - categorical_accuracy: 0.9763\n",
      "Epoch 00016: val_loss improved from 0.10095 to 0.07197, saving model to model_init_2022-05-1708_04_53.791028/model-00016-0.26401-0.97630-0.07197-0.98000.h5\n",
      "27/27 [==============================] - 77s 3s/step - loss: 0.2640 - categorical_accuracy: 0.9763 - val_loss: 0.0720 - val_categorical_accuracy: 0.9800 - lr: 1.0000e-05\n",
      "Epoch 17/20\n",
      "27/27 [==============================] - ETA: 0s - loss: 0.2031 - categorical_accuracy: 0.9733\n",
      "Epoch 00017: val_loss did not improve from 0.07197\n",
      "27/27 [==============================] - 77s 3s/step - loss: 0.2031 - categorical_accuracy: 0.9733 - val_loss: 0.0885 - val_categorical_accuracy: 0.9700 - lr: 1.0000e-05\n",
      "Epoch 18/20\n",
      "27/27 [==============================] - ETA: 0s - loss: 0.2454 - categorical_accuracy: 0.9733\n",
      "Epoch 00018: val_loss did not improve from 0.07197\n",
      "27/27 [==============================] - 77s 3s/step - loss: 0.2454 - categorical_accuracy: 0.9733 - val_loss: 0.0883 - val_categorical_accuracy: 0.9700 - lr: 1.0000e-05\n",
      "Epoch 19/20\n",
      "27/27 [==============================] - ETA: 0s - loss: 0.2817 - categorical_accuracy: 0.9674\n",
      "Epoch 00019: val_loss did not improve from 0.07197\n",
      "27/27 [==============================] - 78s 3s/step - loss: 0.2817 - categorical_accuracy: 0.9674 - val_loss: 0.0866 - val_categorical_accuracy: 0.9700 - lr: 1.0000e-05\n",
      "Epoch 20/20\n",
      "27/27 [==============================] - ETA: 0s - loss: 0.2248 - categorical_accuracy: 0.9793\n",
      "Epoch 00020: val_loss did not improve from 0.07197\n",
      "27/27 [==============================] - 78s 3s/step - loss: 0.2248 - categorical_accuracy: 0.9793 - val_loss: 0.1021 - val_categorical_accuracy: 0.9600 - lr: 1.0000e-05\n"
     ]
    }
   ],
   "source": [
    "print(\"Total Params:\", model.count_params())\n",
    "trained_model_8=train_model(model)"
   ]
  },
  {
   "cell_type": "code",
   "execution_count": 27,
   "metadata": {},
   "outputs": [
    {
     "data": {
      "image/png": "[encoded data removed]",
      "text/plain": [
       "<Figure size 1080x288 with 2 Axes>"
      ]
     },
     "metadata": {
      "needs_background": "light"
     },
     "output_type": "display_data"
    }
   ],
   "source": [
    "plot(trained_model_8)"
   ]
  },
  {
   "cell_type": "markdown",
   "metadata": {},
   "source": [
    "> Observation : \n",
    ">> Awsum : Now Model start perfroming very good as both train & val accuracy is great above 90%"
   ]
  },
  {
   "cell_type": "markdown",
   "metadata": {},
   "source": [
    "### Model 9 : Transfer Learning + mobilenet + dropout + GRU Layer + Increased epoch¶\n"
   ]
  },
  {
   "cell_type": "code",
   "execution_count": 12,
   "metadata": {},
   "outputs": [
    {
     "name": "stdout",
     "output_type": "stream",
     "text": [
      "WARNING:tensorflow:`input_shape` is undefined or non-square, or `rows` is not in [128, 160, 192, 224]. Weights for input shape (224, 224) will be loaded as the default.\n"
     ]
    },
    {
     "name": "stderr",
     "output_type": "stream",
     "text": [
      "2022-05-18 10:44:17.877116: W tensorflow/core/common_runtime/gpu/gpu_bfc_allocator.cc:39] Overriding allow_growth setting because the TF_FORCE_GPU_ALLOW_GROWTH environment variable is set. Original config value was 0.\n",
      "2022-05-18 10:44:17.877182: I tensorflow/core/common_runtime/gpu/gpu_device.cc:1525] Created device /job:localhost/replica:0/task:0/device:GPU:0 with 14803 MB memory:  -> device: 0, name: Quadro RTX 5000, pci bus id: 0000:3f:00.0, compute capability: 7.5\n"
     ]
    }
   ],
   "source": [
    "num_featuremaps = [16,32,64,128]\n",
    "num_denselayers = [64,32,5]\n",
    "num_classes = 5\n",
    "frames = 15\n",
    "dropout = 0.25\n",
    "num_epochs = 30\n",
    "\n",
    "\n",
    "# Input\n",
    "input_shape=(frames,120,120,3)\n",
    "\n",
    "# Define model\n",
    "mobile_model = mobilenet.MobileNet(weights='imagenet', include_top=False)\n",
    "\n",
    "model = Sequential()\n",
    "model.add(TimeDistributed(mobile_model,input_shape=input_shape))\n",
    "\n",
    "model.add(TimeDistributed(BatchNormalization()))\n",
    "model.add(TimeDistributed(MaxPooling2D((2, 2))))\n",
    "model.add(TimeDistributed(Flatten()))\n",
    "\n",
    "model.add(GRU(64, return_sequences=False))\n",
    "model.add(Dropout(dropout))\n",
    "\n",
    "model.add(Dense(num_denselayers[1],activation='relu'))\n",
    "model.add(Dropout(dropout))\n",
    "\n",
    "# using Softmax as last layer\n",
    "model.add(Dense(num_classes, activation='softmax')) "
   ]
  },
  {
   "cell_type": "code",
   "execution_count": 13,
   "metadata": {},
   "outputs": [
    {
     "name": "stdout",
     "output_type": "stream",
     "text": [
      "Model: \"sequential\"\n",
      "_________________________________________________________________\n",
      " Layer (type)                Output Shape              Param #   \n",
      "=================================================================\n",
      " time_distributed (TimeDistr  (None, 15, 3, 3, 1024)   3228864   \n",
      " ibuted)                                                         \n",
      "                                                                 \n",
      " time_distributed_1 (TimeDis  (None, 15, 3, 3, 1024)   4096      \n",
      " tributed)                                                       \n",
      "                                                                 \n",
      " time_distributed_2 (TimeDis  (None, 15, 1, 1, 1024)   0         \n",
      " tributed)                                                       \n",
      "                                                                 \n",
      " time_distributed_3 (TimeDis  (None, 15, 1024)         0         \n",
      " tributed)                                                       \n",
      "                                                                 \n",
      " gru (GRU)                   (None, 64)                209280    \n",
      "                                                                 \n",
      " dropout (Dropout)           (None, 64)                0         \n",
      "                                                                 \n",
      " dense (Dense)               (None, 32)                2080      \n",
      "                                                                 \n",
      " dropout_1 (Dropout)         (None, 32)                0         \n",
      "                                                                 \n",
      " dense_1 (Dense)             (None, 5)                 165       \n",
      "                                                                 \n",
      "=================================================================\n",
      "Total params: 3,444,485\n",
      "Trainable params: 3,420,549\n",
      "Non-trainable params: 23,936\n",
      "_________________________________________________________________\n",
      "None\n"
     ]
    }
   ],
   "source": [
    "optimiser = \"Adam\" #write your optimizer\n",
    "model.compile(optimizer=optimiser, loss='categorical_crossentropy', metrics=['categorical_accuracy'])\n",
    "\n",
    "# Model Summary\n",
    "print (model.summary())"
   ]
  },
  {
   "cell_type": "code",
   "execution_count": 14,
   "metadata": {},
   "outputs": [
    {
     "name": "stdout",
     "output_type": "stream",
     "text": [
      "Total Params: 3444485\n",
      "WARNING:tensorflow:`period` argument is deprecated. Please use `save_freq` to specify the frequency in number of batches seen.\n",
      "Source path =  /home/datasets/Project_data/train ; batch size = 15\n"
     ]
    },
    {
     "name": "stderr",
     "output_type": "stream",
     "text": [
      "/tmp/ipykernel_433/1512965830.py:28: UserWarning: `Model.fit_generator` is deprecated and will be removed in a future version. Please use `Model.fit`, which supports generators.\n",
      "  history=model.fit_generator(train_generator, steps_per_epoch=steps_per_epoch, epochs=num_epochs, verbose=1,\n"
     ]
    },
    {
     "name": "stdout",
     "output_type": "stream",
     "text": [
      "Epoch 1/30\n"
     ]
    },
    {
     "name": "stderr",
     "output_type": "stream",
     "text": [
      "2022-05-18 10:44:25.725149: I tensorflow/stream_executor/cuda/cuda_dnn.cc:377] Loaded cuDNN version 8302\n"
     ]
    },
    {
     "name": "stdout",
     "output_type": "stream",
     "text": [
      "45/45 [==============================] - ETA: 0s - loss: 1.1981 - categorical_accuracy: 0.5363Source path =  /home/datasets/Project_data/val ; batch size = 15\n",
      "\n",
      "Epoch 00001: val_loss improved from inf to 1.08503, saving model to model_init_2022-05-1810_43_00.579574/model-00001-1.19809-0.53630-1.08503-0.66667.h5\n",
      "45/45 [==============================] - 106s 2s/step - loss: 1.1981 - categorical_accuracy: 0.5363 - val_loss: 1.0850 - val_categorical_accuracy: 0.6667 - lr: 0.0010\n",
      "Epoch 2/30\n",
      "45/45 [==============================] - ETA: 0s - loss: 0.4748 - categorical_accuracy: 0.8459\n",
      "Epoch 00002: val_loss improved from 1.08503 to 0.97484, saving model to model_init_2022-05-1810_43_00.579574/model-00002-0.47479-0.84593-0.97484-0.80952.h5\n",
      "45/45 [==============================] - 96s 2s/step - loss: 0.4748 - categorical_accuracy: 0.8459 - val_loss: 0.9748 - val_categorical_accuracy: 0.8095 - lr: 0.0010\n",
      "Epoch 3/30\n",
      "45/45 [==============================] - ETA: 0s - loss: 0.3550 - categorical_accuracy: 0.9022\n",
      "Epoch 00003: val_loss did not improve from 0.97484\n",
      "45/45 [==============================] - 95s 2s/step - loss: 0.3550 - categorical_accuracy: 0.9022 - val_loss: 1.1026 - val_categorical_accuracy: 0.7905 - lr: 0.0010\n",
      "Epoch 4/30\n",
      "45/45 [==============================] - ETA: 0s - loss: 0.2687 - categorical_accuracy: 0.9333\n",
      "Epoch 00004: val_loss did not improve from 0.97484\n",
      "45/45 [==============================] - 100s 2s/step - loss: 0.2687 - categorical_accuracy: 0.9333 - val_loss: 1.0991 - val_categorical_accuracy: 0.8000 - lr: 0.0010\n",
      "Epoch 5/30\n",
      "45/45 [==============================] - ETA: 0s - loss: 0.2065 - categorical_accuracy: 0.9481\n",
      "Epoch 00005: val_loss did not improve from 0.97484\n",
      "45/45 [==============================] - 95s 2s/step - loss: 0.2065 - categorical_accuracy: 0.9481 - val_loss: 1.0787 - val_categorical_accuracy: 0.8381 - lr: 0.0010\n",
      "Epoch 6/30\n",
      "45/45 [==============================] - ETA: 0s - loss: 0.2728 - categorical_accuracy: 0.9304\n",
      "Epoch 00006: val_loss did not improve from 0.97484\n",
      "45/45 [==============================] - 98s 2s/step - loss: 0.2728 - categorical_accuracy: 0.9304 - val_loss: 1.0973 - val_categorical_accuracy: 0.8667 - lr: 0.0010\n",
      "Epoch 7/30\n",
      "45/45 [==============================] - ETA: 0s - loss: 0.2030 - categorical_accuracy: 0.9600\n",
      "Epoch 00007: val_loss did not improve from 0.97484\n",
      "\n",
      "Epoch 00007: ReduceLROnPlateau reducing learning rate to 1.0000000474974514e-05.\n",
      "45/45 [==============================] - 98s 2s/step - loss: 0.2030 - categorical_accuracy: 0.9600 - val_loss: 1.0399 - val_categorical_accuracy: 0.8190 - lr: 0.0010\n",
      "Epoch 8/30\n",
      "45/45 [==============================] - ETA: 0s - loss: 0.1342 - categorical_accuracy: 0.9704\n",
      "Epoch 00008: val_loss improved from 0.97484 to 0.89774, saving model to model_init_2022-05-1810_43_00.579574/model-00008-0.13420-0.97037-0.89774-0.86667.h5\n",
      "45/45 [==============================] - 95s 2s/step - loss: 0.1342 - categorical_accuracy: 0.9704 - val_loss: 0.8977 - val_categorical_accuracy: 0.8667 - lr: 1.0000e-05\n",
      "Epoch 9/30\n",
      "45/45 [==============================] - ETA: 0s - loss: 0.1475 - categorical_accuracy: 0.9659\n",
      "Epoch 00009: val_loss improved from 0.89774 to 0.76731, saving model to model_init_2022-05-1810_43_00.579574/model-00009-0.14752-0.96593-0.76731-0.90476.h5\n",
      "45/45 [==============================] - 89s 2s/step - loss: 0.1475 - categorical_accuracy: 0.9659 - val_loss: 0.7673 - val_categorical_accuracy: 0.9048 - lr: 1.0000e-05\n",
      "Epoch 10/30\n",
      "45/45 [==============================] - ETA: 0s - loss: 0.1492 - categorical_accuracy: 0.9674\n",
      "Epoch 00010: val_loss did not improve from 0.76731\n",
      "45/45 [==============================] - 94s 2s/step - loss: 0.1492 - categorical_accuracy: 0.9674 - val_loss: 0.8852 - val_categorical_accuracy: 0.8762 - lr: 1.0000e-05\n",
      "Epoch 11/30\n",
      "45/45 [==============================] - ETA: 0s - loss: 0.1542 - categorical_accuracy: 0.9689\n",
      "Epoch 00011: val_loss did not improve from 0.76731\n",
      "45/45 [==============================] - 89s 2s/step - loss: 0.1542 - categorical_accuracy: 0.9689 - val_loss: 1.0656 - val_categorical_accuracy: 0.9143 - lr: 1.0000e-05\n",
      "Epoch 12/30\n",
      "45/45 [==============================] - ETA: 0s - loss: 0.1180 - categorical_accuracy: 0.9837\n",
      "Epoch 00012: val_loss did not improve from 0.76731\n",
      "45/45 [==============================] - 95s 2s/step - loss: 0.1180 - categorical_accuracy: 0.9837 - val_loss: 1.1020 - val_categorical_accuracy: 0.8952 - lr: 1.0000e-05\n",
      "Epoch 13/30\n",
      "45/45 [==============================] - ETA: 0s - loss: 0.1462 - categorical_accuracy: 0.9689\n",
      "Epoch 00013: val_loss did not improve from 0.76731\n",
      "45/45 [==============================] - 96s 2s/step - loss: 0.1462 - categorical_accuracy: 0.9689 - val_loss: 0.9725 - val_categorical_accuracy: 0.8762 - lr: 1.0000e-05\n",
      "Epoch 14/30\n",
      "45/45 [==============================] - ETA: 0s - loss: 0.1177 - categorical_accuracy: 0.9778\n",
      "Epoch 00014: val_loss did not improve from 0.76731\n",
      "45/45 [==============================] - 95s 2s/step - loss: 0.1177 - categorical_accuracy: 0.9778 - val_loss: 0.9545 - val_categorical_accuracy: 0.8857 - lr: 1.0000e-05\n",
      "Epoch 15/30\n",
      "45/45 [==============================] - ETA: 0s - loss: 0.1289 - categorical_accuracy: 0.9807\n",
      "Epoch 00015: val_loss did not improve from 0.76731\n",
      "\n",
      "Epoch 00015: ReduceLROnPlateau reducing learning rate to 1.0000000656873453e-07.\n",
      "45/45 [==============================] - 98s 2s/step - loss: 0.1289 - categorical_accuracy: 0.9807 - val_loss: 1.0483 - val_categorical_accuracy: 0.8857 - lr: 1.0000e-05\n",
      "Epoch 16/30\n",
      "45/45 [==============================] - ETA: 0s - loss: 0.1239 - categorical_accuracy: 0.9807\n",
      "Epoch 00016: val_loss did not improve from 0.76731\n",
      "45/45 [==============================] - 93s 2s/step - loss: 0.1239 - categorical_accuracy: 0.9807 - val_loss: 1.1764 - val_categorical_accuracy: 0.8762 - lr: 1.0000e-07\n",
      "Epoch 17/30\n",
      "45/45 [==============================] - ETA: 0s - loss: 0.1083 - categorical_accuracy: 0.9837\n",
      "Epoch 00017: val_loss did not improve from 0.76731\n",
      "45/45 [==============================] - 91s 2s/step - loss: 0.1083 - categorical_accuracy: 0.9837 - val_loss: 1.0746 - val_categorical_accuracy: 0.8857 - lr: 1.0000e-07\n",
      "Epoch 18/30\n",
      "45/45 [==============================] - ETA: 0s - loss: 0.1104 - categorical_accuracy: 0.9763\n",
      "Epoch 00018: val_loss did not improve from 0.76731\n",
      "45/45 [==============================] - 93s 2s/step - loss: 0.1104 - categorical_accuracy: 0.9763 - val_loss: 1.1123 - val_categorical_accuracy: 0.8857 - lr: 1.0000e-07\n",
      "Epoch 19/30\n",
      "45/45 [==============================] - ETA: 0s - loss: 0.1377 - categorical_accuracy: 0.9822\n",
      "Epoch 00019: val_loss improved from 0.76731 to 0.71234, saving model to model_init_2022-05-1810_43_00.579574/model-00019-0.13770-0.98222-0.71234-0.91429.h5\n",
      "45/45 [==============================] - 93s 2s/step - loss: 0.1377 - categorical_accuracy: 0.9822 - val_loss: 0.7123 - val_categorical_accuracy: 0.9143 - lr: 1.0000e-07\n",
      "Epoch 20/30\n",
      "45/45 [==============================] - ETA: 0s - loss: 0.1488 - categorical_accuracy: 0.9659\n",
      "Epoch 00020: val_loss did not improve from 0.71234\n",
      "45/45 [==============================] - 93s 2s/step - loss: 0.1488 - categorical_accuracy: 0.9659 - val_loss: 1.2355 - val_categorical_accuracy: 0.8857 - lr: 1.0000e-07\n",
      "Epoch 21/30\n",
      "45/45 [==============================] - ETA: 0s - loss: 0.1099 - categorical_accuracy: 0.9852\n",
      "Epoch 00021: val_loss did not improve from 0.71234\n",
      "45/45 [==============================] - 94s 2s/step - loss: 0.1099 - categorical_accuracy: 0.9852 - val_loss: 1.2443 - val_categorical_accuracy: 0.8857 - lr: 1.0000e-07\n",
      "Epoch 22/30\n",
      "45/45 [==============================] - ETA: 0s - loss: 0.1206 - categorical_accuracy: 0.9748\n",
      "Epoch 00022: val_loss did not improve from 0.71234\n",
      "45/45 [==============================] - 89s 2s/step - loss: 0.1206 - categorical_accuracy: 0.9748 - val_loss: 0.8873 - val_categorical_accuracy: 0.9048 - lr: 1.0000e-07\n",
      "Epoch 23/30\n",
      "45/45 [==============================] - ETA: 0s - loss: 0.1447 - categorical_accuracy: 0.9807\n",
      "Epoch 00023: val_loss did not improve from 0.71234\n",
      "45/45 [==============================] - 92s 2s/step - loss: 0.1447 - categorical_accuracy: 0.9807 - val_loss: 0.9893 - val_categorical_accuracy: 0.8857 - lr: 1.0000e-07\n",
      "Epoch 24/30\n",
      "45/45 [==============================] - ETA: 0s - loss: 0.1220 - categorical_accuracy: 0.9822\n",
      "Epoch 00024: val_loss improved from 0.71234 to 0.69095, saving model to model_init_2022-05-1810_43_00.579574/model-00024-0.12199-0.98222-0.69095-0.90476.h5\n",
      "45/45 [==============================] - 89s 2s/step - loss: 0.1220 - categorical_accuracy: 0.9822 - val_loss: 0.6910 - val_categorical_accuracy: 0.9048 - lr: 1.0000e-07\n",
      "Epoch 25/30\n",
      "45/45 [==============================] - ETA: 0s - loss: 0.1109 - categorical_accuracy: 0.9748\n",
      "Epoch 00025: val_loss did not improve from 0.69095\n",
      "45/45 [==============================] - 98s 2s/step - loss: 0.1109 - categorical_accuracy: 0.9748 - val_loss: 1.2531 - val_categorical_accuracy: 0.8762 - lr: 1.0000e-07\n",
      "Epoch 26/30\n",
      "45/45 [==============================] - ETA: 0s - loss: 0.1353 - categorical_accuracy: 0.9807\n",
      "Epoch 00026: val_loss did not improve from 0.69095\n",
      "45/45 [==============================] - 90s 2s/step - loss: 0.1353 - categorical_accuracy: 0.9807 - val_loss: 1.1749 - val_categorical_accuracy: 0.8857 - lr: 1.0000e-07\n",
      "Epoch 27/30\n",
      "45/45 [==============================] - ETA: 0s - loss: 0.1260 - categorical_accuracy: 0.9822\n",
      "Epoch 00027: val_loss did not improve from 0.69095\n",
      "45/45 [==============================] - 92s 2s/step - loss: 0.1260 - categorical_accuracy: 0.9822 - val_loss: 0.9887 - val_categorical_accuracy: 0.9048 - lr: 1.0000e-07\n",
      "Epoch 28/30\n",
      "45/45 [==============================] - ETA: 0s - loss: 0.1340 - categorical_accuracy: 0.9763\n",
      "Epoch 00028: val_loss did not improve from 0.69095\n",
      "45/45 [==============================] - 92s 2s/step - loss: 0.1340 - categorical_accuracy: 0.9763 - val_loss: 1.0950 - val_categorical_accuracy: 0.8952 - lr: 1.0000e-07\n",
      "Epoch 29/30\n",
      "45/45 [==============================] - ETA: 0s - loss: 0.1319 - categorical_accuracy: 0.9763\n",
      "Epoch 00029: val_loss did not improve from 0.69095\n",
      "\n",
      "Epoch 00029: ReduceLROnPlateau reducing learning rate to 1.000000082740371e-09.\n",
      "45/45 [==============================] - 97s 2s/step - loss: 0.1319 - categorical_accuracy: 0.9763 - val_loss: 0.8872 - val_categorical_accuracy: 0.9048 - lr: 1.0000e-07\n",
      "Epoch 30/30\n",
      "45/45 [==============================] - ETA: 0s - loss: 0.1131 - categorical_accuracy: 0.9822\n",
      "Epoch 00030: val_loss did not improve from 0.69095\n",
      "45/45 [==============================] - 97s 2s/step - loss: 0.1131 - categorical_accuracy: 0.9822 - val_loss: 1.0752 - val_categorical_accuracy: 0.8762 - lr: 1.0000e-09\n"
     ]
    }
   ],
   "source": [
    "print(\"Total Params:\", model.count_params())\n",
    "trained_model_9=train_model(model)"
   ]
  },
  {
   "cell_type": "code",
   "execution_count": 15,
   "metadata": {},
   "outputs": [
    {
     "data": {
      "image/png": "[encoded data removed]",
      "text/plain": [
       "<Figure size 1080x288 with 2 Axes>"
      ]
     },
     "metadata": {
      "needs_background": "light"
     },
     "output_type": "display_data"
    }
   ],
   "source": [
    "plot(trained_model_9)"
   ]
  },
  {
   "cell_type": "markdown",
   "metadata": {},
   "source": [
    "> Observation : \n",
    ">> Degraded the Performance Compared to Last Model"
   ]
  },
  {
   "cell_type": "markdown",
   "metadata": {},
   "source": [
    "### Model 10 : Transfer Learning + mobilenet + dropout + GRU Layer + Increased epoch + Increased Batch Size¶"
   ]
  },
  {
   "cell_type": "code",
   "execution_count": 16,
   "metadata": {},
   "outputs": [
    {
     "name": "stdout",
     "output_type": "stream",
     "text": [
      "WARNING:tensorflow:`input_shape` is undefined or non-square, or `rows` is not in [128, 160, 192, 224]. Weights for input shape (224, 224) will be loaded as the default.\n"
     ]
    }
   ],
   "source": [
    "num_featuremaps = [16,32,64,128]\n",
    "num_denselayers = [64,32,5]\n",
    "num_classes = 5\n",
    "frames = 15\n",
    "dropout = 0.25\n",
    "num_epochs = 30\n",
    "\n",
    "# increasing batch Size\n",
    "batch_size = 20\n",
    "\n",
    "# Input\n",
    "input_shape=(frames,120,120,3)\n",
    "\n",
    "# Define model\n",
    "mobile_model = mobilenet.MobileNet(weights='imagenet', include_top=False)\n",
    "\n",
    "model = Sequential()\n",
    "model.add(TimeDistributed(mobile_model,input_shape=input_shape))\n",
    "\n",
    "model.add(TimeDistributed(BatchNormalization()))\n",
    "model.add(TimeDistributed(MaxPooling2D((2, 2))))\n",
    "model.add(TimeDistributed(Flatten()))\n",
    "\n",
    "model.add(GRU(64, return_sequences=False))\n",
    "model.add(Dropout(dropout))\n",
    "\n",
    "model.add(Dense(num_denselayers[1],activation='relu'))\n",
    "model.add(Dropout(dropout))\n",
    "\n",
    "# using Softmax as last layer\n",
    "model.add(Dense(num_classes, activation='softmax')) \n"
   ]
  },
  {
   "cell_type": "code",
   "execution_count": 17,
   "metadata": {},
   "outputs": [
    {
     "name": "stdout",
     "output_type": "stream",
     "text": [
      "Model: \"sequential_1\"\n",
      "_________________________________________________________________\n",
      " Layer (type)                Output Shape              Param #   \n",
      "=================================================================\n",
      " time_distributed_4 (TimeDis  (None, 15, 3, 3, 1024)   3228864   \n",
      " tributed)                                                       \n",
      "                                                                 \n",
      " time_distributed_5 (TimeDis  (None, 15, 3, 3, 1024)   4096      \n",
      " tributed)                                                       \n",
      "                                                                 \n",
      " time_distributed_6 (TimeDis  (None, 15, 1, 1, 1024)   0         \n",
      " tributed)                                                       \n",
      "                                                                 \n",
      " time_distributed_7 (TimeDis  (None, 15, 1024)         0         \n",
      " tributed)                                                       \n",
      "                                                                 \n",
      " gru_1 (GRU)                 (None, 64)                209280    \n",
      "                                                                 \n",
      " dropout_2 (Dropout)         (None, 64)                0         \n",
      "                                                                 \n",
      " dense_2 (Dense)             (None, 32)                2080      \n",
      "                                                                 \n",
      " dropout_3 (Dropout)         (None, 32)                0         \n",
      "                                                                 \n",
      " dense_3 (Dense)             (None, 5)                 165       \n",
      "                                                                 \n",
      "=================================================================\n",
      "Total params: 3,444,485\n",
      "Trainable params: 3,420,549\n",
      "Non-trainable params: 23,936\n",
      "_________________________________________________________________\n",
      "None\n"
     ]
    }
   ],
   "source": [
    "optimiser = \"Adam\" #write your optimizer\n",
    "model.compile(optimizer=optimiser, loss='categorical_crossentropy', metrics=['categorical_accuracy'])\n",
    "\n",
    "# Model Summary\n",
    "print (model.summary())\n"
   ]
  },
  {
   "cell_type": "code",
   "execution_count": 18,
   "metadata": {},
   "outputs": [
    {
     "name": "stdout",
     "output_type": "stream",
     "text": [
      "Total Params: 3444485\n",
      "WARNING:tensorflow:`period` argument is deprecated. Please use `save_freq` to specify the frequency in number of batches seen.\n",
      "Source path =  /home/datasets/Project_data/train ; batch size = 20\n"
     ]
    },
    {
     "name": "stderr",
     "output_type": "stream",
     "text": [
      "/tmp/ipykernel_433/1512965830.py:28: UserWarning: `Model.fit_generator` is deprecated and will be removed in a future version. Please use `Model.fit`, which supports generators.\n",
      "  history=model.fit_generator(train_generator, steps_per_epoch=steps_per_epoch, epochs=num_epochs, verbose=1,\n"
     ]
    },
    {
     "name": "stdout",
     "output_type": "stream",
     "text": [
      "Epoch 1/30\n",
      "34/34 [==============================] - ETA: 0s - loss: 1.3501 - categorical_accuracy: 0.4632Source path =  /home/datasets/Project_data/val ; batch size = 20\n",
      "\n",
      "Epoch 00001: val_loss improved from inf to 1.12264, saving model to model_init_2022-05-1810_43_00.579574/model-00001-1.35009-0.46324-1.12264-0.54000.h5\n",
      "34/34 [==============================] - 97s 3s/step - loss: 1.3501 - categorical_accuracy: 0.4632 - val_loss: 1.1226 - val_categorical_accuracy: 0.5400 - lr: 0.0010\n",
      "Epoch 2/30\n",
      "34/34 [==============================] - ETA: 0s - loss: 0.5366 - categorical_accuracy: 0.8456\n",
      "Epoch 00002: val_loss improved from 1.12264 to 0.38190, saving model to model_init_2022-05-1810_43_00.579574/model-00002-0.53661-0.84559-0.38190-0.88000.h5\n",
      "34/34 [==============================] - 92s 3s/step - loss: 0.5366 - categorical_accuracy: 0.8456 - val_loss: 0.3819 - val_categorical_accuracy: 0.8800 - lr: 0.0010\n",
      "Epoch 3/30\n",
      "34/34 [==============================] - ETA: 0s - loss: 0.2874 - categorical_accuracy: 0.9382\n",
      "Epoch 00003: val_loss improved from 0.38190 to 0.19337, saving model to model_init_2022-05-1810_43_00.579574/model-00003-0.28736-0.93824-0.19337-0.91000.h5\n",
      "34/34 [==============================] - 99s 3s/step - loss: 0.2874 - categorical_accuracy: 0.9382 - val_loss: 0.1934 - val_categorical_accuracy: 0.9100 - lr: 0.0010\n",
      "Epoch 4/30\n",
      "34/34 [==============================] - ETA: 0s - loss: 0.1723 - categorical_accuracy: 0.9603\n",
      "Epoch 00004: val_loss did not improve from 0.19337\n",
      "34/34 [==============================] - 95s 3s/step - loss: 0.1723 - categorical_accuracy: 0.9603 - val_loss: 0.2379 - val_categorical_accuracy: 0.9300 - lr: 0.0010\n",
      "Epoch 5/30\n",
      "34/34 [==============================] - ETA: 0s - loss: 0.2016 - categorical_accuracy: 0.9544\n",
      "Epoch 00005: val_loss did not improve from 0.19337\n",
      "34/34 [==============================] - 91s 3s/step - loss: 0.2016 - categorical_accuracy: 0.9544 - val_loss: 0.4543 - val_categorical_accuracy: 0.9000 - lr: 0.0010\n",
      "Epoch 6/30\n",
      "34/34 [==============================] - ETA: 0s - loss: 0.2030 - categorical_accuracy: 0.9559\n",
      "Epoch 00006: val_loss did not improve from 0.19337\n",
      "34/34 [==============================] - 94s 3s/step - loss: 0.2030 - categorical_accuracy: 0.9559 - val_loss: 0.3024 - val_categorical_accuracy: 0.9100 - lr: 0.0010\n",
      "Epoch 7/30\n",
      "34/34 [==============================] - ETA: 0s - loss: 0.2000 - categorical_accuracy: 0.9588\n",
      "Epoch 00007: val_loss did not improve from 0.19337\n",
      "34/34 [==============================] - 96s 3s/step - loss: 0.2000 - categorical_accuracy: 0.9588 - val_loss: 0.3464 - val_categorical_accuracy: 0.9000 - lr: 0.0010\n",
      "Epoch 8/30\n",
      "34/34 [==============================] - ETA: 0s - loss: 0.1773 - categorical_accuracy: 0.9632\n",
      "Epoch 00008: val_loss did not improve from 0.19337\n",
      "\n",
      "Epoch 00008: ReduceLROnPlateau reducing learning rate to 1.0000000474974514e-05.\n",
      "34/34 [==============================] - 93s 3s/step - loss: 0.1773 - categorical_accuracy: 0.9632 - val_loss: 0.2147 - val_categorical_accuracy: 0.9300 - lr: 0.0010\n",
      "Epoch 9/30\n",
      "34/34 [==============================] - ETA: 0s - loss: 0.1160 - categorical_accuracy: 0.9809\n",
      "Epoch 00009: val_loss improved from 0.19337 to 0.14747, saving model to model_init_2022-05-1810_43_00.579574/model-00009-0.11603-0.98088-0.14747-0.94000.h5\n",
      "34/34 [==============================] - 91s 3s/step - loss: 0.1160 - categorical_accuracy: 0.9809 - val_loss: 0.1475 - val_categorical_accuracy: 0.9400 - lr: 1.0000e-05\n",
      "Epoch 10/30\n",
      "34/34 [==============================] - ETA: 0s - loss: 0.1272 - categorical_accuracy: 0.9779\n",
      "Epoch 00010: val_loss did not improve from 0.14747\n",
      "34/34 [==============================] - 92s 3s/step - loss: 0.1272 - categorical_accuracy: 0.9779 - val_loss: 0.1508 - val_categorical_accuracy: 0.9500 - lr: 1.0000e-05\n",
      "Epoch 11/30\n",
      "34/34 [==============================] - ETA: 0s - loss: 0.1321 - categorical_accuracy: 0.9794\n",
      "Epoch 00011: val_loss improved from 0.14747 to 0.14444, saving model to model_init_2022-05-1810_43_00.579574/model-00011-0.13213-0.97941-0.14444-0.96000.h5\n",
      "34/34 [==============================] - 89s 3s/step - loss: 0.1321 - categorical_accuracy: 0.9794 - val_loss: 0.1444 - val_categorical_accuracy: 0.9600 - lr: 1.0000e-05\n",
      "Epoch 12/30\n",
      "34/34 [==============================] - ETA: 0s - loss: 0.1131 - categorical_accuracy: 0.9779\n",
      "Epoch 00012: val_loss improved from 0.14444 to 0.14442, saving model to model_init_2022-05-1810_43_00.579574/model-00012-0.11315-0.97794-0.14442-0.96000.h5\n",
      "34/34 [==============================] - 94s 3s/step - loss: 0.1131 - categorical_accuracy: 0.9779 - val_loss: 0.1444 - val_categorical_accuracy: 0.9600 - lr: 1.0000e-05\n",
      "Epoch 13/30\n",
      "34/34 [==============================] - ETA: 0s - loss: 0.1106 - categorical_accuracy: 0.9897\n",
      "Epoch 00013: val_loss improved from 0.14442 to 0.12911, saving model to model_init_2022-05-1810_43_00.579574/model-00013-0.11057-0.98971-0.12911-0.97000.h5\n",
      "34/34 [==============================] - 95s 3s/step - loss: 0.1106 - categorical_accuracy: 0.9897 - val_loss: 0.1291 - val_categorical_accuracy: 0.9700 - lr: 1.0000e-05\n",
      "Epoch 14/30\n",
      "34/34 [==============================] - ETA: 0s - loss: 0.1119 - categorical_accuracy: 0.9868\n",
      "Epoch 00014: val_loss improved from 0.12911 to 0.03599, saving model to model_init_2022-05-1810_43_00.579574/model-00014-0.11194-0.98676-0.03599-1.00000.h5\n",
      "34/34 [==============================] - 94s 3s/step - loss: 0.1119 - categorical_accuracy: 0.9868 - val_loss: 0.0360 - val_categorical_accuracy: 1.0000 - lr: 1.0000e-05\n",
      "Epoch 15/30\n",
      "34/34 [==============================] - ETA: 0s - loss: 0.1089 - categorical_accuracy: 0.9838\n",
      "Epoch 00015: val_loss did not improve from 0.03599\n",
      "34/34 [==============================] - 94s 3s/step - loss: 0.1089 - categorical_accuracy: 0.9838 - val_loss: 0.1266 - val_categorical_accuracy: 0.9700 - lr: 1.0000e-05\n",
      "Epoch 16/30\n",
      "34/34 [==============================] - ETA: 0s - loss: 0.1181 - categorical_accuracy: 0.9853\n",
      "Epoch 00016: val_loss did not improve from 0.03599\n",
      "34/34 [==============================] - 94s 3s/step - loss: 0.1181 - categorical_accuracy: 0.9853 - val_loss: 0.1530 - val_categorical_accuracy: 0.9600 - lr: 1.0000e-05\n",
      "Epoch 17/30\n",
      "34/34 [==============================] - ETA: 0s - loss: 0.1151 - categorical_accuracy: 0.9853\n",
      "Epoch 00017: val_loss did not improve from 0.03599\n",
      "34/34 [==============================] - 96s 3s/step - loss: 0.1151 - categorical_accuracy: 0.9853 - val_loss: 0.2055 - val_categorical_accuracy: 0.9500 - lr: 1.0000e-05\n",
      "Epoch 18/30\n",
      "34/34 [==============================] - ETA: 0s - loss: 0.1004 - categorical_accuracy: 0.9868\n",
      "Epoch 00018: val_loss did not improve from 0.03599\n",
      "34/34 [==============================] - 95s 3s/step - loss: 0.1004 - categorical_accuracy: 0.9868 - val_loss: 0.1567 - val_categorical_accuracy: 0.9500 - lr: 1.0000e-05\n",
      "Epoch 19/30\n",
      "34/34 [==============================] - ETA: 0s - loss: 0.1021 - categorical_accuracy: 0.9926\n",
      "Epoch 00019: val_loss did not improve from 0.03599\n",
      "\n",
      "Epoch 00019: ReduceLROnPlateau reducing learning rate to 1.0000000656873453e-07.\n",
      "34/34 [==============================] - 96s 3s/step - loss: 0.1021 - categorical_accuracy: 0.9926 - val_loss: 0.1326 - val_categorical_accuracy: 0.9500 - lr: 1.0000e-05\n",
      "Epoch 20/30\n",
      "34/34 [==============================] - ETA: 0s - loss: 0.0807 - categorical_accuracy: 0.9897\n",
      "Epoch 00020: val_loss did not improve from 0.03599\n",
      "34/34 [==============================] - 94s 3s/step - loss: 0.0807 - categorical_accuracy: 0.9897 - val_loss: 0.1332 - val_categorical_accuracy: 0.9700 - lr: 1.0000e-07\n",
      "Epoch 21/30\n",
      "34/34 [==============================] - ETA: 0s - loss: 0.1183 - categorical_accuracy: 0.9809\n",
      "Epoch 00021: val_loss did not improve from 0.03599\n",
      "34/34 [==============================] - 96s 3s/step - loss: 0.1183 - categorical_accuracy: 0.9809 - val_loss: 0.1444 - val_categorical_accuracy: 0.9600 - lr: 1.0000e-07\n",
      "Epoch 22/30\n",
      "34/34 [==============================] - ETA: 0s - loss: 0.1165 - categorical_accuracy: 0.9838\n",
      "Epoch 00022: val_loss did not improve from 0.03599\n",
      "34/34 [==============================] - 94s 3s/step - loss: 0.1165 - categorical_accuracy: 0.9838 - val_loss: 0.0997 - val_categorical_accuracy: 0.9700 - lr: 1.0000e-07\n",
      "Epoch 23/30\n",
      "34/34 [==============================] - ETA: 0s - loss: 0.1181 - categorical_accuracy: 0.9912\n",
      "Epoch 00023: val_loss did not improve from 0.03599\n",
      "34/34 [==============================] - 97s 3s/step - loss: 0.1181 - categorical_accuracy: 0.9912 - val_loss: 0.2133 - val_categorical_accuracy: 0.9500 - lr: 1.0000e-07\n",
      "Epoch 24/30\n",
      "34/34 [==============================] - ETA: 0s - loss: 0.1332 - categorical_accuracy: 0.9809\n",
      "Epoch 00024: val_loss did not improve from 0.03599\n",
      "34/34 [==============================] - 102s 3s/step - loss: 0.1332 - categorical_accuracy: 0.9809 - val_loss: 0.0933 - val_categorical_accuracy: 0.9700 - lr: 1.0000e-07\n",
      "Epoch 25/30\n",
      "34/34 [==============================] - ETA: 0s - loss: 0.1376 - categorical_accuracy: 0.9809\n",
      "Epoch 00025: val_loss did not improve from 0.03599\n",
      "34/34 [==============================] - 101s 3s/step - loss: 0.1376 - categorical_accuracy: 0.9809 - val_loss: 0.1386 - val_categorical_accuracy: 0.9600 - lr: 1.0000e-07\n",
      "Epoch 26/30\n",
      "34/34 [==============================] - ETA: 0s - loss: 0.0823 - categorical_accuracy: 0.9912\n",
      "Epoch 00026: val_loss did not improve from 0.03599\n",
      "34/34 [==============================] - 102s 3s/step - loss: 0.0823 - categorical_accuracy: 0.9912 - val_loss: 0.1468 - val_categorical_accuracy: 0.9600 - lr: 1.0000e-07\n",
      "Epoch 27/30\n",
      "34/34 [==============================] - ETA: 0s - loss: 0.0817 - categorical_accuracy: 0.9941\n",
      "Epoch 00027: val_loss did not improve from 0.03599\n",
      "\n",
      "Epoch 00027: ReduceLROnPlateau reducing learning rate to 1.000000082740371e-09.\n",
      "34/34 [==============================] - 101s 3s/step - loss: 0.0817 - categorical_accuracy: 0.9941 - val_loss: 0.1118 - val_categorical_accuracy: 0.9600 - lr: 1.0000e-07\n",
      "Epoch 28/30\n",
      "34/34 [==============================] - ETA: 0s - loss: 0.0811 - categorical_accuracy: 0.9897\n",
      "Epoch 00028: val_loss did not improve from 0.03599\n",
      "34/34 [==============================] - 105s 3s/step - loss: 0.0811 - categorical_accuracy: 0.9897 - val_loss: 0.1809 - val_categorical_accuracy: 0.9700 - lr: 1.0000e-09\n",
      "Epoch 29/30\n",
      "34/34 [==============================] - ETA: 0s - loss: 0.1100 - categorical_accuracy: 0.9897\n",
      "Epoch 00029: val_loss did not improve from 0.03599\n",
      "34/34 [==============================] - 98s 3s/step - loss: 0.1100 - categorical_accuracy: 0.9897 - val_loss: 0.1663 - val_categorical_accuracy: 0.9400 - lr: 1.0000e-09\n",
      "Epoch 30/30\n",
      "34/34 [==============================] - ETA: 0s - loss: 0.1049 - categorical_accuracy: 0.9838\n",
      "Epoch 00030: val_loss did not improve from 0.03599\n",
      "34/34 [==============================] - 97s 3s/step - loss: 0.1049 - categorical_accuracy: 0.9838 - val_loss: 0.1527 - val_categorical_accuracy: 0.9600 - lr: 1.0000e-09\n"
     ]
    }
   ],
   "source": [
    "print(\"Total Params:\", model.count_params())\n",
    "trained_model_10=train_model(model)"
   ]
  },
  {
   "cell_type": "code",
   "execution_count": 19,
   "metadata": {},
   "outputs": [
    {
     "data": {
      "image/png": "[encoded data removed]",
      "text/plain": [
       "<Figure size 1080x288 with 2 Axes>"
      ]
     },
     "metadata": {
      "needs_background": "light"
     },
     "output_type": "display_data"
    }
   ],
   "source": [
    "plot(trained_model_10)"
   ]
  },
  {
   "cell_type": "markdown",
   "metadata": {},
   "source": [
    "# <b style=color:red> Selected Model ( Best Performing) </b> \n",
    "\n",
    ">Train Accuracy : .98  val Accuracy : .97\n",
    "\n",
    ">Train Loss : .11057 val Loss : .12911"
   ]
  },
  {
   "cell_type": "markdown",
   "metadata": {},
   "source": [
    "### Model 11 : Transfer Learning + mobilenet + dropout + GRU Layer + Increased Batch Size(More)¶"
   ]
  },
  {
   "cell_type": "code",
   "execution_count": 20,
   "metadata": {},
   "outputs": [
    {
     "name": "stdout",
     "output_type": "stream",
     "text": [
      "WARNING:tensorflow:`input_shape` is undefined or non-square, or `rows` is not in [128, 160, 192, 224]. Weights for input shape (224, 224) will be loaded as the default.\n"
     ]
    }
   ],
   "source": [
    "num_featuremaps = [16,32,64,128]\n",
    "num_denselayers = [64,32,5]\n",
    "num_classes = 5\n",
    "frames = 15\n",
    "dropout = 0.25\n",
    "num_epochs = 20\n",
    "\n",
    "# increasing batch Size\n",
    "batch_size = 25\n",
    "\n",
    "# Input\n",
    "input_shape=(frames,120,120,3)\n",
    "\n",
    "# Define model\n",
    "mobile_model = mobilenet.MobileNet(weights='imagenet', include_top=False)\n",
    "\n",
    "model = Sequential()\n",
    "model.add(TimeDistributed(mobile_model,input_shape=input_shape))\n",
    "\n",
    "model.add(TimeDistributed(BatchNormalization()))\n",
    "model.add(TimeDistributed(MaxPooling2D((2, 2))))\n",
    "model.add(TimeDistributed(Flatten()))\n",
    "\n",
    "model.add(GRU(64, return_sequences=False))\n",
    "model.add(Dropout(dropout))\n",
    "\n",
    "model.add(Dense(num_denselayers[1],activation='relu'))\n",
    "model.add(Dropout(dropout))\n",
    "\n",
    "# using Softmax as last layer\n",
    "model.add(Dense(num_classes, activation='softmax')) \n"
   ]
  },
  {
   "cell_type": "code",
   "execution_count": 21,
   "metadata": {},
   "outputs": [
    {
     "name": "stdout",
     "output_type": "stream",
     "text": [
      "Model: \"sequential_2\"\n",
      "_________________________________________________________________\n",
      " Layer (type)                Output Shape              Param #   \n",
      "=================================================================\n",
      " time_distributed_8 (TimeDis  (None, 15, 3, 3, 1024)   3228864   \n",
      " tributed)                                                       \n",
      "                                                                 \n",
      " time_distributed_9 (TimeDis  (None, 15, 3, 3, 1024)   4096      \n",
      " tributed)                                                       \n",
      "                                                                 \n",
      " time_distributed_10 (TimeDi  (None, 15, 1, 1, 1024)   0         \n",
      " stributed)                                                      \n",
      "                                                                 \n",
      " time_distributed_11 (TimeDi  (None, 15, 1024)         0         \n",
      " stributed)                                                      \n",
      "                                                                 \n",
      " gru_2 (GRU)                 (None, 64)                209280    \n",
      "                                                                 \n",
      " dropout_4 (Dropout)         (None, 64)                0         \n",
      "                                                                 \n",
      " dense_4 (Dense)             (None, 32)                2080      \n",
      "                                                                 \n",
      " dropout_5 (Dropout)         (None, 32)                0         \n",
      "                                                                 \n",
      " dense_5 (Dense)             (None, 5)                 165       \n",
      "                                                                 \n",
      "=================================================================\n",
      "Total params: 3,444,485\n",
      "Trainable params: 3,420,549\n",
      "Non-trainable params: 23,936\n",
      "_________________________________________________________________\n",
      "None\n"
     ]
    }
   ],
   "source": [
    "optimiser = \"Adam\" #write your optimizer\n",
    "model.compile(optimizer=optimiser, loss='categorical_crossentropy', metrics=['categorical_accuracy'])\n",
    "\n",
    "# Model Summary\n",
    "print (model.summary())\n"
   ]
  },
  {
   "cell_type": "code",
   "execution_count": 22,
   "metadata": {},
   "outputs": [
    {
     "name": "stdout",
     "output_type": "stream",
     "text": [
      "Total Params: 3444485\n",
      "WARNING:tensorflow:`period` argument is deprecated. Please use `save_freq` to specify the frequency in number of batches seen.\n",
      "Source path =  /home/datasets/Project_data/train ; batch size = 25\n"
     ]
    },
    {
     "name": "stderr",
     "output_type": "stream",
     "text": [
      "/tmp/ipykernel_433/1512965830.py:28: UserWarning: `Model.fit_generator` is deprecated and will be removed in a future version. Please use `Model.fit`, which supports generators.\n",
      "  history=model.fit_generator(train_generator, steps_per_epoch=steps_per_epoch, epochs=num_epochs, verbose=1,\n"
     ]
    },
    {
     "name": "stdout",
     "output_type": "stream",
     "text": [
      "Epoch 1/20\n",
      "27/27 [==============================] - ETA: 0s - loss: 1.2710 - categorical_accuracy: 0.5319Source path =  /home/datasets/Project_data/val ; batch size = 25\n",
      "\n",
      "Epoch 00001: val_loss improved from inf to 1.22467, saving model to model_init_2022-05-1810_43_00.579574/model-00001-1.27103-0.53185-1.22467-0.49000.h5\n",
      "27/27 [==============================] - 102s 4s/step - loss: 1.2710 - categorical_accuracy: 0.5319 - val_loss: 1.2247 - val_categorical_accuracy: 0.4900 - lr: 0.0010\n",
      "Epoch 2/20\n",
      "27/27 [==============================] - ETA: 0s - loss: 0.5864 - categorical_accuracy: 0.8459\n",
      "Epoch 00002: val_loss improved from 1.22467 to 0.73897, saving model to model_init_2022-05-1810_43_00.579574/model-00002-0.58635-0.84593-0.73897-0.67000.h5\n",
      "27/27 [==============================] - 98s 4s/step - loss: 0.5864 - categorical_accuracy: 0.8459 - val_loss: 0.7390 - val_categorical_accuracy: 0.6700 - lr: 0.0010\n",
      "Epoch 3/20\n",
      "27/27 [==============================] - ETA: 0s - loss: 0.4351 - categorical_accuracy: 0.9244\n",
      "Epoch 00003: val_loss improved from 0.73897 to 0.62065, saving model to model_init_2022-05-1810_43_00.579574/model-00003-0.43505-0.92444-0.62065-0.82000.h5\n",
      "27/27 [==============================] - 98s 4s/step - loss: 0.4351 - categorical_accuracy: 0.9244 - val_loss: 0.6206 - val_categorical_accuracy: 0.8200 - lr: 0.0010\n",
      "Epoch 4/20\n",
      "27/27 [==============================] - ETA: 0s - loss: 0.3076 - categorical_accuracy: 0.9393\n",
      "Epoch 00004: val_loss improved from 0.62065 to 0.22951, saving model to model_init_2022-05-1810_43_00.579574/model-00004-0.30757-0.93926-0.22951-0.88000.h5\n",
      "27/27 [==============================] - 88s 3s/step - loss: 0.3076 - categorical_accuracy: 0.9393 - val_loss: 0.2295 - val_categorical_accuracy: 0.8800 - lr: 0.0010\n",
      "Epoch 5/20\n",
      "27/27 [==============================] - ETA: 0s - loss: 0.2618 - categorical_accuracy: 0.9630\n",
      "Epoch 00005: val_loss did not improve from 0.22951\n",
      "27/27 [==============================] - 96s 4s/step - loss: 0.2618 - categorical_accuracy: 0.9630 - val_loss: 0.9169 - val_categorical_accuracy: 0.7500 - lr: 0.0010\n",
      "Epoch 6/20\n",
      "27/27 [==============================] - ETA: 0s - loss: 0.2824 - categorical_accuracy: 0.9704\n",
      "Epoch 00006: val_loss did not improve from 0.22951\n",
      "27/27 [==============================] - 89s 3s/step - loss: 0.2824 - categorical_accuracy: 0.9704 - val_loss: 0.4401 - val_categorical_accuracy: 0.8600 - lr: 0.0010\n",
      "Epoch 7/20\n",
      "27/27 [==============================] - ETA: 0s - loss: 0.2555 - categorical_accuracy: 0.9733\n",
      "Epoch 00007: val_loss improved from 0.22951 to 0.19590, saving model to model_init_2022-05-1810_43_00.579574/model-00007-0.25549-0.97333-0.19590-0.92000.h5\n",
      "27/27 [==============================] - 93s 4s/step - loss: 0.2555 - categorical_accuracy: 0.9733 - val_loss: 0.1959 - val_categorical_accuracy: 0.9200 - lr: 0.0010\n",
      "Epoch 8/20\n",
      "27/27 [==============================] - ETA: 0s - loss: 0.2444 - categorical_accuracy: 0.9600\n",
      "Epoch 00008: val_loss did not improve from 0.19590\n",
      "27/27 [==============================] - 92s 4s/step - loss: 0.2444 - categorical_accuracy: 0.9600 - val_loss: 0.6050 - val_categorical_accuracy: 0.8600 - lr: 0.0010\n",
      "Epoch 9/20\n",
      "27/27 [==============================] - ETA: 0s - loss: 0.2851 - categorical_accuracy: 0.9674\n",
      "Epoch 00009: val_loss did not improve from 0.19590\n",
      "27/27 [==============================] - 99s 4s/step - loss: 0.2851 - categorical_accuracy: 0.9674 - val_loss: 0.4309 - val_categorical_accuracy: 0.9000 - lr: 0.0010\n",
      "Epoch 10/20\n",
      "27/27 [==============================] - ETA: 0s - loss: 0.2360 - categorical_accuracy: 0.9689\n",
      "Epoch 00010: val_loss did not improve from 0.19590\n",
      "27/27 [==============================] - 92s 4s/step - loss: 0.2360 - categorical_accuracy: 0.9689 - val_loss: 0.2010 - val_categorical_accuracy: 0.9600 - lr: 0.0010\n",
      "Epoch 11/20\n",
      "27/27 [==============================] - ETA: 0s - loss: 0.2306 - categorical_accuracy: 0.9748\n",
      "Epoch 00011: val_loss did not improve from 0.19590\n",
      "27/27 [==============================] - 95s 4s/step - loss: 0.2306 - categorical_accuracy: 0.9748 - val_loss: 0.3385 - val_categorical_accuracy: 0.9000 - lr: 0.0010\n",
      "Epoch 12/20\n",
      "27/27 [==============================] - ETA: 0s - loss: 0.2624 - categorical_accuracy: 0.9748\n",
      "Epoch 00012: val_loss did not improve from 0.19590\n",
      "\n",
      "Epoch 00012: ReduceLROnPlateau reducing learning rate to 1.0000000474974514e-05.\n",
      "27/27 [==============================] - 95s 4s/step - loss: 0.2624 - categorical_accuracy: 0.9748 - val_loss: 0.3905 - val_categorical_accuracy: 0.9000 - lr: 0.0010\n",
      "Epoch 13/20\n",
      "27/27 [==============================] - ETA: 0s - loss: 0.2676 - categorical_accuracy: 0.9630\n",
      "Epoch 00013: val_loss did not improve from 0.19590\n",
      "27/27 [==============================] - 97s 4s/step - loss: 0.2676 - categorical_accuracy: 0.9630 - val_loss: 0.2090 - val_categorical_accuracy: 0.9400 - lr: 1.0000e-05\n",
      "Epoch 14/20\n",
      "27/27 [==============================] - ETA: 0s - loss: 0.3170 - categorical_accuracy: 0.9615\n",
      "Epoch 00014: val_loss did not improve from 0.19590\n",
      "27/27 [==============================] - 93s 4s/step - loss: 0.3170 - categorical_accuracy: 0.9615 - val_loss: 0.2313 - val_categorical_accuracy: 0.9400 - lr: 1.0000e-05\n",
      "Epoch 15/20\n",
      "27/27 [==============================] - ETA: 0s - loss: 0.2847 - categorical_accuracy: 0.9689\n",
      "Epoch 00015: val_loss improved from 0.19590 to 0.12788, saving model to model_init_2022-05-1810_43_00.579574/model-00015-0.28473-0.96889-0.12788-0.95000.h5\n",
      "27/27 [==============================] - 87s 3s/step - loss: 0.2847 - categorical_accuracy: 0.9689 - val_loss: 0.1279 - val_categorical_accuracy: 0.9500 - lr: 1.0000e-05\n",
      "Epoch 16/20\n",
      "27/27 [==============================] - ETA: 0s - loss: 0.2254 - categorical_accuracy: 0.9704\n",
      "Epoch 00016: val_loss did not improve from 0.12788\n",
      "27/27 [==============================] - 93s 4s/step - loss: 0.2254 - categorical_accuracy: 0.9704 - val_loss: 0.1328 - val_categorical_accuracy: 0.9500 - lr: 1.0000e-05\n",
      "Epoch 17/20\n",
      "27/27 [==============================] - ETA: 0s - loss: 0.2478 - categorical_accuracy: 0.9733\n",
      "Epoch 00017: val_loss did not improve from 0.12788\n",
      "27/27 [==============================] - 94s 4s/step - loss: 0.2478 - categorical_accuracy: 0.9733 - val_loss: 0.1334 - val_categorical_accuracy: 0.9400 - lr: 1.0000e-05\n",
      "Epoch 18/20\n",
      "27/27 [==============================] - ETA: 0s - loss: 0.2539 - categorical_accuracy: 0.9763\n",
      "Epoch 00018: val_loss did not improve from 0.12788\n",
      "27/27 [==============================] - 101s 4s/step - loss: 0.2539 - categorical_accuracy: 0.9763 - val_loss: 0.1538 - val_categorical_accuracy: 0.9500 - lr: 1.0000e-05\n",
      "Epoch 19/20\n",
      "27/27 [==============================] - ETA: 0s - loss: 0.2370 - categorical_accuracy: 0.9689\n",
      "Epoch 00019: val_loss improved from 0.12788 to 0.08675, saving model to model_init_2022-05-1810_43_00.579574/model-00019-0.23699-0.96889-0.08675-0.96000.h5\n",
      "27/27 [==============================] - 98s 4s/step - loss: 0.2370 - categorical_accuracy: 0.9689 - val_loss: 0.0868 - val_categorical_accuracy: 0.9600 - lr: 1.0000e-05\n",
      "Epoch 20/20\n",
      "27/27 [==============================] - ETA: 0s - loss: 0.1649 - categorical_accuracy: 0.9719\n",
      "Epoch 00020: val_loss improved from 0.08675 to 0.07827, saving model to model_init_2022-05-1810_43_00.579574/model-00020-0.16494-0.97185-0.07827-0.96000.h5\n",
      "27/27 [==============================] - 97s 4s/step - loss: 0.1649 - categorical_accuracy: 0.9719 - val_loss: 0.0783 - val_categorical_accuracy: 0.9600 - lr: 1.0000e-05\n"
     ]
    }
   ],
   "source": [
    "print(\"Total Params:\", model.count_params())\n",
    "trained_model_11=train_model(model)"
   ]
  },
  {
   "cell_type": "code",
   "execution_count": 23,
   "metadata": {},
   "outputs": [
    {
     "data": {
      "image/png": "[encoded data removed]",
      "text/plain": [
       "<Figure size 1080x288 with 2 Axes>"
      ]
     },
     "metadata": {
      "needs_background": "light"
     },
     "output_type": "display_data"
    }
   ],
   "source": [
    "plot(trained_model_11)"
   ]
  },
  {
   "cell_type": "markdown",
   "metadata": {},
   "source": [
    "> Observation : \n",
    ">> Almost Perfrom Like Last Model, val/ train accuracy is good no overfitting, but till now Model 8 is best"
   ]
  },
  {
   "cell_type": "markdown",
   "metadata": {},
   "source": [
    "# <b style=\"color:red\"> Neural Network Architecture development and training </b>"
   ]
  },
  {
   "cell_type": "markdown",
   "metadata": {},
   "source": [
    ">•\tWe started by building a basic CNN+RNN model without using any dropouts. GRU was selected as it has fewer parameters than LSTM, as it lacks an output gate. \n",
    "\n",
    ">•\tWe experimented with different models by using different model configurations and hyperparameters such as introducing dropouts, using L2 regularization in combination with different optimizers.\n",
    "\n",
    ">•\tWe also experimented with SGD() and Adam() optimizers but finally used Adam() as it lead to improvement in model’s accuracy. Due to the limited computational capacity we could not experiment with  other optimizers such as Adagrad and Adadelta as these take a lot of time to run.\n",
    "\n",
    ">•\tWe also played around with different learning rates and ReduceLROnPlateau was used to decrease the learning rate .\n",
    "\n",
    ">•\tTo overcome the issue of overfitting we used Batch Normalization, pooling and dropout layers.\n",
    "\n",
    ">•\tThen we used Conv3D and experimented with different model configurations to arrive at the final model.\n"
   ]
  },
  {
   "cell_type": "markdown",
   "metadata": {},
   "source": [
    "# <b style=\"color:red\"> Observations </b>"
   ]
  },
  {
   "cell_type": "markdown",
   "metadata": {},
   "source": [
    ">•\tThe training time increased in proportion with the number of trainable parameters.\n",
    "\n",
    ">•\tA large batch size value was giving GPU Out of memory error. So we started with a batch size of 15 and gradually moved till batch size of 25. A small batch helped reducing training time but it had a trade off on model accuracy.\n",
    "\n",
    ">•\tTransfer learning boosted the overall accuracy of the model. We made use of the Resnet50 ,VGGNET and MobileNet Architecture . We took the model with MobileNet architecture as the final model due to its light weight design and high speed performance coupled with low maintenance as compared to other well-known architectures like VGG16, AlexNet, GoogleNet etc. \n"
   ]
  },
  {
   "cell_type": "code",
   "execution_count": null,
   "metadata": {},
   "outputs": [],
   "source": []
  },
  {
   "cell_type": "markdown",
   "metadata": {},
   "source": [
    "# <b style=\"color:red\"> Further suggestions for improvement: </b>\n",
    "\n",
    ">•\tData augmentation : Exploration by building model over augmented data(flipped,rotated) could have resulted into deeper insight of the model performance.\n",
    "\n",
    ">•\tTuning Hyperparamaters : Experimentation with different hyperparameters such as different activation functions such as , Leaky ReLU,  tanh, sigmoid, optimizers like Adagrad and Adadelta, combination of different hyperparameters like dropouts, filter size, paddings, stride length etc. can further help in boosting performance.\n",
    "\n"
   ]
  },
  {
   "cell_type": "code",
   "execution_count": 24,
   "metadata": {},
   "outputs": [],
   "source": [
    "#from tensorflow import keras\n",
    "#model = keras.models.load_model('model_init_2022-05-1810_43_00.579574/model-00013-0.11057-0.98971-0.12911-0.97000.h5')"
   ]
  },
  {
   "cell_type": "code",
   "execution_count": 25,
   "metadata": {},
   "outputs": [
    {
     "name": "stdout",
     "output_type": "stream",
     "text": [
      "Model: \"sequential_1\"\n",
      "_________________________________________________________________\n",
      " Layer (type)                Output Shape              Param #   \n",
      "=================================================================\n",
      " time_distributed_4 (TimeDis  (None, 15, 3, 3, 1024)   3228864   \n",
      " tributed)                                                       \n",
      "                                                                 \n",
      " time_distributed_5 (TimeDis  (None, 15, 3, 3, 1024)   4096      \n",
      " tributed)                                                       \n",
      "                                                                 \n",
      " time_distributed_6 (TimeDis  (None, 15, 1, 1, 1024)   0         \n",
      " tributed)                                                       \n",
      "                                                                 \n",
      " time_distributed_7 (TimeDis  (None, 15, 1024)         0         \n",
      " tributed)                                                       \n",
      "                                                                 \n",
      " gru_1 (GRU)                 (None, 64)                209280    \n",
      "                                                                 \n",
      " dropout_2 (Dropout)         (None, 64)                0         \n",
      "                                                                 \n",
      " dense_2 (Dense)             (None, 32)                2080      \n",
      "                                                                 \n",
      " dropout_3 (Dropout)         (None, 32)                0         \n",
      "                                                                 \n",
      " dense_3 (Dense)             (None, 5)                 165       \n",
      "                                                                 \n",
      "=================================================================\n",
      "Total params: 3,444,485\n",
      "Trainable params: 3,420,549\n",
      "Non-trainable params: 23,936\n",
      "_________________________________________________________________\n"
     ]
    }
   ],
   "source": [
    "#model.summary()"
   ]
  },
  {
   "cell_type": "markdown",
   "metadata": {},
   "source": [
    "############################################## END OF PROJECT ##############################################"
   ]
  }
 ],
 "metadata": {
  "kernelspec": {
   "display_name": "Python 3 (ipykernel)",
   "language": "python",
   "name": "python3"
  },
  "language_info": {
   "codemirror_mode": {
    "name": "ipython",
    "version": 3
   },
   "file_extension": ".py",
   "mimetype": "text/x-python",
   "name": "python",
   "nbconvert_exporter": "python",
   "pygments_lexer": "ipython3",
   "version": "3.9.7"
  }
 },
 "nbformat": 4,
 "nbformat_minor": 4
}
